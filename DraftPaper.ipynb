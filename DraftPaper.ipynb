{
 "cells": [
  {
   "cell_type": "markdown",
   "metadata": {},
   "source": [
    "Predicting the probability of default of peer-to-peer loans \n",
    "====\n",
    "\n",
    "### What is the question you hope to answer?\n",
    "\n",
    "The goal of this project is to combine data on ratings & default rates of peer-to-peer loans arranged through Lending Club with publically available data on unemployment & housing costs to improve the prediction of default rates on these loans. \n",
    "\n",
    "Lending Club operates an online lending platform that enables borrowers to obtain a loan, and investors to purchase notes backed by payments made on loans. Lending Club is the world's largest peer-to-peer lending platform. \n",
    "\n",
    "\n",
    "Specifically, if I can identify positive or negative trends in unemployment and cost of living (rent), I hope that these will improve my ability to predict rate of return and/or the default rate compared to only using Lending Club's data.\n",
    "\n",
    "\n",
    "### Available data\n",
    "\n",
    "Lending Club publishes \"complete loan data for all loans issued \", available for download as csv files. This includes information supplied about the borrower, amount of loan, loan grade, and loan purpose.\n",
    "\n",
    "In addition, the data include information on the borrower's employment, living arrangement (rent/mortgage), & geographic location as well. \n",
    "\n",
    "I plan to take advantage of these items by combining them with data from 2 additional sources:\n",
    "\n",
    "- Zillow publishes their data on both home values (ZHVI) and median rents (ZRI) by geographic area.\n",
    "\n",
    "- The Bureau of Labor Statistics has published data on employment in multiple formats broken down by zip code & sector, [available as csv files](http://download.bls.gov/pub/time.series/overview.txt)\n",
    "\n",
    "These data are available for download as csv files.\n",
    "\n"
   ]
  },
  {
   "cell_type": "markdown",
   "metadata": {},
   "source": [
    "## Lending Club data preprocessing\n",
    "\n",
    "Raw data files from Lending Club are in the form of 4 csv files, available from [their website](https://www.lendingclub.com/info/download-data.action). Steps to reproduce this analysys are as follows:\n",
    "\n",
    "1. Copy the following files to the data/lc directory of the repository, and run [`lc-combine-files.py`](lc-combine-files.py). This generates a single csv file (`LoanStats-combined.csv`) of the concatenated split files.\n",
    "\n",
    "    - `LoanStats3a.csv`\n",
    "    - `LoanStats3b.csv`\n",
    "    - `LoanStats3c.csv`\n",
    "    - `LoanStats3d.csv`\n",
    "\n",
    "2. Run the notebook [`lc-data-processing2`](lc-data-processing2) This generates a single csv file (`LoanStats-combined2.csv`) with processed features, ready for analysis/modeling. The Lending Club data has 111 columns that represent a combination of features. An initial scan of the data dictionary revealed my response column ('loan_status'), as well as a 'grade' column strongly correlated with the status [(see the `project1.ipynb` notebook](project1.ipynb) for details.\n",
    "\n",
    "\n"
   ]
  },
  {
   "cell_type": "markdown",
   "metadata": {},
   "source": [
    "## Lending Club data analysis\n",
    "\n",
    "The most detailed discussion of my analysis at this point is in the file \n",
    "[`lc-model1.ipynb`](lc-model1.ipynb.ipynb). This should be up to date, although the data file is not currently accessible on my github account. You'd have to recreate the data file using the data preprocessing steps listed above."
   ]
  },
  {
   "cell_type": "markdown",
   "metadata": {},
   "source": [
    "## Remaining Steps\n",
    "\n",
    "- My initial pass in [`lc-data-processing2.ipynb`](lc-data-processing2.ipynb) only includes a subset of the features. By adding in more features to the analysis I hope to imporove the model performance. \n",
    "\n",
    "- Add in the rental rate/mortgage rate info and see if the model performance improves"
   ]
  },
  {
   "cell_type": "code",
   "execution_count": null,
   "metadata": {
    "collapsed": true
   },
   "outputs": [],
   "source": []
  }
 ],
 "metadata": {
  "kernelspec": {
   "display_name": "Python 2",
   "language": "python",
   "name": "python2"
  },
  "language_info": {
   "codemirror_mode": {
    "name": "ipython",
    "version": 2
   },
   "file_extension": ".py",
   "mimetype": "text/x-python",
   "name": "python",
   "nbconvert_exporter": "python",
   "pygments_lexer": "ipython2",
   "version": "2.7.11"
  }
 },
 "nbformat": 4,
 "nbformat_minor": 0
}
