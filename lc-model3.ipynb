{
 "cells": [
  {
   "cell_type": "markdown",
   "metadata": {},
   "source": [
    "## Load the most processed version of the data file"
   ]
  },
  {
   "cell_type": "code",
   "execution_count": 4,
   "metadata": {
    "collapsed": false
   },
   "outputs": [],
   "source": [
    "import time\n",
    "import sys\n",
    "import numpy as np\n",
    "import pandas as pd"
   ]
  },
  {
   "cell_type": "code",
   "execution_count": 5,
   "metadata": {
    "collapsed": false
   },
   "outputs": [
    {
     "name": "stderr",
     "output_type": "stream",
     "text": [
      "/Users/stephane/anaconda/lib/python2.7/site-packages/IPython/core/interactiveshell.py:2723: DtypeWarning: Columns (19,47,55) have mixed types. Specify dtype option on import or set low_memory=False.\n",
      "  interactivity=interactivity, compiler=compiler, result=result)\n"
     ]
    },
    {
     "name": "stdout",
     "output_type": "stream",
     "text": [
      "2095270415 bytes loaded in 25.011 secs\n",
      "(887382, 150)\n"
     ]
    }
   ],
   "source": [
    "#takes about 40 secs to load\n",
    "path = 'data/processed/LoanStats-combined-z-2.csv'\n",
    "t1 = time.time()\n",
    "df = pd.read_csv(path)\n",
    "t2 = time.time()\n",
    "print \"{} bytes loaded in {:0.3f} secs\".format(sys.getsizeof(df),t2-t1)\n",
    "print df.shape\n"
   ]
  },
  {
   "cell_type": "markdown",
   "metadata": {},
   "source": [
    "## Finally, create a list of features for fitting a model\n",
    "\n",
    "As a first pass, I'm only pulling out numeric features. Text processing can be added later."
   ]
  },
  {
   "cell_type": "code",
   "execution_count": 44,
   "metadata": {
    "collapsed": false
   },
   "outputs": [
    {
     "name": "stdout",
     "output_type": "stream",
     "text": [
      "non-numeric cols:\n",
      "set(['grade', 'application_type', 'emp_length', 'last_credit_pull_d', 'emp_title', 'verification_status_joint', 'title', 'initial_list_status', 'next_pymnt_d', 'earliest_cr_line', 'zip_code', 'verification_status', 'last_pymnt_d', 'sub_grade', 'pymnt_plan', 'purpose', 'addr_state', 'desc', 'term', 'url', 'revol_util', 'int_rate', 'loan_status', 'home_ownership', 'issue_d'])\n",
      "numeric feature cols (125):\n",
      "['lc_id', 'member_id', 'loan_amnt', 'funded_amnt', 'funded_amnt_inv', 'installment', 'annual_inc', 'dti', 'delinq_2yrs', 'inq_last_6mths', 'mths_since_last_delinq', 'mths_since_last_record', 'open_acc', 'pub_rec', 'revol_bal', 'total_acc', 'out_prncp', 'out_prncp_inv', 'total_pymnt', 'total_pymnt_inv', 'total_rec_prncp', 'total_rec_int', 'total_rec_late_fee', 'recoveries', 'collection_recovery_fee', 'last_pymnt_amnt', 'collections_12_mths_ex_med', 'mths_since_last_major_derog', 'policy_code', 'annual_inc_joint', 'dti_joint', 'acc_now_delinq', 'tot_coll_amt', 'tot_cur_bal', 'open_acc_6m', 'open_il_6m', 'open_il_12m', 'open_il_24m', 'mths_since_rcnt_il', 'total_bal_il', 'il_util', 'open_rv_12m', 'open_rv_24m', 'max_bal_bc', 'all_util', 'total_rev_hi_lim', 'inq_fi', 'total_cu_tl', 'inq_last_12m', 'acc_open_past_24mths', 'avg_cur_bal', 'bc_open_to_buy', 'bc_util', 'chargeoff_within_12_mths', 'delinq_amnt', 'mo_sin_old_il_acct', 'mo_sin_old_rev_tl_op', 'mo_sin_rcnt_rev_tl_op', 'mo_sin_rcnt_tl', 'mort_acc', 'mths_since_recent_bc', 'mths_since_recent_bc_dlq', 'mths_since_recent_inq', 'mths_since_recent_revol_delinq', 'num_accts_ever_120_pd', 'num_actv_bc_tl', 'num_actv_rev_tl', 'num_bc_sats', 'num_bc_tl', 'num_il_tl', 'num_op_rev_tl', 'num_rev_accts', 'num_rev_tl_bal_gt_0', 'num_sats', 'num_tl_120dpd_2m', 'num_tl_30dpd', 'num_tl_90g_dpd_24m', 'num_tl_op_past_12m', 'pct_tl_nvr_dlq', 'percent_bc_gt_75', 'pub_rec_bankruptcies', 'tax_liens', 'tot_hi_cred_lim', 'total_bal_ex_mort', 'total_bc_limit', 'total_il_high_credit_limit', 'lc_zip3', 'zil_coef', 'zil_interc', 'home_ownership_ANY', 'home_ownership_MORTGAGE', 'home_ownership_NONE', 'home_ownership_OTHER', 'home_ownership_OWN', 'home_ownership_RENT', 'verification_status_Not Verified', 'verification_status_Source Verified', 'verification_status_Verified', 'pymnt_plan_n', 'pymnt_plan_y', 'purpose_car', 'purpose_credit_card', 'purpose_debt_consolidation', 'purpose_educational', 'purpose_home_improvement', 'purpose_house', 'purpose_major_purchase', 'purpose_medical', 'purpose_moving', 'purpose_other', 'purpose_renewable_energy', 'purpose_small_business', 'purpose_vacation', 'purpose_wedding', 'initial_list_status_f', 'initial_list_status_w', 'application_type_INDIVIDUAL', 'application_type_JOINT', 'verification_status_joint_Not Verified', 'verification_status_joint_Source Verified', 'verification_status_joint_Verified', 'term_num', 'emp_length_num', 'loan_status_num', 'grade_num']\n"
     ]
    }
   ],
   "source": [
    "# I spent an unnecessary amount of time figuring out how to do this, and it turns out there's  a builtin for it...\n",
    "working_feature_cols=list(df._get_numeric_data().columns) \n",
    "print \"non-numeric cols:\"\n",
    "print set(df.columns) - set(working_feature_cols)\n",
    "# remove cols we won't use for model fitting\n",
    "skip_cols = [\n",
    "    'lc_id', 'member_id', 'loan_status_num', 'grade_num',\n",
    "    'collection_recovery_fee',\n",
    "    'out_prncp',\n",
    "    'out_prncp_inv',\n",
    "    'pymnt_plan',\n",
    "    'recoveries',\n",
    "    'sub_grade',\n",
    "    'total_pymnt',\n",
    "    'total_pymnt_inv',\n",
    "    'total_rec_int',\n",
    "    'total_rec_late_fee',\n",
    "    'total_rec_prncp',\n",
    "    ]\n",
    "zil_cols = ['zil_coef', 'zil_interc']\n",
    "all_features = list(set(working_feature_cols)-set(skip_cols)-set(zil_cols))\n",
    "all_featuresz = list(set(working_feature_cols)-set(skip_cols))\n",
    "print \"numeric feature cols ({}):\".format(len(working_feature_cols))\n",
    "print working_feature_cols"
   ]
  },
  {
   "cell_type": "markdown",
   "metadata": {},
   "source": [
    "## After all that, finally ready to try to fit something?"
   ]
  },
  {
   "cell_type": "code",
   "execution_count": 45,
   "metadata": {
    "collapsed": true
   },
   "outputs": [],
   "source": [
    "%matplotlib inline\n",
    "import seaborn as sns\n",
    "import matplotlib.pyplot as plt\n",
    "from sklearn.linear_model import LogisticRegression\n",
    "from sklearn.cross_validation import train_test_split\n",
    "from sklearn import metrics\n"
   ]
  },
  {
   "cell_type": "code",
   "execution_count": 134,
   "metadata": {
    "collapsed": true
   },
   "outputs": [],
   "source": [
    "# 20000,33,2\n",
    "parms_sample_size = 20000\n",
    "random_state_resample = 33\n",
    "random_state2_tts = 2"
   ]
  },
  {
   "cell_type": "markdown",
   "metadata": {},
   "source": [
    "### Initially, downsample the DataFrame for quicker testing\n",
    "\n",
    "This also filters out rows with no zillow zip code, and rows who's loan status is different from what we want"
   ]
  },
  {
   "cell_type": "code",
   "execution_count": 135,
   "metadata": {
    "collapsed": false
   },
   "outputs": [
    {
     "name": "stdout",
     "output_type": "stream",
     "text": [
      "887382\n",
      "True     604545\n",
      "False    282837\n",
      "dtype: int64\n",
      "(20000, 150)\n"
     ]
    }
   ],
   "source": [
    "validindexlist=((df.loan_status_num == 1) | (df.loan_status_num == 0)) & (~np.isnan(df.zil_coef))\n",
    "# use random_state = 33 for unbridled success!\n",
    "minidf=df[validindexlist].sample(n=parms_sample_size,random_state=random_state_resample).fillna(0)\n",
    "#validindexlist2=((df.loan_status_num == 1) | (df.loan_status_num == 0)) & (~np.isnan(df.zil_coef))\n",
    "#minidf2=df[validindexlist2].sample(n=10000,random_state=33).fillna(0)\n",
    "minidf.sort_values(by='grade_num',inplace=True)\n",
    "print len(validindexlist)\n",
    "print validindexlist.value_counts()\n",
    "print minidf.shape"
   ]
  },
  {
   "cell_type": "markdown",
   "metadata": {},
   "source": [
    "### Okay setup X and y for analysis:"
   ]
  },
  {
   "cell_type": "code",
   "execution_count": 136,
   "metadata": {
    "collapsed": false
   },
   "outputs": [
    {
     "name": "stdout",
     "output_type": "stream",
     "text": [
      "<class 'pandas.core.frame.DataFrame'> (20000, 110)\n",
      "<class 'pandas.core.frame.DataFrame'> (20000, 112)\n",
      "<class 'pandas.core.series.Series'> (20000,)\n",
      "False    20000\n",
      "Name: loan_status_num, dtype: int64\n",
      "done\n"
     ]
    }
   ],
   "source": [
    "#X = df[num_cols][validindexlist].fillna(0)\n",
    "#X = pd.DataFrame(minidf['grade_num'][validindexlist].fillna(0)) # just grade num, like before\n",
    "#X = pd.DataFrame(\n",
    "#    df[(list(['grade_num'])+num_cols)[0:10]][validindexlist].fillna(0)) # new vals + grade_num\n",
    "# X = pd.DataFrame(minidf[num_cols[0:10]][validindexlist].fillna(0)) # just a few new features\n",
    "X = minidf[all_features]\n",
    "Xz = minidf[all_featuresz]\n",
    "y = minidf.loan_status_num\n",
    "print type(X) ,X.shape\n",
    "print type(Xz) ,Xz.shape\n",
    "print type(y), y.shape\n",
    "print np.isnan(y).value_counts()\n",
    "print 'done'"
   ]
  },
  {
   "cell_type": "markdown",
   "metadata": {},
   "source": [
    "## Maybe make a quick attempt to find best estimators"
   ]
  },
  {
   "cell_type": "code",
   "execution_count": 137,
   "metadata": {
    "collapsed": true
   },
   "outputs": [],
   "source": [
    "from sklearn.feature_selection import SelectKBest, f_regression\n",
    "numfeaturestofind = 50"
   ]
  },
  {
   "cell_type": "code",
   "execution_count": 138,
   "metadata": {
    "collapsed": false
   },
   "outputs": [
    {
     "name": "stdout",
     "output_type": "stream",
     "text": [
      "[  2   4  10  11  12  18  19  20  22  23  25  27  29  30  31  33  36  40\n",
      "  42  44  45  47  48  49  55  56  57  65  71  73  75  77  78  80  81  82\n",
      "  83  84  85  87  88  89  90  91  92  94  95  97  98 100]\n",
      "Index([u'inq_last_6mths', u'num_sats', u'mths_since_recent_bc', u'avg_cur_bal',\n",
      "       u'total_bal_ex_mort', u'mths_since_last_major_derog', u'num_op_rev_tl',\n",
      "       u'num_actv_rev_tl', u'mo_sin_old_il_acct', u'num_rev_accts',\n",
      "       u'verification_status_Verified', u'max_bal_bc', u'num_bc_tl',\n",
      "       u'open_il_24m', u'pct_tl_nvr_dlq', u'total_rev_hi_lim',\n",
      "       u'total_bc_limit', u'term_num', u'open_rv_12m', u'all_util',\n",
      "       u'mo_sin_rcnt_rev_tl_op', u'mths_since_recent_inq', u'tot_hi_cred_lim',\n",
      "       u'open_rv_24m', u'annual_inc', u'last_pymnt_amnt', u'num_il_tl',\n",
      "       u'num_bc_sats', u'mths_since_recent_revol_delinq',\n",
      "       u'total_il_high_credit_limit', u'inq_last_12m', u'mo_sin_rcnt_tl',\n",
      "       u'purpose_small_business', u'tot_cur_bal', u'num_rev_tl_bal_gt_0',\n",
      "       u'home_ownership_RENT', u'total_acc', u'total_bal_il',\n",
      "       u'mo_sin_old_rev_tl_op', u'emp_length_num', u'purpose_credit_card',\n",
      "       u'open_il_6m', u'verification_status_Not Verified',\n",
      "       u'home_ownership_MORTGAGE', u'mort_acc', u'initial_list_status_w',\n",
      "       u'num_actv_bc_tl', u'bc_open_to_buy', u'initial_list_status_f',\n",
      "       u'il_util'],\n",
      "      dtype='object')\n"
     ]
    }
   ],
   "source": [
    "selector = SelectKBest(f_regression, k=numfeaturestofind).fit(X, y)\n",
    "best_features = selector.get_support(indices=True)\n",
    "print(best_features)\n",
    "print X.columns[best_features]"
   ]
  },
  {
   "cell_type": "code",
   "execution_count": 139,
   "metadata": {
    "collapsed": false
   },
   "outputs": [
    {
     "name": "stdout",
     "output_type": "stream",
     "text": [
      "[  2   4  10  11  12  16  19  20  21  23  24  26  28  29  31  32  33  34\n",
      "  38  42  44  47  49  50  51  57  58  59  65  67  73  74  75  79  80  82\n",
      "  83  84  86  87  89  90  91  92  93  94  96  98  99 101]\n",
      "Index([u'inq_last_6mths', u'num_sats', u'mths_since_recent_bc', u'avg_cur_bal',\n",
      "       u'total_bal_ex_mort', u'open_il_6m', u'mths_since_last_major_derog',\n",
      "       u'num_op_rev_tl', u'num_actv_rev_tl', u'mo_sin_old_il_acct',\n",
      "       u'num_rev_accts', u'verification_status_Verified', u'max_bal_bc',\n",
      "       u'total_bal_il', u'num_bc_tl', u'open_il_24m', u'pct_tl_nvr_dlq',\n",
      "       u'purpose_small_business', u'total_bc_limit', u'term_num',\n",
      "       u'open_rv_12m', u'mo_sin_rcnt_rev_tl_op', u'mths_since_recent_inq',\n",
      "       u'tot_hi_cred_lim', u'open_rv_24m', u'annual_inc', u'last_pymnt_amnt',\n",
      "       u'num_il_tl', u'all_util', u'num_bc_sats',\n",
      "       u'mths_since_recent_revol_delinq', u'total_acc',\n",
      "       u'total_il_high_credit_limit', u'mo_sin_rcnt_tl', u'total_rev_hi_lim',\n",
      "       u'tot_cur_bal', u'num_rev_tl_bal_gt_0', u'home_ownership_RENT',\n",
      "       u'inq_last_12m', u'mo_sin_old_rev_tl_op', u'emp_length_num',\n",
      "       u'purpose_credit_card', u'num_actv_bc_tl',\n",
      "       u'verification_status_Not Verified', u'home_ownership_MORTGAGE',\n",
      "       u'mort_acc', u'initial_list_status_w', u'bc_open_to_buy',\n",
      "       u'initial_list_status_f', u'il_util'],\n",
      "      dtype='object')\n"
     ]
    }
   ],
   "source": [
    "selector = SelectKBest(f_regression, k=numfeaturestofind).fit(Xz, y)\n",
    "best_featuresz = selector.get_support(indices=True)\n",
    "print(best_featuresz)\n",
    "print Xz.columns[best_featuresz]"
   ]
  },
  {
   "cell_type": "code",
   "execution_count": 140,
   "metadata": {
    "collapsed": false
   },
   "outputs": [
    {
     "name": "stdout",
     "output_type": "stream",
     "text": [
      "set([])\n",
      "set([])\n"
     ]
    }
   ],
   "source": [
    "print set(X.columns[best_features]) - set(Xz.columns[best_featuresz])\n",
    "print set(Xz.columns[best_featuresz]) - set(X.columns[best_features])\n"
   ]
  },
  {
   "cell_type": "markdown",
   "metadata": {},
   "source": [
    "## To begin, use GridSearchCV to  Fit a bunch of logregs & find best estimator\n",
    "\n"
   ]
  },
  {
   "cell_type": "code",
   "execution_count": 141,
   "metadata": {
    "collapsed": true
   },
   "outputs": [],
   "source": [
    "from sklearn.cross_validation import cross_val_score\n",
    "from sklearn.grid_search import GridSearchCV\n",
    "from sklearn.cross_validation import train_test_split\n",
    "from operator import itemgetter\n",
    "\n",
    "#scores = cross_val_score(logreg, X, y, cv=10, scoring='accuracy')\n",
    "# from \n",
    "# http://scikit-learn.org/stable/auto_examples/model_selection/randomized_search.html\n",
    "# example-model-selection-randomized-search-py\n",
    "# Utility function to report best scores\n",
    "def report(grid_scores, n_top=3):\n",
    "    top_scores = sorted(grid_scores, key=itemgetter(1), reverse=True)[:n_top]\n",
    "    for i, score in enumerate(top_scores):\n",
    "        print(\"Model with rank: {0}\".format(i + 1))\n",
    "        print(\"Mean validation score: {0:.3f} (std: {1:.3f})\".format(\n",
    "              score.mean_validation_score,\n",
    "              np.std(score.cv_validation_scores)))\n",
    "        print(\"Parameters: {0}\".format(score.parameters))\n",
    "        print(\"\")"
   ]
  },
  {
   "cell_type": "code",
   "execution_count": 142,
   "metadata": {
    "collapsed": false
   },
   "outputs": [
    {
     "name": "stdout",
     "output_type": "stream",
     "text": [
      "True\n",
      "True\n"
     ]
    }
   ],
   "source": [
    "# random_state = 2 was pretty good\n",
    "X_train, X_test, y_train, y_test = train_test_split(X, y, random_state=random_state2_tts)\n",
    "Xz_train, Xz_test, yz_train, yz_test = train_test_split(Xz, y, random_state=random_state2_tts)\n",
    "print all(y_train == yz_train)\n",
    "print all(yz_test == y_test)"
   ]
  },
  {
   "cell_type": "markdown",
   "metadata": {},
   "source": [
    "### Here's the meat, takes a little longer to run:"
   ]
  },
  {
   "cell_type": "code",
   "execution_count": 143,
   "metadata": {
    "collapsed": false
   },
   "outputs": [
    {
     "name": "stdout",
     "output_type": "stream",
     "text": [
      "GridSearchCV took 69.03 seconds for 7 candidate parameter settings.\n",
      "Without Zillow:\n",
      "Model with rank: 1\n",
      "Mean validation score: 0.936 (std: 0.000)\n",
      "Parameters: {'C': 0.1}\n",
      "\n",
      "With Zillow:\n",
      "Model with rank: 1\n",
      "Mean validation score: 0.937 (std: 0.000)\n",
      "Parameters: {'C': 1}\n",
      "\n"
     ]
    }
   ],
   "source": [
    "logreg = LogisticRegression()\n",
    "logregz = LogisticRegression()\n",
    "param_grid = {'C': [0.001, 0.01, 0.1, 1, 10, 100, 1000] }\n",
    "\n",
    "# run grid search\n",
    "grid_search = GridSearchCV(logreg, param_grid=param_grid)\n",
    "grid_searchz = GridSearchCV(logregz, param_grid=param_grid)\n",
    "start = time.time()\n",
    "grid_search.fit(X_train, y_train)\n",
    "grid_searchz.fit(Xz_train, yz_train)\n",
    "\n",
    "print(\"GridSearchCV took %.2f seconds for %d candidate parameter settings.\"\n",
    "      % (time.time() - start, len(grid_search.grid_scores_)))\n",
    "print \"Without Zillow:\"\n",
    "report(grid_search.grid_scores_,n_top=1)\n",
    "print \"With Zillow:\"\n",
    "report(grid_searchz.grid_scores_,n_top=1)\n",
    "logreg = grid_search.best_estimator_\n",
    "logregz = grid_searchz.best_estimator_\n"
   ]
  },
  {
   "cell_type": "markdown",
   "metadata": {},
   "source": [
    "## Okay, how did the model do?"
   ]
  },
  {
   "cell_type": "code",
   "execution_count": 113,
   "metadata": {
    "collapsed": false
   },
   "outputs": [],
   "source": [
    "from sklearn.cross_validation import cross_val_predict\n",
    "#y_pred_class = cross_val_predict(logreg, X, y, cv=10)\n",
    "y_pred_class = grid_search.predict(X_test)\n",
    "yz_pred_class = grid_searchz.predict(Xz_test)\n",
    "y_pred_prob = grid_search.predict_proba(X_test)[:,1]\n",
    "yz_pred_prob = grid_searchz.predict_proba(Xz_test)[:,1]\n"
   ]
  },
  {
   "cell_type": "code",
   "execution_count": 114,
   "metadata": {
    "collapsed": false
   },
   "outputs": [
    {
     "name": "stdout",
     "output_type": "stream",
     "text": [
      "percent of loans successful in y_test: 4688/5000 = 0.9376\n",
      "0.9372\n"
     ]
    }
   ],
   "source": [
    "#y_test = y\n",
    "print \"percent of loans successful in y_test: {}/{} = {}\".format(\n",
    "    y_test[y_test == 1].count(), y_test.count(),\n",
    "    float(y_test[y_test == 1].count())/ y_test.count() )\n",
    "print metrics.accuracy_score(y_test,y_pred_class)"
   ]
  },
  {
   "cell_type": "code",
   "execution_count": 144,
   "metadata": {
    "collapsed": false
   },
   "outputs": [
    {
     "name": "stdout",
     "output_type": "stream",
     "text": [
      "percent of loans successful in y_test: 4688/5000 = 0.9376\n",
      "percent of loans predicted to be successful: 4998.0/5000 = 0.9996\n",
      "percent of loans predicted to be successful with zillow: 4997.0/5000 = 0.9994\n",
      "2 [2342, 4735]\n",
      "3 [2048, 2342, 4735]\n",
      "done\n"
     ]
    }
   ],
   "source": [
    "print \"percent of loans successful in y_test: {}/{} = {}\".format(\n",
    "    y_test[y_test == 1].count(), y_test.count(),\n",
    "    float(y_test[y_test == 1].count())/ y_test.count() )\n",
    "print \"percent of loans predicted to be successful: {}/{} = {}\".format(\n",
    "    y_pred_class.sum() , len(y_pred_class),\n",
    "    float(y_pred_class.sum())/len(y_pred_class))\n",
    "                                                                 \n",
    "print \"percent of loans predicted to be successful with zillow: {}/{} = {}\".format(\n",
    "    yz_pred_class.sum() , len(yz_pred_class),\n",
    "    float(yz_pred_class.sum())/len(yz_pred_class))\n",
    "                                                                 \n",
    "a = [i for i,x in enumerate(y_pred_class) if x != 1] # false predictions\n",
    "print len(a), a\n",
    "az = [i for i,x in enumerate(yz_pred_class) if x != 1] # false predictions\n",
    "print len(az), az\n",
    "#print y.iloc[a]\n",
    "#print logreg2.classes_\n",
    "#print y_pred_prob[a]\n",
    "#print y_pred_prob[0:3]\n",
    "\n",
    "print 'done'"
   ]
  },
  {
   "cell_type": "markdown",
   "metadata": {},
   "source": [
    "### (this will be a good spot for a confusion matrix)"
   ]
  },
  {
   "cell_type": "code",
   "execution_count": 145,
   "metadata": {
    "collapsed": false
   },
   "outputs": [
    {
     "name": "stdout",
     "output_type": "stream",
     "text": [
      "[[   0  312]\n",
      " [   2 4686]]\n",
      "[[   0  312]\n",
      " [   3 4685]]\n",
      "True Positives: 4686\n",
      "True Negatives: 0\n",
      "False Positives: 312\n",
      "False Negatives: 2\n",
      "Sensitivity: 0.99957337884%\n",
      "Sensitivity(z): 0.999360068259%\n",
      "Specificity: 0.0%\n",
      "Specificity(z): 0.0%\n"
     ]
    }
   ],
   "source": [
    "# save confusion matrix and slice into four pieces\n",
    "confusion = metrics.confusion_matrix(y_test, y_pred_class)\n",
    "confusionz = metrics.confusion_matrix(yz_test, yz_pred_class)\n",
    "print confusion\n",
    "print confusionz\n",
    "TP = confusion[1][1]\n",
    "TN = confusion[0][0]\n",
    "FP = confusion[0][1]\n",
    "FN = confusion[1][0]\n",
    "print 'True Positives:', TP\n",
    "print 'True Negatives:', TN\n",
    "print 'False Positives:', FP\n",
    "print 'False Negatives:', FN\n",
    "# calculate the sensitivity\n",
    "print \"Sensitivity: {}%\".format(TP / float(TP + FN))\n",
    "#print \"Sensitivity(z): {}%\".format(confusionz[1][1]/float(confusionz[1][1]+confusionz[1][0]))\n",
    "print \"Sensitivity(z): {}%\".format(confusionz[1][1]/float(confusionz[1].sum()))\n",
    "# calculate the specificity\n",
    "print \"Specificity: {}%\".format(TN / float(TN + FP))\n",
    "print \"Specificity(z): {}%\".format(confusionz[0][0] / float(confusionz[0][0] + confusionz[0][1]))\n"
   ]
  },
  {
   "cell_type": "code",
   "execution_count": 122,
   "metadata": {
    "collapsed": false
   },
   "outputs": [
    {
     "data": {
      "text/plain": [
       "array([<matplotlib.axes._subplots.AxesSubplot object at 0x121b05dd0>,\n",
       "       <matplotlib.axes._subplots.AxesSubplot object at 0x11f4e6e50>], dtype=object)"
      ]
     },
     "execution_count": 122,
     "metadata": {},
     "output_type": "execute_result"
    },
    {
     "data": {
      "image/png": "[encoded data removed]",
      "text/plain": [
       "<matplotlib.figure.Figure at 0x116694110>"
      ]
     },
     "metadata": {},
     "output_type": "display_data"
    }
   ],
   "source": [
    "tempdf = pd.DataFrame({'probability':y_pred_prob, 'actual':y_test})\n",
    "tempdf.hist(column='probability', by='actual', sharex=True, sharey=True)"
   ]
  },
  {
   "cell_type": "code",
   "execution_count": 146,
   "metadata": {
    "collapsed": false
   },
   "outputs": [
    {
     "name": "stdout",
     "output_type": "stream",
     "text": [
      "0.732655525291\n",
      "0.892924063396\n"
     ]
    },
    {
     "data": {
      "image/png": "[encoded data removed]",
      "text/plain": [
       "<matplotlib.figure.Figure at 0x114845210>"
      ]
     },
     "metadata": {},
     "output_type": "display_data"
    }
   ],
   "source": [
    "# ROC curve \n",
    "fpr, tpr, thresholds = metrics.roc_curve(y_test, y_pred_prob)\n",
    "plt.plot(fpr, tpr,label = \"ROC curve\")\n",
    "thresh_i = np.where(thresholds>.5)[0][-1]\n",
    "plt.plot(fpr[thresh_i],tpr[thresh_i],'ro',label = 'thresh == .5')\n",
    "thresh2 = np.where(fpr>.6)[0][0]\n",
    "plt.plot(fpr[thresh2],tpr[thresh2],'go',label = 'thresh == .89')\n",
    "plt.xlim([0,1.05])\n",
    "plt.ylim([0,1.05])\n",
    "plt.legend(loc=\"lower right\")\n",
    "plt.xlabel('False Positive Rate')\n",
    "plt.ylabel('True Positive Rate')\n",
    "print metrics.roc_auc_score(y_test, y_pred_prob)\n",
    "print thresholds[fpr>.6][0]"
   ]
  },
  {
   "cell_type": "code",
   "execution_count": null,
   "metadata": {
    "collapsed": false
   },
   "outputs": [],
   "source": [
    "print type(tpr)\n",
    "plt.plot(thresholds,tpr)\n",
    "print thresholds[0:10]\n",
    "print tpr[np.where(thresholds>.5)[0][-1]]\n",
    "print tpr[thresholds>.5][-1]"
   ]
  },
  {
   "cell_type": "markdown",
   "metadata": {},
   "source": [
    "### To check results of the fit, plot the predicted probabilities\n",
    "\n",
    "This was a first attempt to view a correlation between the predicted probabilities and the outcomes of the loans. I hoped to see more 'defaults' (black points) toward the left, at the lower probabilities. However this graph didn't work very well."
   ]
  },
  {
   "cell_type": "code",
   "execution_count": null,
   "metadata": {
    "collapsed": false
   },
   "outputs": [],
   "source": [
    "sis = y_pred_prob.argsort()\n",
    "colormap = np.array(['r', 'k'])\n",
    "plt.figure(figsize=(16, 3))\n",
    "plt.scatter(range(len(y_pred_prob)),y_pred_prob[sis],color=colormap[list(y_test.iloc[sis])])\n",
    "plt.xlim([0,len(y_test)])\n",
    "#plt.scatter(range(len(y_test)),y_test.iloc[sis],color=colormap[list(y_test.iloc[sis])])\n",
    "print type(y_test)\n",
    "\n",
    "print len(y_test),len(sis)\n",
    "print max(y_test),min(y_test)\n",
    "print y_test.shape,sis.shape,len(y_test[sis]),y_test[sis].shape"
   ]
  },
  {
   "cell_type": "markdown",
   "metadata": {},
   "source": [
    "### Second attempt to evaluate the model graphically\n",
    "\n",
    "This graph shows a boxplot of predicted probabilities broken down into 2 groups based on outcome. It is clear that 'successful' loans (loan_status_num ==1) have a higher distribution of predicted probabilites than 'unsuccessful' loans (loan_status_num == 0)."
   ]
  },
  {
   "cell_type": "code",
   "execution_count": null,
   "metadata": {
    "collapsed": false
   },
   "outputs": [],
   "source": [
    "# merge these things into a single dataframe for plotting:\n",
    "testdf=pd.concat([X_test,y_test,pd.DataFrame(y_pred_prob,columns=['y_pred_prob'])],axis=1)\n",
    "testdf.boxplot(column='y_pred_prob',by='loan_status_num')\n",
    "print testdf.loan_status_num.value_counts()"
   ]
  },
  {
   "cell_type": "code",
   "execution_count": null,
   "metadata": {
    "collapsed": false
   },
   "outputs": [],
   "source": [
    "grouped = testdf.groupby('loan_status_num')\n",
    "grouped.y_pred_prob.quantile([.25, .5, .75, 1])\n"
   ]
  },
  {
   "cell_type": "code",
   "execution_count": null,
   "metadata": {
    "collapsed": false
   },
   "outputs": [],
   "source": [
    "#plt.scatter(df.grade_num,df.loan_status_num,label='loan status')\n",
    "#plt.plot(df2.grade_num,df2.loan_status_pred_num,color='red')\n",
    "#plt.plot(X_test['grade_num'].sort_values(),y_pred_class,color='red')\n",
    "#plt.setp(plt.gca(), xticklabels=gradenames, xticks = gradenums)\n",
    "#plt.setp(plt.gca(), yticklabels=np.arange(0,1.2,.2), yticks = np.arange(0,1.2,.2))\n",
    "#plt.setp(plt.gca(),title = 'Predicted loan status, test set')"
   ]
  },
  {
   "cell_type": "markdown",
   "metadata": {},
   "source": [
    "## next..."
   ]
  },
  {
   "cell_type": "code",
   "execution_count": null,
   "metadata": {
    "collapsed": false
   },
   "outputs": [],
   "source": [
    "print 'done'"
   ]
  },
  {
   "cell_type": "code",
   "execution_count": null,
   "metadata": {
    "collapsed": false
   },
   "outputs": [],
   "source": [
    "#print total_success_rate\n",
    "print \"percent of loans successful in y_test: {}/{} = {}\".format(y_test[y_test == 1].count(), y_test.count(),\n",
    "                                                       float(y_test[y_test == 1].count())/ y_test.count() )\n",
    "print \"logreg class prediction accuracy:\" , metrics.accuracy_score(y_test, y_pred_class)\n",
    "print \"guess all successful accuracy: \", metrics.accuracy_score(y_test,[1]*len(y_test))"
   ]
  },
  {
   "cell_type": "code",
   "execution_count": null,
   "metadata": {
    "collapsed": false
   },
   "outputs": [],
   "source": [
    "grouped=minidf.groupby('grade')\n",
    "probs=grouped.loan_status_num.sum()/grouped.loan_status_num.count()\n",
    "print probs"
   ]
  },
  {
   "cell_type": "code",
   "execution_count": null,
   "metadata": {
    "collapsed": false
   },
   "outputs": [],
   "source": [
    "fig,ax = plt.subplots()\n",
    "width=.4\n",
    "xlocs=np.arange(0,7)\n",
    "ax.bar(xlocs-width,grouped.loan_status_num.sum(),width,color='k')\n",
    "ax.set_xticks(xlocs)\n",
    "ax.set_xticklabels(sorted(minidf.grade.unique()))\n",
    "ax.bar(\n",
    "        xlocs,grouped.loan_status_num.apply(lambda item: (item == 0).sum()),width,\n",
    "        color='r')\n",
    "ax.set_title('Loan status by grade')"
   ]
  },
  {
   "cell_type": "code",
   "execution_count": null,
   "metadata": {
    "collapsed": false
   },
   "outputs": [],
   "source": [
    "#df2['loan_status_pred_prob']=logreg.predict_proba(X)[:,1]\n",
    "plt.scatter(minidf.grade_num,minidf.loan_status_num)"
   ]
  },
  {
   "cell_type": "code",
   "execution_count": null,
   "metadata": {
    "collapsed": false
   },
   "outputs": [],
   "source": [
    "#plt.plot(minidf.grade_num,minidf.loan_status_pred_prob,color='red')\n",
    "X_test_s=minidf.sort_values(by='grade_num').grade_num.reshape(-1,1)\n",
    "plt.plot(X_test_s,logreg.predict_proba(X_test_s)[:,1],color='red')\n",
    "\n",
    "plt.plot(probs,'go-')"
   ]
  },
  {
   "cell_type": "code",
   "execution_count": null,
   "metadata": {
    "collapsed": true
   },
   "outputs": [],
   "source": []
  }
 ],
 "metadata": {
  "kernelspec": {
   "display_name": "Python 2",
   "language": "python",
   "name": "python2"
  },
  "language_info": {
   "codemirror_mode": {
    "name": "ipython",
    "version": 2
   },
   "file_extension": ".py",
   "mimetype": "text/x-python",
   "name": "python",
   "nbconvert_exporter": "python",
   "pygments_lexer": "ipython2",
   "version": "2.7.11"
  }
 },
 "nbformat": 4,
 "nbformat_minor": 0
}
