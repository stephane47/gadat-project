{
 "cells": [
  {
   "cell_type": "markdown",
   "metadata": {},
   "source": [
    "## Load the most processed version of the data file"
   ]
  },
  {
   "cell_type": "code",
   "execution_count": 4,
   "metadata": {
    "collapsed": false
   },
   "outputs": [],
   "source": [
    "import time\n",
    "import sys\n",
    "import numpy as np\n",
    "import pandas as pd"
   ]
  },
  {
   "cell_type": "code",
   "execution_count": 5,
   "metadata": {
    "collapsed": false
   },
   "outputs": [
    {
     "name": "stderr",
     "output_type": "stream",
     "text": [
      "/Users/stephane/anaconda/lib/python2.7/site-packages/IPython/core/interactiveshell.py:2723: DtypeWarning: Columns (19,47,55) have mixed types. Specify dtype option on import or set low_memory=False.\n",
      "  interactivity=interactivity, compiler=compiler, result=result)\n"
     ]
    },
    {
     "name": "stdout",
     "output_type": "stream",
     "text": [
      "2095270415 bytes loaded in 25.011 secs\n",
      "(887382, 150)\n"
     ]
    }
   ],
   "source": [
    "#takes about 40 secs to load\n",
    "path = 'data/processed/LoanStats-combined-z-2.csv'\n",
    "t1 = time.time()\n",
    "df = pd.read_csv(path)\n",
    "t2 = time.time()\n",
    "print \"{} bytes loaded in {:0.3f} secs\".format(sys.getsizeof(df),t2-t1)\n",
    "print df.shape\n"
   ]
  },
  {
   "cell_type": "markdown",
   "metadata": {},
   "source": [
    "## Finally, create a list of features for fitting a model\n",
    "\n",
    "As a first pass, I'm only pulling out numeric features. Text processing can be added later."
   ]
  },
  {
   "cell_type": "code",
   "execution_count": 154,
   "metadata": {
    "collapsed": false
   },
   "outputs": [
    {
     "name": "stdout",
     "output_type": "stream",
     "text": [
      "non-numeric cols (25):\n",
      "set(['grade', 'application_type', 'emp_length', 'last_credit_pull_d', 'emp_title', 'verification_status_joint', 'title', 'initial_list_status', 'next_pymnt_d', 'earliest_cr_line', 'zip_code', 'verification_status', 'last_pymnt_d', 'sub_grade', 'pymnt_plan', 'purpose', 'addr_state', 'desc', 'term', 'url', 'revol_util', 'int_rate', 'loan_status', 'home_ownership', 'issue_d'])\n",
      "numeric feature cols (125):\n",
      "['lc_id', 'member_id', 'loan_amnt', 'funded_amnt', 'funded_amnt_inv', 'installment', 'annual_inc', 'dti', 'delinq_2yrs', 'inq_last_6mths', 'mths_since_last_delinq', 'mths_since_last_record', 'open_acc', 'pub_rec', 'revol_bal', 'total_acc', 'out_prncp', 'out_prncp_inv', 'total_pymnt', 'total_pymnt_inv', 'total_rec_prncp', 'total_rec_int', 'total_rec_late_fee', 'recoveries', 'collection_recovery_fee', 'last_pymnt_amnt', 'collections_12_mths_ex_med', 'mths_since_last_major_derog', 'policy_code', 'annual_inc_joint', 'dti_joint', 'acc_now_delinq', 'tot_coll_amt', 'tot_cur_bal', 'open_acc_6m', 'open_il_6m', 'open_il_12m', 'open_il_24m', 'mths_since_rcnt_il', 'total_bal_il', 'il_util', 'open_rv_12m', 'open_rv_24m', 'max_bal_bc', 'all_util', 'total_rev_hi_lim', 'inq_fi', 'total_cu_tl', 'inq_last_12m', 'acc_open_past_24mths', 'avg_cur_bal', 'bc_open_to_buy', 'bc_util', 'chargeoff_within_12_mths', 'delinq_amnt', 'mo_sin_old_il_acct', 'mo_sin_old_rev_tl_op', 'mo_sin_rcnt_rev_tl_op', 'mo_sin_rcnt_tl', 'mort_acc', 'mths_since_recent_bc', 'mths_since_recent_bc_dlq', 'mths_since_recent_inq', 'mths_since_recent_revol_delinq', 'num_accts_ever_120_pd', 'num_actv_bc_tl', 'num_actv_rev_tl', 'num_bc_sats', 'num_bc_tl', 'num_il_tl', 'num_op_rev_tl', 'num_rev_accts', 'num_rev_tl_bal_gt_0', 'num_sats', 'num_tl_120dpd_2m', 'num_tl_30dpd', 'num_tl_90g_dpd_24m', 'num_tl_op_past_12m', 'pct_tl_nvr_dlq', 'percent_bc_gt_75', 'pub_rec_bankruptcies', 'tax_liens', 'tot_hi_cred_lim', 'total_bal_ex_mort', 'total_bc_limit', 'total_il_high_credit_limit', 'lc_zip3', 'zil_coef', 'zil_interc', 'home_ownership_ANY', 'home_ownership_MORTGAGE', 'home_ownership_NONE', 'home_ownership_OTHER', 'home_ownership_OWN', 'home_ownership_RENT', 'verification_status_Not Verified', 'verification_status_Source Verified', 'verification_status_Verified', 'pymnt_plan_n', 'pymnt_plan_y', 'purpose_car', 'purpose_credit_card', 'purpose_debt_consolidation', 'purpose_educational', 'purpose_home_improvement', 'purpose_house', 'purpose_major_purchase', 'purpose_medical', 'purpose_moving', 'purpose_other', 'purpose_renewable_energy', 'purpose_small_business', 'purpose_vacation', 'purpose_wedding', 'initial_list_status_f', 'initial_list_status_w', 'application_type_INDIVIDUAL', 'application_type_JOINT', 'verification_status_joint_Not Verified', 'verification_status_joint_Source Verified', 'verification_status_joint_Verified', 'term_num', 'emp_length_num', 'loan_status_num', 'grade_num']\n"
     ]
    }
   ],
   "source": [
    "# I spent an unnecessary amount of time figuring out how to do this, and it turns out there's  a builtin for it...\n",
    "working_feature_cols=list(df._get_numeric_data().columns) \n",
    "print \"non-numeric cols ({}):\".format(len(set(df.columns) - set(working_feature_cols)))\n",
    "print set(df.columns) - set(working_feature_cols)\n",
    "# remove cols we won't use for model fitting\n",
    "skip_cols = [\n",
    "    'lc_id', 'member_id', 'loan_status_num', 'grade_num',\n",
    "    'collection_recovery_fee',\n",
    "    'out_prncp',\n",
    "    'out_prncp_inv',\n",
    "    'pymnt_plan',\n",
    "    'recoveries',\n",
    "    'sub_grade',\n",
    "    'total_pymnt',\n",
    "    'total_pymnt_inv',\n",
    "    'total_rec_int',\n",
    "    'total_rec_late_fee',\n",
    "    'total_rec_prncp',\n",
    "    ]\n",
    "zil_cols = ['zil_coef', 'zil_interc']\n",
    "all_features = list(set(working_feature_cols)-set(skip_cols)-set(zil_cols))\n",
    "all_featuresz = list(set(working_feature_cols)-set(skip_cols))\n",
    "print \"numeric feature cols ({}):\".format(len(working_feature_cols))\n",
    "print working_feature_cols"
   ]
  },
  {
   "cell_type": "markdown",
   "metadata": {},
   "source": [
    "## After all that, finally ready to try to fit something?"
   ]
  },
  {
   "cell_type": "code",
   "execution_count": 45,
   "metadata": {
    "collapsed": true
   },
   "outputs": [],
   "source": [
    "%matplotlib inline\n",
    "import seaborn as sns\n",
    "import matplotlib.pyplot as plt\n",
    "from sklearn.linear_model import LogisticRegression\n",
    "from sklearn.cross_validation import train_test_split\n",
    "from sklearn import metrics\n"
   ]
  },
  {
   "cell_type": "markdown",
   "metadata": {},
   "source": [
    "### Set some default parms"
   ]
  },
  {
   "cell_type": "code",
   "execution_count": 134,
   "metadata": {
    "collapsed": true
   },
   "outputs": [],
   "source": [
    "# 20000,33,2\n",
    "parms_sample_size = 20000\n",
    "random_state_resample = 33\n",
    "random_state2_tts = 2"
   ]
  },
  {
   "cell_type": "markdown",
   "metadata": {},
   "source": [
    "### Initially, downsample the DataFrame for quicker testing\n",
    "\n",
    "This also filters out rows with no zillow zip code, and rows who's loan status is different from what we want"
   ]
  },
  {
   "cell_type": "code",
   "execution_count": 135,
   "metadata": {
    "collapsed": false
   },
   "outputs": [
    {
     "name": "stdout",
     "output_type": "stream",
     "text": [
      "887382\n",
      "True     604545\n",
      "False    282837\n",
      "dtype: int64\n",
      "(20000, 150)\n"
     ]
    }
   ],
   "source": [
    "validindexlist=((df.loan_status_num == 1) | (df.loan_status_num == 0)) & (~np.isnan(df.zil_coef))\n",
    "# use random_state = 33 for unbridled success!\n",
    "minidf=df[validindexlist].sample(n=parms_sample_size,random_state=random_state_resample).fillna(0)\n",
    "#validindexlist2=((df.loan_status_num == 1) | (df.loan_status_num == 0)) & (~np.isnan(df.zil_coef))\n",
    "#minidf2=df[validindexlist2].sample(n=10000,random_state=33).fillna(0)\n",
    "minidf.sort_values(by='grade_num',inplace=True)\n",
    "print len(validindexlist)\n",
    "print validindexlist.value_counts()\n",
    "print minidf.shape"
   ]
  },
  {
   "cell_type": "markdown",
   "metadata": {},
   "source": [
    "### Okay setup X and y for analysis:"
   ]
  },
  {
   "cell_type": "code",
   "execution_count": 136,
   "metadata": {
    "collapsed": false
   },
   "outputs": [
    {
     "name": "stdout",
     "output_type": "stream",
     "text": [
      "<class 'pandas.core.frame.DataFrame'> (20000, 110)\n",
      "<class 'pandas.core.frame.DataFrame'> (20000, 112)\n",
      "<class 'pandas.core.series.Series'> (20000,)\n",
      "False    20000\n",
      "Name: loan_status_num, dtype: int64\n",
      "done\n"
     ]
    }
   ],
   "source": [
    "#X = df[num_cols][validindexlist].fillna(0)\n",
    "#X = pd.DataFrame(minidf['grade_num'][validindexlist].fillna(0)) # just grade num, like before\n",
    "#X = pd.DataFrame(\n",
    "#    df[(list(['grade_num'])+num_cols)[0:10]][validindexlist].fillna(0)) # new vals + grade_num\n",
    "# X = pd.DataFrame(minidf[num_cols[0:10]][validindexlist].fillna(0)) # just a few new features\n",
    "X = minidf[all_features]\n",
    "Xz = minidf[all_featuresz]\n",
    "y = minidf.loan_status_num\n",
    "print type(X) ,X.shape\n",
    "print type(Xz) ,Xz.shape\n",
    "print type(y), y.shape\n",
    "print np.isnan(y).value_counts()\n",
    "print 'done'"
   ]
  },
  {
   "cell_type": "markdown",
   "metadata": {},
   "source": [
    "## Maybe make a quick attempt to find best estimators"
   ]
  },
  {
   "cell_type": "code",
   "execution_count": 137,
   "metadata": {
    "collapsed": true
   },
   "outputs": [],
   "source": [
    "from sklearn.feature_selection import SelectKBest, f_regression\n",
    "numfeaturestofind = 50"
   ]
  },
  {
   "cell_type": "code",
   "execution_count": 138,
   "metadata": {
    "collapsed": false
   },
   "outputs": [
    {
     "name": "stdout",
     "output_type": "stream",
     "text": [
      "[  2   4  10  11  12  18  19  20  22  23  25  27  29  30  31  33  36  40\n",
      "  42  44  45  47  48  49  55  56  57  65  71  73  75  77  78  80  81  82\n",
      "  83  84  85  87  88  89  90  91  92  94  95  97  98 100]\n",
      "Index([u'inq_last_6mths', u'num_sats', u'mths_since_recent_bc', u'avg_cur_bal',\n",
      "       u'total_bal_ex_mort', u'mths_since_last_major_derog', u'num_op_rev_tl',\n",
      "       u'num_actv_rev_tl', u'mo_sin_old_il_acct', u'num_rev_accts',\n",
      "       u'verification_status_Verified', u'max_bal_bc', u'num_bc_tl',\n",
      "       u'open_il_24m', u'pct_tl_nvr_dlq', u'total_rev_hi_lim',\n",
      "       u'total_bc_limit', u'term_num', u'open_rv_12m', u'all_util',\n",
      "       u'mo_sin_rcnt_rev_tl_op', u'mths_since_recent_inq', u'tot_hi_cred_lim',\n",
      "       u'open_rv_24m', u'annual_inc', u'last_pymnt_amnt', u'num_il_tl',\n",
      "       u'num_bc_sats', u'mths_since_recent_revol_delinq',\n",
      "       u'total_il_high_credit_limit', u'inq_last_12m', u'mo_sin_rcnt_tl',\n",
      "       u'purpose_small_business', u'tot_cur_bal', u'num_rev_tl_bal_gt_0',\n",
      "       u'home_ownership_RENT', u'total_acc', u'total_bal_il',\n",
      "       u'mo_sin_old_rev_tl_op', u'emp_length_num', u'purpose_credit_card',\n",
      "       u'open_il_6m', u'verification_status_Not Verified',\n",
      "       u'home_ownership_MORTGAGE', u'mort_acc', u'initial_list_status_w',\n",
      "       u'num_actv_bc_tl', u'bc_open_to_buy', u'initial_list_status_f',\n",
      "       u'il_util'],\n",
      "      dtype='object')\n"
     ]
    }
   ],
   "source": [
    "selector = SelectKBest(f_regression, k=numfeaturestofind).fit(X, y)\n",
    "best_features = selector.get_support(indices=True)\n",
    "print(best_features)\n",
    "print X.columns[best_features]"
   ]
  },
  {
   "cell_type": "code",
   "execution_count": 139,
   "metadata": {
    "collapsed": false
   },
   "outputs": [
    {
     "name": "stdout",
     "output_type": "stream",
     "text": [
      "[  2   4  10  11  12  16  19  20  21  23  24  26  28  29  31  32  33  34\n",
      "  38  42  44  47  49  50  51  57  58  59  65  67  73  74  75  79  80  82\n",
      "  83  84  86  87  89  90  91  92  93  94  96  98  99 101]\n",
      "Index([u'inq_last_6mths', u'num_sats', u'mths_since_recent_bc', u'avg_cur_bal',\n",
      "       u'total_bal_ex_mort', u'open_il_6m', u'mths_since_last_major_derog',\n",
      "       u'num_op_rev_tl', u'num_actv_rev_tl', u'mo_sin_old_il_acct',\n",
      "       u'num_rev_accts', u'verification_status_Verified', u'max_bal_bc',\n",
      "       u'total_bal_il', u'num_bc_tl', u'open_il_24m', u'pct_tl_nvr_dlq',\n",
      "       u'purpose_small_business', u'total_bc_limit', u'term_num',\n",
      "       u'open_rv_12m', u'mo_sin_rcnt_rev_tl_op', u'mths_since_recent_inq',\n",
      "       u'tot_hi_cred_lim', u'open_rv_24m', u'annual_inc', u'last_pymnt_amnt',\n",
      "       u'num_il_tl', u'all_util', u'num_bc_sats',\n",
      "       u'mths_since_recent_revol_delinq', u'total_acc',\n",
      "       u'total_il_high_credit_limit', u'mo_sin_rcnt_tl', u'total_rev_hi_lim',\n",
      "       u'tot_cur_bal', u'num_rev_tl_bal_gt_0', u'home_ownership_RENT',\n",
      "       u'inq_last_12m', u'mo_sin_old_rev_tl_op', u'emp_length_num',\n",
      "       u'purpose_credit_card', u'num_actv_bc_tl',\n",
      "       u'verification_status_Not Verified', u'home_ownership_MORTGAGE',\n",
      "       u'mort_acc', u'initial_list_status_w', u'bc_open_to_buy',\n",
      "       u'initial_list_status_f', u'il_util'],\n",
      "      dtype='object')\n"
     ]
    }
   ],
   "source": [
    "selector = SelectKBest(f_regression, k=numfeaturestofind).fit(Xz, y)\n",
    "best_featuresz = selector.get_support(indices=True)\n",
    "print(best_featuresz)\n",
    "print Xz.columns[best_featuresz]"
   ]
  },
  {
   "cell_type": "code",
   "execution_count": 140,
   "metadata": {
    "collapsed": false
   },
   "outputs": [
    {
     "name": "stdout",
     "output_type": "stream",
     "text": [
      "set([])\n",
      "set([])\n"
     ]
    }
   ],
   "source": [
    "print set(X.columns[best_features]) - set(Xz.columns[best_featuresz])\n",
    "print set(Xz.columns[best_featuresz]) - set(X.columns[best_features])\n"
   ]
  },
  {
   "cell_type": "markdown",
   "metadata": {},
   "source": [
    "## To begin, use GridSearchCV to  Fit a bunch of logregs & find best estimator\n",
    "\n"
   ]
  },
  {
   "cell_type": "code",
   "execution_count": 141,
   "metadata": {
    "collapsed": true
   },
   "outputs": [],
   "source": [
    "from sklearn.cross_validation import cross_val_score\n",
    "from sklearn.grid_search import GridSearchCV\n",
    "from sklearn.cross_validation import train_test_split\n",
    "from operator import itemgetter\n",
    "\n",
    "#scores = cross_val_score(logreg, X, y, cv=10, scoring='accuracy')\n",
    "# from \n",
    "# http://scikit-learn.org/stable/auto_examples/model_selection/randomized_search.html\n",
    "# example-model-selection-randomized-search-py\n",
    "# Utility function to report best scores\n",
    "def report(grid_scores, n_top=3):\n",
    "    top_scores = sorted(grid_scores, key=itemgetter(1), reverse=True)[:n_top]\n",
    "    for i, score in enumerate(top_scores):\n",
    "        print(\"Model with rank: {0}\".format(i + 1))\n",
    "        print(\"Mean validation score: {0:.3f} (std: {1:.3f})\".format(\n",
    "              score.mean_validation_score,\n",
    "              np.std(score.cv_validation_scores)))\n",
    "        print(\"Parameters: {0}\".format(score.parameters))\n",
    "        print(\"\")"
   ]
  },
  {
   "cell_type": "markdown",
   "metadata": {},
   "source": [
    "### Setup the X & y variables"
   ]
  },
  {
   "cell_type": "code",
   "execution_count": 142,
   "metadata": {
    "collapsed": false
   },
   "outputs": [
    {
     "name": "stdout",
     "output_type": "stream",
     "text": [
      "True\n",
      "True\n"
     ]
    }
   ],
   "source": [
    "# random_state = 2 was pretty good\n",
    "X_train, X_test, y_train, y_test = train_test_split(X, y, random_state=random_state2_tts)\n",
    "Xz_train, Xz_test, yz_train, yz_test = train_test_split(Xz, y, random_state=random_state2_tts)\n",
    "print all(y_train == yz_train)\n",
    "print all(yz_test == y_test)"
   ]
  },
  {
   "cell_type": "markdown",
   "metadata": {},
   "source": [
    "### Here's the meat, takes a little longer to run:"
   ]
  },
  {
   "cell_type": "code",
   "execution_count": null,
   "metadata": {
    "collapsed": true
   },
   "outputs": [],
   "source": [
    "logreg = LogisticRegression()\n",
    "logregz = LogisticRegression()\n",
    "param_grid = {'C': [0.001, 0.01, 0.1, 1, 10, 100, 1000] }\n",
    "\n",
    "# run grid search\n",
    "grid_search = GridSearchCV(logreg, param_grid=param_grid)\n",
    "grid_searchz = GridSearchCV(logregz, param_grid=param_grid)\n",
    "start = time.time()\n",
    "grid_search.fit(X_train, y_train)\n",
    "grid_searchz.fit(Xz_train, yz_train)\n",
    "\n",
    "print(\"GridSearchCV took %.2f seconds for %d candidate parameter settings.\"\n",
    "      % (time.time() - start, len(grid_search.grid_scores_)))"
   ]
  },
  {
   "cell_type": "markdown",
   "metadata": {},
   "source": [
    "## Okay, how did the models do?"
   ]
  },
  {
   "cell_type": "code",
   "execution_count": 143,
   "metadata": {
    "collapsed": false
   },
   "outputs": [
    {
     "name": "stdout",
     "output_type": "stream",
     "text": [
      "GridSearchCV took 69.03 seconds for 7 candidate parameter settings.\n",
      "Without Zillow:\n",
      "Model with rank: 1\n",
      "Mean validation score: 0.936 (std: 0.000)\n",
      "Parameters: {'C': 0.1}\n",
      "\n",
      "With Zillow:\n",
      "Model with rank: 1\n",
      "Mean validation score: 0.937 (std: 0.000)\n",
      "Parameters: {'C': 1}\n",
      "\n"
     ]
    }
   ],
   "source": [
    "print \"Without Zillow:\"\n",
    "report(grid_search.grid_scores_,n_top=1)\n",
    "print \"With Zillow:\"\n",
    "report(grid_searchz.grid_scores_,n_top=1)\n",
    "logreg = grid_search.best_estimator_\n",
    "logregz = grid_searchz.best_estimator_"
   ]
  },
  {
   "cell_type": "markdown",
   "metadata": {},
   "source": [
    "### Check predictions\n"
   ]
  },
  {
   "cell_type": "code",
   "execution_count": 113,
   "metadata": {
    "collapsed": false
   },
   "outputs": [],
   "source": [
    "from sklearn.cross_validation import cross_val_predict\n",
    "#y_pred_class = cross_val_predict(logreg, X, y, cv=10)\n",
    "y_pred_class = grid_search.predict(X_test)\n",
    "yz_pred_class = grid_searchz.predict(Xz_test)\n",
    "y_pred_prob = grid_search.predict_proba(X_test)[:,1]\n",
    "yz_pred_prob = grid_searchz.predict_proba(Xz_test)[:,1]\n"
   ]
  },
  {
   "cell_type": "code",
   "execution_count": 114,
   "metadata": {
    "collapsed": false
   },
   "outputs": [
    {
     "name": "stdout",
     "output_type": "stream",
     "text": [
      "percent of loans successful in y_test: 4688/5000 = 0.9376\n",
      "0.9372\n"
     ]
    }
   ],
   "source": [
    "#y_test = y\n",
    "print \"percent of loans successful in y_test: {}/{} = {}\".format(\n",
    "    y_test[y_test == 1].count(), y_test.count(),\n",
    "    float(y_test[y_test == 1].count())/ y_test.count() )\n",
    "print metrics.accuracy_score(y_test,y_pred_class)"
   ]
  },
  {
   "cell_type": "code",
   "execution_count": 144,
   "metadata": {
    "collapsed": false
   },
   "outputs": [
    {
     "name": "stdout",
     "output_type": "stream",
     "text": [
      "percent of loans successful in y_test: 4688/5000 = 0.9376\n",
      "percent of loans predicted to be successful: 4998.0/5000 = 0.9996\n",
      "percent of loans predicted to be successful with zillow: 4997.0/5000 = 0.9994\n",
      "2 [2342, 4735]\n",
      "3 [2048, 2342, 4735]\n",
      "done\n"
     ]
    }
   ],
   "source": [
    "print \"percent of loans successful in y_test: {}/{} = {}\".format(\n",
    "    y_test[y_test == 1].count(), y_test.count(),\n",
    "    float(y_test[y_test == 1].count())/ y_test.count() )\n",
    "print \"percent of loans predicted to be successful: {}/{} = {}\".format(\n",
    "    y_pred_class.sum() , len(y_pred_class),\n",
    "    float(y_pred_class.sum())/len(y_pred_class))\n",
    "                                                                 \n",
    "print \"percent of loans predicted to be successful with zillow: {}/{} = {}\".format(\n",
    "    yz_pred_class.sum() , len(yz_pred_class),\n",
    "    float(yz_pred_class.sum())/len(yz_pred_class))\n",
    "                                                                 \n",
    "a = [i for i,x in enumerate(y_pred_class) if x != 1] # false predictions\n",
    "print len(a), a\n",
    "az = [i for i,x in enumerate(yz_pred_class) if x != 1] # false predictions\n",
    "print len(az), az\n",
    "#print y.iloc[a]\n",
    "#print logreg2.classes_\n",
    "#print y_pred_prob[a]\n",
    "#print y_pred_prob[0:3]\n",
    "\n",
    "print 'done'"
   ]
  },
  {
   "cell_type": "markdown",
   "metadata": {},
   "source": [
    "## Confusion matrix interpretation"
   ]
  },
  {
   "cell_type": "code",
   "execution_count": 153,
   "metadata": {
    "collapsed": false
   },
   "outputs": [
    {
     "name": "stdout",
     "output_type": "stream",
     "text": [
      "Confusion matrix (No Zillow):\n",
      "[[   0  312]\n",
      " [   2 4686]]\n",
      "Confusion matrix (With Zillow):\n",
      "[[   0  312]\n",
      " [   3 4685]]\n",
      "\n",
      "['TN', 'FN']\n",
      "['FP', 'TP'] \n",
      "\n",
      "Sensitivity: 0.99957337884%\n",
      "Sensitivity(z): 0.999360068259%\n",
      "Specificity: 0.0%\n",
      "Specificity(z): 0.0%\n"
     ]
    }
   ],
   "source": [
    "# save confusion matrix and slice into four pieces\n",
    "confusion = metrics.confusion_matrix(y_test, y_pred_class)\n",
    "confusionz = metrics.confusion_matrix(yz_test, yz_pred_class)\n",
    "\n",
    "print \"Confusion matrix (No Zillow):\"\n",
    "print confusion\n",
    "print \"Confusion matrix (With Zillow):\"\n",
    "print confusionz\n",
    "\n",
    "print \"\\n\" , ['TN','FN']\n",
    "print ['FP','TP'], \"\\n\"\n",
    "\n",
    "TP = confusion[1][1]\n",
    "TN = confusion[0][0]\n",
    "FP = confusion[0][1]\n",
    "FN = confusion[1][0]\n",
    "#print 'True Positives:', TP\n",
    "#print 'True Negatives:', TN\n",
    "#print 'False Positives:', FP\n",
    "#print 'False Negatives:', FN\n",
    "# calculate the sensitivity\n",
    "print \"Sensitivity: {}%\".format(TP / float(TP + FN))\n",
    "#print \"Sensitivity(z): {}%\".format(confusionz[1][1]/float(confusionz[1][1]+confusionz[1][0]))\n",
    "print \"Sensitivity(z): {}%\".format(confusionz[1][1]/float(confusionz[1].sum()))\n",
    "# calculate the specificity\n",
    "print \"Specificity: {}%\".format(TN / float(TN + FP))\n",
    "print \"Specificity(z): {}%\".format(confusionz[0][0] / float(confusionz[0][0] + confusionz[0][1]))\n"
   ]
  },
  {
   "cell_type": "code",
   "execution_count": 122,
   "metadata": {
    "collapsed": false
   },
   "outputs": [
    {
     "data": {
      "text/plain": [
       "array([<matplotlib.axes._subplots.AxesSubplot object at 0x121b05dd0>,\n",
       "       <matplotlib.axes._subplots.AxesSubplot object at 0x11f4e6e50>], dtype=object)"
      ]
     },
     "execution_count": 122,
     "metadata": {},
     "output_type": "execute_result"
    },
    {
     "data": {
      "image/png": "[encoded data removed]",
      "text/plain": [
       "<matplotlib.figure.Figure at 0x116694110>"
      ]
     },
     "metadata": {},
     "output_type": "display_data"
    }
   ],
   "source": [
    "tempdf = pd.DataFrame({'probability':y_pred_prob, 'actual':y_test})\n",
    "tempdf.hist(column='probability', by='actual', sharex=True, sharey=True)"
   ]
  },
  {
   "cell_type": "code",
   "execution_count": 196,
   "metadata": {
    "collapsed": false
   },
   "outputs": [
    {
     "name": "stdout",
     "output_type": "stream",
     "text": [
      "AUC score without: 0.732655525291\n",
      "AUC score with: 0.735702721624\n"
     ]
    },
    {
     "data": {
      "image/png": "[encoded data removed]",
      "text/plain": [
       "<matplotlib.figure.Figure at 0x1258c5e10>"
      ]
     },
     "metadata": {},
     "output_type": "display_data"
    }
   ],
   "source": [
    "# ROC curve \n",
    "fpr, tpr, thresholds = metrics.roc_curve(y_test, y_pred_prob)\n",
    "plt.plot(fpr, tpr,'-b',label = \"ROC curve\")\n",
    "fprz, tprz, thresholdsz = metrics.roc_curve(y_test, yz_pred_prob)\n",
    "plt.plot(fprz, tprz,'-g',label = \"ROC curve Z\")\n",
    "thresh_i = np.where(thresholds>.5)[0][-1]\n",
    "plt.plot(fpr[thresh_i],tpr[thresh_i],'ko',label = 'thresh == .5')\n",
    "thresh2 = .926\n",
    "thresh2_i = np.where(tpr>thresh2)[0][0]\n",
    "plt.plot(fpr[thresh2_i],tpr[thresh2_i],'ro',label = 'thresh == {}'.format(thresh2))\n",
    "plt.xlim([0,1.05])\n",
    "plt.ylim([0,1.05])\n",
    "plt.legend(loc=\"lower right\")\n",
    "plt.xlabel('False Positive Rate')\n",
    "plt.ylabel('True Positive Rate')\n",
    "print \"AUC score without: {}\".format(metrics.roc_auc_score(y_test, y_pred_prob))\n",
    "print \"AUC score with: {}\".format(metrics.roc_auc_score(y_test, yz_pred_prob))\n",
    "\n",
    "#print thresholds[fpr>.6][0]"
   ]
  },
  {
   "cell_type": "code",
   "execution_count": 209,
   "metadata": {
    "collapsed": false
   },
   "outputs": [
    {
     "name": "stdout",
     "output_type": "stream",
     "text": [
      "<type 'numpy.ndarray'>\n",
      "0.926159262137\n"
     ]
    },
    {
     "data": {
      "image/png": "[encoded data removed]",
      "text/plain": [
       "<matplotlib.figure.Figure at 0x114476590>"
      ]
     },
     "metadata": {},
     "output_type": "display_data"
    }
   ],
   "source": [
    "print type(tpr)\n",
    "thresh3_i = np.where(tpr>(1-fpr))[0][0]\n",
    "plt.plot(thresholds,tpr,'-b',thresholds,1-fpr,'-b',label = 'without')\n",
    "plt.plot(thresholdsz,tprz,'-g',thresholdsz,1-fprz,'-g')\n",
    "plt.plot(thresholds[thresh3_i],tpr[thresh3_i],'ro')\n",
    "#plt.legend(loc='best')\n",
    "plt.xlabel('Threshold ')\n",
    "plt.ylabel('TPR & TNR')\n",
    "print thresholds[thresh3_i]\n",
    "#print thresholds[0:10]\n",
    "#print tpr[np.where(thresholds>.5)[0][-1]]\n",
    "#print tpr[thresholds>.5][-1]"
   ]
  },
  {
   "cell_type": "markdown",
   "metadata": {},
   "source": [
    "### To check results of the fit, plot the predicted probabilities\n",
    "\n",
    "This was a first attempt to view a correlation between the predicted probabilities and the outcomes of the loans. I hoped to see more 'defaults' (black points) toward the left, at the lower probabilities. However this graph didn't work very well."
   ]
  },
  {
   "cell_type": "code",
   "execution_count": 202,
   "metadata": {
    "collapsed": false
   },
   "outputs": [
    {
     "name": "stderr",
     "output_type": "stream",
     "text": [
      "/Users/stephane/anaconda/lib/python2.7/site-packages/ipykernel/__main__.py:4: VisibleDeprecationWarning: non integer (and non boolean) array-likes will not be accepted as indices in the future\n"
     ]
    },
    {
     "name": "stdout",
     "output_type": "stream",
     "text": [
      "<class 'pandas.core.series.Series'>\n",
      "5000 5000\n",
      "1.0 0.0\n",
      "(5000,) (5000,) 5000 (5000,)\n"
     ]
    },
    {
     "data": {
      "image/png": "[encoded data removed]",
      "text/plain": [
       "<matplotlib.figure.Figure at 0x11b63f9d0>"
      ]
     },
     "metadata": {},
     "output_type": "display_data"
    }
   ],
   "source": [
    "sis = y_pred_prob.argsort()\n",
    "colormap = np.array(['r', 'k'])\n",
    "plt.figure(figsize=(16, 3))\n",
    "plt.scatter(range(len(y_pred_prob)),y_pred_prob[sis],color=colormap[list(y_test.iloc[sis])])\n",
    "plt.xlim([0,len(y_test)])\n",
    "#plt.scatter(range(len(y_test)),y_test.iloc[sis],color=colormap[list(y_test.iloc[sis])])\n",
    "print type(y_test)\n",
    "\n",
    "print len(y_test),len(sis)\n",
    "print max(y_test),min(y_test)\n",
    "print y_test.shape,sis.shape,len(y_test[sis]),y_test[sis].shape"
   ]
  },
  {
   "cell_type": "markdown",
   "metadata": {},
   "source": [
    "### Second attempt to evaluate the model graphically\n",
    "\n",
    "This graph shows a boxplot of predicted probabilities broken down into 2 groups based on outcome. It is clear that 'successful' loans (loan_status_num ==1) have a higher distribution of predicted probabilites than 'unsuccessful' loans (loan_status_num == 0)."
   ]
  },
  {
   "cell_type": "code",
   "execution_count": 159,
   "metadata": {
    "collapsed": false
   },
   "outputs": [
    {
     "name": "stdout",
     "output_type": "stream",
     "text": [
      "1.0    4688\n",
      "0.0     312\n",
      "Name: loan_status_num, dtype: int64\n"
     ]
    },
    {
     "data": {
      "image/png": "[encoded data removed]",
      "text/plain": [
       "<matplotlib.figure.Figure at 0x121921750>"
      ]
     },
     "metadata": {},
     "output_type": "display_data"
    }
   ],
   "source": [
    "# merge these things into a single dataframe for plotting:\n",
    "testdf=pd.concat([X_test,y_test,pd.DataFrame(y_pred_prob,columns=['y_pred_prob'])],axis=1)\n",
    "testdf.boxplot(column='y_pred_prob',by='loan_status_num')\n",
    "print testdf.loan_status_num.value_counts()"
   ]
  },
  {
   "cell_type": "code",
   "execution_count": 160,
   "metadata": {
    "collapsed": false
   },
   "outputs": [
    {
     "data": {
      "text/plain": [
       "loan_status_num      \n",
       "0.0              0.25    0.948297\n",
       "                 0.50    0.953430\n",
       "                 0.75    0.976986\n",
       "                 1.00    0.999920\n",
       "1.0              0.25    0.899241\n",
       "                 0.50    0.929425\n",
       "                 0.75    0.971033\n",
       "                 1.00    0.999956\n",
       "dtype: float64"
      ]
     },
     "execution_count": 160,
     "metadata": {},
     "output_type": "execute_result"
    }
   ],
   "source": [
    "grouped = testdf.groupby('loan_status_num')\n",
    "grouped.y_pred_prob.quantile([.25, .5, .75, 1])\n"
   ]
  },
  {
   "cell_type": "code",
   "execution_count": 161,
   "metadata": {
    "collapsed": false
   },
   "outputs": [],
   "source": [
    "#plt.scatter(df.grade_num,df.loan_status_num,label='loan status')\n",
    "#plt.plot(df2.grade_num,df2.loan_status_pred_num,color='red')\n",
    "#plt.plot(X_test['grade_num'].sort_values(),y_pred_class,color='red')\n",
    "#plt.setp(plt.gca(), xticklabels=gradenames, xticks = gradenums)\n",
    "#plt.setp(plt.gca(), yticklabels=np.arange(0,1.2,.2), yticks = np.arange(0,1.2,.2))\n",
    "#plt.setp(plt.gca(),title = 'Predicted loan status, test set')"
   ]
  },
  {
   "cell_type": "markdown",
   "metadata": {},
   "source": [
    "## next..."
   ]
  },
  {
   "cell_type": "code",
   "execution_count": 162,
   "metadata": {
    "collapsed": false
   },
   "outputs": [
    {
     "name": "stdout",
     "output_type": "stream",
     "text": [
      "done\n"
     ]
    }
   ],
   "source": [
    "print 'done'"
   ]
  },
  {
   "cell_type": "code",
   "execution_count": 163,
   "metadata": {
    "collapsed": false
   },
   "outputs": [
    {
     "name": "stdout",
     "output_type": "stream",
     "text": [
      "percent of loans successful in y_test: 4688/5000 = 0.9376\n",
      "logreg class prediction accuracy: 0.9372\n",
      "guess all successful accuracy:  0.9376\n"
     ]
    }
   ],
   "source": [
    "#print total_success_rate\n",
    "print \"percent of loans successful in y_test: {}/{} = {}\".format(y_test[y_test == 1].count(), y_test.count(),\n",
    "                                                       float(y_test[y_test == 1].count())/ y_test.count() )\n",
    "print \"logreg class prediction accuracy:\" , metrics.accuracy_score(y_test, y_pred_class)\n",
    "print \"guess all successful accuracy: \", metrics.accuracy_score(y_test,[1]*len(y_test))"
   ]
  },
  {
   "cell_type": "code",
   "execution_count": 164,
   "metadata": {
    "collapsed": false
   },
   "outputs": [
    {
     "name": "stdout",
     "output_type": "stream",
     "text": [
      "grade\n",
      "A    0.976574\n",
      "B    0.955895\n",
      "C    0.939113\n",
      "D    0.902488\n",
      "E    0.884076\n",
      "F    0.831418\n",
      "G    0.764706\n",
      "Name: loan_status_num, dtype: float64\n"
     ]
    }
   ],
   "source": [
    "grouped=minidf.groupby('grade')\n",
    "probs=grouped.loan_status_num.sum()/grouped.loan_status_num.count()\n",
    "print probs"
   ]
  },
  {
   "cell_type": "code",
   "execution_count": 165,
   "metadata": {
    "collapsed": false
   },
   "outputs": [
    {
     "data": {
      "text/plain": [
       "<matplotlib.text.Text at 0x114491950>"
      ]
     },
     "execution_count": 165,
     "metadata": {},
     "output_type": "execute_result"
    },
    {
     "data": {
      "image/png": "[encoded data removed]",
      "text/plain": [
       "<matplotlib.figure.Figure at 0x121a86fd0>"
      ]
     },
     "metadata": {},
     "output_type": "display_data"
    }
   ],
   "source": [
    "fig,ax = plt.subplots()\n",
    "width=.4\n",
    "xlocs=np.arange(0,7)\n",
    "ax.bar(xlocs-width,grouped.loan_status_num.sum(),width,color='k')\n",
    "ax.set_xticks(xlocs)\n",
    "ax.set_xticklabels(sorted(minidf.grade.unique()))\n",
    "ax.bar(\n",
    "        xlocs,grouped.loan_status_num.apply(lambda item: (item == 0).sum()),width,\n",
    "        color='r')\n",
    "ax.set_title('Loan status by grade')"
   ]
  },
  {
   "cell_type": "code",
   "execution_count": 166,
   "metadata": {
    "collapsed": false
   },
   "outputs": [
    {
     "data": {
      "text/plain": [
       "<matplotlib.collections.PathCollection at 0x114bdead0>"
      ]
     },
     "execution_count": 166,
     "metadata": {},
     "output_type": "execute_result"
    },
    {
     "data": {
      "image/png": "[encoded data removed]",
      "text/plain": [
       "<matplotlib.figure.Figure at 0x121921710>"
      ]
     },
     "metadata": {},
     "output_type": "display_data"
    }
   ],
   "source": [
    "#df2['loan_status_pred_prob']=logreg.predict_proba(X)[:,1]\n",
    "plt.scatter(minidf.grade_num,minidf.loan_status_num)"
   ]
  },
  {
   "cell_type": "code",
   "execution_count": 167,
   "metadata": {
    "collapsed": false
   },
   "outputs": [
    {
     "ename": "ValueError",
     "evalue": "X has 1 features per sample; expecting 110",
     "output_type": "error",
     "traceback": [
      "\u001b[0;31m---------------------------------------------------------------------------\u001b[0m",
      "\u001b[0;31mValueError\u001b[0m                                Traceback (most recent call last)",
      "\u001b[0;32m<ipython-input-167-c848c402ced3>\u001b[0m in \u001b[0;36m<module>\u001b[0;34m()\u001b[0m\n\u001b[1;32m      1\u001b[0m \u001b[0;31m#plt.plot(minidf.grade_num,minidf.loan_status_pred_prob,color='red')\u001b[0m\u001b[0;34m\u001b[0m\u001b[0;34m\u001b[0m\u001b[0m\n\u001b[1;32m      2\u001b[0m \u001b[0mX_test_s\u001b[0m\u001b[0;34m=\u001b[0m\u001b[0mminidf\u001b[0m\u001b[0;34m.\u001b[0m\u001b[0msort_values\u001b[0m\u001b[0;34m(\u001b[0m\u001b[0mby\u001b[0m\u001b[0;34m=\u001b[0m\u001b[0;34m'grade_num'\u001b[0m\u001b[0;34m)\u001b[0m\u001b[0;34m.\u001b[0m\u001b[0mgrade_num\u001b[0m\u001b[0;34m.\u001b[0m\u001b[0mreshape\u001b[0m\u001b[0;34m(\u001b[0m\u001b[0;34m-\u001b[0m\u001b[0;36m1\u001b[0m\u001b[0;34m,\u001b[0m\u001b[0;36m1\u001b[0m\u001b[0;34m)\u001b[0m\u001b[0;34m\u001b[0m\u001b[0m\n\u001b[0;32m----> 3\u001b[0;31m \u001b[0mplt\u001b[0m\u001b[0;34m.\u001b[0m\u001b[0mplot\u001b[0m\u001b[0;34m(\u001b[0m\u001b[0mX_test_s\u001b[0m\u001b[0;34m,\u001b[0m\u001b[0mlogreg\u001b[0m\u001b[0;34m.\u001b[0m\u001b[0mpredict_proba\u001b[0m\u001b[0;34m(\u001b[0m\u001b[0mX_test_s\u001b[0m\u001b[0;34m)\u001b[0m\u001b[0;34m[\u001b[0m\u001b[0;34m:\u001b[0m\u001b[0;34m,\u001b[0m\u001b[0;36m1\u001b[0m\u001b[0;34m]\u001b[0m\u001b[0;34m,\u001b[0m\u001b[0mcolor\u001b[0m\u001b[0;34m=\u001b[0m\u001b[0;34m'red'\u001b[0m\u001b[0;34m)\u001b[0m\u001b[0;34m\u001b[0m\u001b[0m\n\u001b[0m\u001b[1;32m      4\u001b[0m \u001b[0;34m\u001b[0m\u001b[0m\n\u001b[1;32m      5\u001b[0m \u001b[0mplt\u001b[0m\u001b[0;34m.\u001b[0m\u001b[0mplot\u001b[0m\u001b[0;34m(\u001b[0m\u001b[0mprobs\u001b[0m\u001b[0;34m,\u001b[0m\u001b[0;34m'go-'\u001b[0m\u001b[0;34m)\u001b[0m\u001b[0;34m\u001b[0m\u001b[0m\n",
      "\u001b[0;32m/Users/stephane/anaconda/lib/python2.7/site-packages/sklearn/linear_model/logistic.pyc\u001b[0m in \u001b[0;36mpredict_proba\u001b[0;34m(self, X)\u001b[0m\n\u001b[1;32m   1250\u001b[0m         \u001b[0mcalculate_ovr\u001b[0m \u001b[0;34m=\u001b[0m \u001b[0mself\u001b[0m\u001b[0;34m.\u001b[0m\u001b[0mcoef_\u001b[0m\u001b[0;34m.\u001b[0m\u001b[0mshape\u001b[0m\u001b[0;34m[\u001b[0m\u001b[0;36m0\u001b[0m\u001b[0;34m]\u001b[0m \u001b[0;34m==\u001b[0m \u001b[0;36m1\u001b[0m \u001b[0;32mor\u001b[0m \u001b[0mself\u001b[0m\u001b[0;34m.\u001b[0m\u001b[0mmulti_class\u001b[0m \u001b[0;34m==\u001b[0m \u001b[0;34m\"ovr\"\u001b[0m\u001b[0;34m\u001b[0m\u001b[0m\n\u001b[1;32m   1251\u001b[0m         \u001b[0;32mif\u001b[0m \u001b[0mcalculate_ovr\u001b[0m\u001b[0;34m:\u001b[0m\u001b[0;34m\u001b[0m\u001b[0m\n\u001b[0;32m-> 1252\u001b[0;31m             \u001b[0;32mreturn\u001b[0m \u001b[0msuper\u001b[0m\u001b[0;34m(\u001b[0m\u001b[0mLogisticRegression\u001b[0m\u001b[0;34m,\u001b[0m \u001b[0mself\u001b[0m\u001b[0;34m)\u001b[0m\u001b[0;34m.\u001b[0m\u001b[0m_predict_proba_lr\u001b[0m\u001b[0;34m(\u001b[0m\u001b[0mX\u001b[0m\u001b[0;34m)\u001b[0m\u001b[0;34m\u001b[0m\u001b[0m\n\u001b[0m\u001b[1;32m   1253\u001b[0m         \u001b[0;32melse\u001b[0m\u001b[0;34m:\u001b[0m\u001b[0;34m\u001b[0m\u001b[0m\n\u001b[1;32m   1254\u001b[0m             \u001b[0;32mreturn\u001b[0m \u001b[0msoftmax\u001b[0m\u001b[0;34m(\u001b[0m\u001b[0mself\u001b[0m\u001b[0;34m.\u001b[0m\u001b[0mdecision_function\u001b[0m\u001b[0;34m(\u001b[0m\u001b[0mX\u001b[0m\u001b[0;34m)\u001b[0m\u001b[0;34m,\u001b[0m \u001b[0mcopy\u001b[0m\u001b[0;34m=\u001b[0m\u001b[0mFalse\u001b[0m\u001b[0;34m)\u001b[0m\u001b[0;34m\u001b[0m\u001b[0m\n",
      "\u001b[0;32m/Users/stephane/anaconda/lib/python2.7/site-packages/sklearn/linear_model/base.pyc\u001b[0m in \u001b[0;36m_predict_proba_lr\u001b[0;34m(self, X)\u001b[0m\n\u001b[1;32m    280\u001b[0m         \u001b[0mmulticlass\u001b[0m \u001b[0;32mis\u001b[0m \u001b[0mhandled\u001b[0m \u001b[0mby\u001b[0m \u001b[0mnormalizing\u001b[0m \u001b[0mthat\u001b[0m \u001b[0mover\u001b[0m \u001b[0mall\u001b[0m \u001b[0mclasses\u001b[0m\u001b[0;34m.\u001b[0m\u001b[0;34m\u001b[0m\u001b[0m\n\u001b[1;32m    281\u001b[0m         \"\"\"\n\u001b[0;32m--> 282\u001b[0;31m         \u001b[0mprob\u001b[0m \u001b[0;34m=\u001b[0m \u001b[0mself\u001b[0m\u001b[0;34m.\u001b[0m\u001b[0mdecision_function\u001b[0m\u001b[0;34m(\u001b[0m\u001b[0mX\u001b[0m\u001b[0;34m)\u001b[0m\u001b[0;34m\u001b[0m\u001b[0m\n\u001b[0m\u001b[1;32m    283\u001b[0m         \u001b[0mprob\u001b[0m \u001b[0;34m*=\u001b[0m \u001b[0;34m-\u001b[0m\u001b[0;36m1\u001b[0m\u001b[0;34m\u001b[0m\u001b[0m\n\u001b[1;32m    284\u001b[0m         \u001b[0mnp\u001b[0m\u001b[0;34m.\u001b[0m\u001b[0mexp\u001b[0m\u001b[0;34m(\u001b[0m\u001b[0mprob\u001b[0m\u001b[0;34m,\u001b[0m \u001b[0mprob\u001b[0m\u001b[0;34m)\u001b[0m\u001b[0;34m\u001b[0m\u001b[0m\n",
      "\u001b[0;32m/Users/stephane/anaconda/lib/python2.7/site-packages/sklearn/linear_model/base.pyc\u001b[0m in \u001b[0;36mdecision_function\u001b[0;34m(self, X)\u001b[0m\n\u001b[1;32m    247\u001b[0m         \u001b[0;32mif\u001b[0m \u001b[0mX\u001b[0m\u001b[0;34m.\u001b[0m\u001b[0mshape\u001b[0m\u001b[0;34m[\u001b[0m\u001b[0;36m1\u001b[0m\u001b[0;34m]\u001b[0m \u001b[0;34m!=\u001b[0m \u001b[0mn_features\u001b[0m\u001b[0;34m:\u001b[0m\u001b[0;34m\u001b[0m\u001b[0m\n\u001b[1;32m    248\u001b[0m             raise ValueError(\"X has %d features per sample; expecting %d\"\n\u001b[0;32m--> 249\u001b[0;31m                              % (X.shape[1], n_features))\n\u001b[0m\u001b[1;32m    250\u001b[0m \u001b[0;34m\u001b[0m\u001b[0m\n\u001b[1;32m    251\u001b[0m         scores = safe_sparse_dot(X, self.coef_.T,\n",
      "\u001b[0;31mValueError\u001b[0m: X has 1 features per sample; expecting 110"
     ]
    }
   ],
   "source": [
    "#plt.plot(minidf.grade_num,minidf.loan_status_pred_prob,color='red')\n",
    "X_test_s=minidf.sort_values(by='grade_num').grade_num.reshape(-1,1)\n",
    "plt.plot(X_test_s,logreg.predict_proba(X_test_s)[:,1],color='red')\n",
    "\n",
    "plt.plot(probs,'go-')"
   ]
  },
  {
   "cell_type": "markdown",
   "metadata": {},
   "source": [
    "### Just a quick check to see if there are any loans from the crazy 119xx zipcodes\n",
    "\n",
    "Holy Cow "
   ]
  },
  {
   "cell_type": "code",
   "execution_count": 174,
   "metadata": {
    "collapsed": false
   },
   "outputs": [
    {
     "data": {
      "text/html": [
       "<div>\n",
       "<table border=\"1\" class=\"dataframe\">\n",
       "  <thead>\n",
       "    <tr style=\"text-align: right;\">\n",
       "      <th></th>\n",
       "      <th>loan_amnt</th>\n",
       "      <th>funded_amnt</th>\n",
       "      <th>funded_amnt_inv</th>\n",
       "      <th>term</th>\n",
       "      <th>int_rate</th>\n",
       "      <th>installment</th>\n",
       "      <th>grade</th>\n",
       "      <th>lc_zip3</th>\n",
       "      <th>zip_code</th>\n",
       "      <th>purpose</th>\n",
       "      <th>addr_state</th>\n",
       "    </tr>\n",
       "  </thead>\n",
       "  <tbody>\n",
       "    <tr>\n",
       "      <th>490</th>\n",
       "      <td>14400</td>\n",
       "      <td>14400</td>\n",
       "      <td>14400.000000</td>\n",
       "      <td>36 months</td>\n",
       "      <td>15.27%</td>\n",
       "      <td>501.09</td>\n",
       "      <td>C</td>\n",
       "      <td>119</td>\n",
       "      <td>119xx</td>\n",
       "      <td>debt_consolidation</td>\n",
       "      <td>NY</td>\n",
       "    </tr>\n",
       "    <tr>\n",
       "      <th>568</th>\n",
       "      <td>12000</td>\n",
       "      <td>9600</td>\n",
       "      <td>9600.000000</td>\n",
       "      <td>60 months</td>\n",
       "      <td>14.65%</td>\n",
       "      <td>226.63</td>\n",
       "      <td>C</td>\n",
       "      <td>119</td>\n",
       "      <td>119xx</td>\n",
       "      <td>debt_consolidation</td>\n",
       "      <td>NY</td>\n",
       "    </tr>\n",
       "    <tr>\n",
       "      <th>1118</th>\n",
       "      <td>5000</td>\n",
       "      <td>5000</td>\n",
       "      <td>5000.000000</td>\n",
       "      <td>36 months</td>\n",
       "      <td>11.71%</td>\n",
       "      <td>165.38</td>\n",
       "      <td>B</td>\n",
       "      <td>119</td>\n",
       "      <td>119xx</td>\n",
       "      <td>credit_card</td>\n",
       "      <td>NY</td>\n",
       "    </tr>\n",
       "    <tr>\n",
       "      <th>1368</th>\n",
       "      <td>6000</td>\n",
       "      <td>6000</td>\n",
       "      <td>6000.000000</td>\n",
       "      <td>36 months</td>\n",
       "      <td>12.42%</td>\n",
       "      <td>200.50</td>\n",
       "      <td>B</td>\n",
       "      <td>119</td>\n",
       "      <td>119xx</td>\n",
       "      <td>credit_card</td>\n",
       "      <td>NY</td>\n",
       "    </tr>\n",
       "    <tr>\n",
       "      <th>1516</th>\n",
       "      <td>20000</td>\n",
       "      <td>20000</td>\n",
       "      <td>19950.000000</td>\n",
       "      <td>60 months</td>\n",
       "      <td>16.77%</td>\n",
       "      <td>494.59</td>\n",
       "      <td>D</td>\n",
       "      <td>119</td>\n",
       "      <td>119xx</td>\n",
       "      <td>debt_consolidation</td>\n",
       "      <td>NY</td>\n",
       "    </tr>\n",
       "    <tr>\n",
       "      <th>3330</th>\n",
       "      <td>10000</td>\n",
       "      <td>10000</td>\n",
       "      <td>10000.000000</td>\n",
       "      <td>36 months</td>\n",
       "      <td>12.42%</td>\n",
       "      <td>334.16</td>\n",
       "      <td>B</td>\n",
       "      <td>119</td>\n",
       "      <td>119xx</td>\n",
       "      <td>debt_consolidation</td>\n",
       "      <td>NY</td>\n",
       "    </tr>\n",
       "    <tr>\n",
       "      <th>4404</th>\n",
       "      <td>11250</td>\n",
       "      <td>11250</td>\n",
       "      <td>11250.000000</td>\n",
       "      <td>36 months</td>\n",
       "      <td>14.27%</td>\n",
       "      <td>385.98</td>\n",
       "      <td>C</td>\n",
       "      <td>119</td>\n",
       "      <td>119xx</td>\n",
       "      <td>debt_consolidation</td>\n",
       "      <td>NY</td>\n",
       "    </tr>\n",
       "    <tr>\n",
       "      <th>9796</th>\n",
       "      <td>5000</td>\n",
       "      <td>5000</td>\n",
       "      <td>5000.000000</td>\n",
       "      <td>36 months</td>\n",
       "      <td>11.49%</td>\n",
       "      <td>164.86</td>\n",
       "      <td>B</td>\n",
       "      <td>119</td>\n",
       "      <td>119xx</td>\n",
       "      <td>debt_consolidation</td>\n",
       "      <td>NY</td>\n",
       "    </tr>\n",
       "    <tr>\n",
       "      <th>9864</th>\n",
       "      <td>3200</td>\n",
       "      <td>3200</td>\n",
       "      <td>3200.000000</td>\n",
       "      <td>36 months</td>\n",
       "      <td>5.99%</td>\n",
       "      <td>97.34</td>\n",
       "      <td>A</td>\n",
       "      <td>119</td>\n",
       "      <td>119xx</td>\n",
       "      <td>debt_consolidation</td>\n",
       "      <td>NY</td>\n",
       "    </tr>\n",
       "    <tr>\n",
       "      <th>11104</th>\n",
       "      <td>12000</td>\n",
       "      <td>12000</td>\n",
       "      <td>12000.000000</td>\n",
       "      <td>36 months</td>\n",
       "      <td>15.62%</td>\n",
       "      <td>419.64</td>\n",
       "      <td>D</td>\n",
       "      <td>119</td>\n",
       "      <td>119xx</td>\n",
       "      <td>other</td>\n",
       "      <td>NY</td>\n",
       "    </tr>\n",
       "    <tr>\n",
       "      <th>12415</th>\n",
       "      <td>7400</td>\n",
       "      <td>7400</td>\n",
       "      <td>7400.000000</td>\n",
       "      <td>36 months</td>\n",
       "      <td>13.99%</td>\n",
       "      <td>252.88</td>\n",
       "      <td>C</td>\n",
       "      <td>119</td>\n",
       "      <td>119xx</td>\n",
       "      <td>other</td>\n",
       "      <td>NY</td>\n",
       "    </tr>\n",
       "    <tr>\n",
       "      <th>12744</th>\n",
       "      <td>5000</td>\n",
       "      <td>5000</td>\n",
       "      <td>5000.000000</td>\n",
       "      <td>36 months</td>\n",
       "      <td>13.99%</td>\n",
       "      <td>170.87</td>\n",
       "      <td>C</td>\n",
       "      <td>119</td>\n",
       "      <td>119xx</td>\n",
       "      <td>other</td>\n",
       "      <td>NY</td>\n",
       "    </tr>\n",
       "    <tr>\n",
       "      <th>13046</th>\n",
       "      <td>25000</td>\n",
       "      <td>17300</td>\n",
       "      <td>17275.000000</td>\n",
       "      <td>60 months</td>\n",
       "      <td>15.23%</td>\n",
       "      <td>413.66</td>\n",
       "      <td>C</td>\n",
       "      <td>119</td>\n",
       "      <td>119xx</td>\n",
       "      <td>home_improvement</td>\n",
       "      <td>NY</td>\n",
       "    </tr>\n",
       "    <tr>\n",
       "      <th>14644</th>\n",
       "      <td>4500</td>\n",
       "      <td>4500</td>\n",
       "      <td>4500.000000</td>\n",
       "      <td>60 months</td>\n",
       "      <td>15.23%</td>\n",
       "      <td>107.60</td>\n",
       "      <td>C</td>\n",
       "      <td>119</td>\n",
       "      <td>119xx</td>\n",
       "      <td>debt_consolidation</td>\n",
       "      <td>NY</td>\n",
       "    </tr>\n",
       "    <tr>\n",
       "      <th>17164</th>\n",
       "      <td>18000</td>\n",
       "      <td>18000</td>\n",
       "      <td>18000.000000</td>\n",
       "      <td>36 months</td>\n",
       "      <td>7.66%</td>\n",
       "      <td>561.24</td>\n",
       "      <td>A</td>\n",
       "      <td>119</td>\n",
       "      <td>119xx</td>\n",
       "      <td>debt_consolidation</td>\n",
       "      <td>NY</td>\n",
       "    </tr>\n",
       "    <tr>\n",
       "      <th>20656</th>\n",
       "      <td>5000</td>\n",
       "      <td>5000</td>\n",
       "      <td>5000.000000</td>\n",
       "      <td>36 months</td>\n",
       "      <td>6.92%</td>\n",
       "      <td>154.21</td>\n",
       "      <td>A</td>\n",
       "      <td>119</td>\n",
       "      <td>119xx</td>\n",
       "      <td>other</td>\n",
       "      <td>NY</td>\n",
       "    </tr>\n",
       "    <tr>\n",
       "      <th>20957</th>\n",
       "      <td>12000</td>\n",
       "      <td>12000</td>\n",
       "      <td>12000.000000</td>\n",
       "      <td>60 months</td>\n",
       "      <td>17.51%</td>\n",
       "      <td>301.54</td>\n",
       "      <td>E</td>\n",
       "      <td>119</td>\n",
       "      <td>119xx</td>\n",
       "      <td>other</td>\n",
       "      <td>NY</td>\n",
       "    </tr>\n",
       "    <tr>\n",
       "      <th>21102</th>\n",
       "      <td>22650</td>\n",
       "      <td>22650</td>\n",
       "      <td>22625.000000</td>\n",
       "      <td>36 months</td>\n",
       "      <td>6.91%</td>\n",
       "      <td>698.44</td>\n",
       "      <td>A</td>\n",
       "      <td>119</td>\n",
       "      <td>119xx</td>\n",
       "      <td>debt_consolidation</td>\n",
       "      <td>NY</td>\n",
       "    </tr>\n",
       "    <tr>\n",
       "      <th>21222</th>\n",
       "      <td>6000</td>\n",
       "      <td>6000</td>\n",
       "      <td>6000.000000</td>\n",
       "      <td>36 months</td>\n",
       "      <td>6.91%</td>\n",
       "      <td>185.02</td>\n",
       "      <td>A</td>\n",
       "      <td>119</td>\n",
       "      <td>119xx</td>\n",
       "      <td>credit_card</td>\n",
       "      <td>NY</td>\n",
       "    </tr>\n",
       "    <tr>\n",
       "      <th>26660</th>\n",
       "      <td>24000</td>\n",
       "      <td>14525</td>\n",
       "      <td>14448.260000</td>\n",
       "      <td>60 months</td>\n",
       "      <td>16.32%</td>\n",
       "      <td>355.70</td>\n",
       "      <td>D</td>\n",
       "      <td>119</td>\n",
       "      <td>119xx</td>\n",
       "      <td>debt_consolidation</td>\n",
       "      <td>NY</td>\n",
       "    </tr>\n",
       "    <tr>\n",
       "      <th>26759</th>\n",
       "      <td>16500</td>\n",
       "      <td>16500</td>\n",
       "      <td>16500.000000</td>\n",
       "      <td>36 months</td>\n",
       "      <td>13.61%</td>\n",
       "      <td>560.82</td>\n",
       "      <td>C</td>\n",
       "      <td>119</td>\n",
       "      <td>119xx</td>\n",
       "      <td>debt_consolidation</td>\n",
       "      <td>NY</td>\n",
       "    </tr>\n",
       "    <tr>\n",
       "      <th>27164</th>\n",
       "      <td>23000</td>\n",
       "      <td>23000</td>\n",
       "      <td>22975.000000</td>\n",
       "      <td>60 months</td>\n",
       "      <td>21.27%</td>\n",
       "      <td>625.73</td>\n",
       "      <td>G</td>\n",
       "      <td>119</td>\n",
       "      <td>119xx</td>\n",
       "      <td>credit_card</td>\n",
       "      <td>NY</td>\n",
       "    </tr>\n",
       "    <tr>\n",
       "      <th>28063</th>\n",
       "      <td>20000</td>\n",
       "      <td>20000</td>\n",
       "      <td>20000.000000</td>\n",
       "      <td>60 months</td>\n",
       "      <td>18.30%</td>\n",
       "      <td>511.14</td>\n",
       "      <td>F</td>\n",
       "      <td>119</td>\n",
       "      <td>119xx</td>\n",
       "      <td>debt_consolidation</td>\n",
       "      <td>NY</td>\n",
       "    </tr>\n",
       "    <tr>\n",
       "      <th>29946</th>\n",
       "      <td>25000</td>\n",
       "      <td>17450</td>\n",
       "      <td>8418.734352</td>\n",
       "      <td>60 months</td>\n",
       "      <td>17.19%</td>\n",
       "      <td>435.47</td>\n",
       "      <td>E</td>\n",
       "      <td>119</td>\n",
       "      <td>119xx</td>\n",
       "      <td>small_business</td>\n",
       "      <td>NY</td>\n",
       "    </tr>\n",
       "    <tr>\n",
       "      <th>31722</th>\n",
       "      <td>12000</td>\n",
       "      <td>12000</td>\n",
       "      <td>12000.000000</td>\n",
       "      <td>36 months</td>\n",
       "      <td>10.99%</td>\n",
       "      <td>392.83</td>\n",
       "      <td>B</td>\n",
       "      <td>119</td>\n",
       "      <td>119xx</td>\n",
       "      <td>debt_consolidation</td>\n",
       "      <td>NY</td>\n",
       "    </tr>\n",
       "    <tr>\n",
       "      <th>31733</th>\n",
       "      <td>14000</td>\n",
       "      <td>14000</td>\n",
       "      <td>14000.000000</td>\n",
       "      <td>36 months</td>\n",
       "      <td>16.45%</td>\n",
       "      <td>495.29</td>\n",
       "      <td>E</td>\n",
       "      <td>119</td>\n",
       "      <td>119xx</td>\n",
       "      <td>debt_consolidation</td>\n",
       "      <td>NY</td>\n",
       "    </tr>\n",
       "    <tr>\n",
       "      <th>32303</th>\n",
       "      <td>12000</td>\n",
       "      <td>12000</td>\n",
       "      <td>11875.000000</td>\n",
       "      <td>36 months</td>\n",
       "      <td>7.51%</td>\n",
       "      <td>373.32</td>\n",
       "      <td>A</td>\n",
       "      <td>119</td>\n",
       "      <td>119xx</td>\n",
       "      <td>debt_consolidation</td>\n",
       "      <td>NY</td>\n",
       "    </tr>\n",
       "    <tr>\n",
       "      <th>32652</th>\n",
       "      <td>11200</td>\n",
       "      <td>11200</td>\n",
       "      <td>10875.687375</td>\n",
       "      <td>36 months</td>\n",
       "      <td>11.14%</td>\n",
       "      <td>367.40</td>\n",
       "      <td>B</td>\n",
       "      <td>119</td>\n",
       "      <td>119xx</td>\n",
       "      <td>credit_card</td>\n",
       "      <td>NY</td>\n",
       "    </tr>\n",
       "    <tr>\n",
       "      <th>34371</th>\n",
       "      <td>2100</td>\n",
       "      <td>2100</td>\n",
       "      <td>2100.000000</td>\n",
       "      <td>36 months</td>\n",
       "      <td>11.14%</td>\n",
       "      <td>68.89</td>\n",
       "      <td>B</td>\n",
       "      <td>119</td>\n",
       "      <td>119xx</td>\n",
       "      <td>credit_card</td>\n",
       "      <td>NY</td>\n",
       "    </tr>\n",
       "    <tr>\n",
       "      <th>34521</th>\n",
       "      <td>12000</td>\n",
       "      <td>12000</td>\n",
       "      <td>11988.000319</td>\n",
       "      <td>36 months</td>\n",
       "      <td>11.48%</td>\n",
       "      <td>395.63</td>\n",
       "      <td>B</td>\n",
       "      <td>119</td>\n",
       "      <td>119xx</td>\n",
       "      <td>other</td>\n",
       "      <td>NY</td>\n",
       "    </tr>\n",
       "    <tr>\n",
       "      <th>...</th>\n",
       "      <td>...</td>\n",
       "      <td>...</td>\n",
       "      <td>...</td>\n",
       "      <td>...</td>\n",
       "      <td>...</td>\n",
       "      <td>...</td>\n",
       "      <td>...</td>\n",
       "      <td>...</td>\n",
       "      <td>...</td>\n",
       "      <td>...</td>\n",
       "      <td>...</td>\n",
       "    </tr>\n",
       "    <tr>\n",
       "      <th>857785</th>\n",
       "      <td>24250</td>\n",
       "      <td>24250</td>\n",
       "      <td>24250.000000</td>\n",
       "      <td>60 months</td>\n",
       "      <td>17.86%</td>\n",
       "      <td>613.95</td>\n",
       "      <td>D</td>\n",
       "      <td>119</td>\n",
       "      <td>119xx</td>\n",
       "      <td>home_improvement</td>\n",
       "      <td>NY</td>\n",
       "    </tr>\n",
       "    <tr>\n",
       "      <th>858182</th>\n",
       "      <td>26875</td>\n",
       "      <td>26875</td>\n",
       "      <td>26875.000000</td>\n",
       "      <td>36 months</td>\n",
       "      <td>19.99%</td>\n",
       "      <td>998.64</td>\n",
       "      <td>E</td>\n",
       "      <td>119</td>\n",
       "      <td>119xx</td>\n",
       "      <td>home_improvement</td>\n",
       "      <td>NY</td>\n",
       "    </tr>\n",
       "    <tr>\n",
       "      <th>858378</th>\n",
       "      <td>16000</td>\n",
       "      <td>16000</td>\n",
       "      <td>16000.000000</td>\n",
       "      <td>36 months</td>\n",
       "      <td>14.31%</td>\n",
       "      <td>549.26</td>\n",
       "      <td>C</td>\n",
       "      <td>119</td>\n",
       "      <td>119xx</td>\n",
       "      <td>debt_consolidation</td>\n",
       "      <td>NY</td>\n",
       "    </tr>\n",
       "    <tr>\n",
       "      <th>859086</th>\n",
       "      <td>8000</td>\n",
       "      <td>8000</td>\n",
       "      <td>8000.000000</td>\n",
       "      <td>36 months</td>\n",
       "      <td>10.49%</td>\n",
       "      <td>259.99</td>\n",
       "      <td>B</td>\n",
       "      <td>119</td>\n",
       "      <td>119xx</td>\n",
       "      <td>debt_consolidation</td>\n",
       "      <td>NY</td>\n",
       "    </tr>\n",
       "    <tr>\n",
       "      <th>859965</th>\n",
       "      <td>30000</td>\n",
       "      <td>30000</td>\n",
       "      <td>30000.000000</td>\n",
       "      <td>60 months</td>\n",
       "      <td>10.49%</td>\n",
       "      <td>644.67</td>\n",
       "      <td>B</td>\n",
       "      <td>119</td>\n",
       "      <td>119xx</td>\n",
       "      <td>other</td>\n",
       "      <td>NY</td>\n",
       "    </tr>\n",
       "    <tr>\n",
       "      <th>861635</th>\n",
       "      <td>13100</td>\n",
       "      <td>13100</td>\n",
       "      <td>13100.000000</td>\n",
       "      <td>36 months</td>\n",
       "      <td>13.66%</td>\n",
       "      <td>445.57</td>\n",
       "      <td>C</td>\n",
       "      <td>119</td>\n",
       "      <td>119xx</td>\n",
       "      <td>credit_card</td>\n",
       "      <td>NY</td>\n",
       "    </tr>\n",
       "    <tr>\n",
       "      <th>864835</th>\n",
       "      <td>25875</td>\n",
       "      <td>25875</td>\n",
       "      <td>25875.000000</td>\n",
       "      <td>60 months</td>\n",
       "      <td>11.44%</td>\n",
       "      <td>568.28</td>\n",
       "      <td>B</td>\n",
       "      <td>119</td>\n",
       "      <td>119xx</td>\n",
       "      <td>debt_consolidation</td>\n",
       "      <td>NY</td>\n",
       "    </tr>\n",
       "    <tr>\n",
       "      <th>870339</th>\n",
       "      <td>15000</td>\n",
       "      <td>15000</td>\n",
       "      <td>15000.000000</td>\n",
       "      <td>36 months</td>\n",
       "      <td>10.49%</td>\n",
       "      <td>487.47</td>\n",
       "      <td>B</td>\n",
       "      <td>119</td>\n",
       "      <td>119xx</td>\n",
       "      <td>debt_consolidation</td>\n",
       "      <td>NY</td>\n",
       "    </tr>\n",
       "    <tr>\n",
       "      <th>871670</th>\n",
       "      <td>6775</td>\n",
       "      <td>6775</td>\n",
       "      <td>6775.000000</td>\n",
       "      <td>36 months</td>\n",
       "      <td>13.66%</td>\n",
       "      <td>230.44</td>\n",
       "      <td>C</td>\n",
       "      <td>119</td>\n",
       "      <td>119xx</td>\n",
       "      <td>debt_consolidation</td>\n",
       "      <td>NY</td>\n",
       "    </tr>\n",
       "    <tr>\n",
       "      <th>871685</th>\n",
       "      <td>28000</td>\n",
       "      <td>28000</td>\n",
       "      <td>28000.000000</td>\n",
       "      <td>60 months</td>\n",
       "      <td>11.44%</td>\n",
       "      <td>614.95</td>\n",
       "      <td>B</td>\n",
       "      <td>119</td>\n",
       "      <td>119xx</td>\n",
       "      <td>debt_consolidation</td>\n",
       "      <td>NY</td>\n",
       "    </tr>\n",
       "    <tr>\n",
       "      <th>872056</th>\n",
       "      <td>35000</td>\n",
       "      <td>35000</td>\n",
       "      <td>35000.000000</td>\n",
       "      <td>60 months</td>\n",
       "      <td>12.39%</td>\n",
       "      <td>785.48</td>\n",
       "      <td>C</td>\n",
       "      <td>119</td>\n",
       "      <td>119xx</td>\n",
       "      <td>debt_consolidation</td>\n",
       "      <td>NY</td>\n",
       "    </tr>\n",
       "    <tr>\n",
       "      <th>874359</th>\n",
       "      <td>1500</td>\n",
       "      <td>1500</td>\n",
       "      <td>1500.000000</td>\n",
       "      <td>36 months</td>\n",
       "      <td>18.54%</td>\n",
       "      <td>54.64</td>\n",
       "      <td>E</td>\n",
       "      <td>119</td>\n",
       "      <td>119xx</td>\n",
       "      <td>vacation</td>\n",
       "      <td>NY</td>\n",
       "    </tr>\n",
       "    <tr>\n",
       "      <th>876416</th>\n",
       "      <td>8400</td>\n",
       "      <td>8400</td>\n",
       "      <td>8400.000000</td>\n",
       "      <td>36 months</td>\n",
       "      <td>9.49%</td>\n",
       "      <td>269.04</td>\n",
       "      <td>B</td>\n",
       "      <td>119</td>\n",
       "      <td>119xx</td>\n",
       "      <td>credit_card</td>\n",
       "      <td>NY</td>\n",
       "    </tr>\n",
       "    <tr>\n",
       "      <th>877057</th>\n",
       "      <td>21000</td>\n",
       "      <td>21000</td>\n",
       "      <td>21000.000000</td>\n",
       "      <td>36 months</td>\n",
       "      <td>8.19%</td>\n",
       "      <td>659.91</td>\n",
       "      <td>A</td>\n",
       "      <td>119</td>\n",
       "      <td>119xx</td>\n",
       "      <td>debt_consolidation</td>\n",
       "      <td>NY</td>\n",
       "    </tr>\n",
       "    <tr>\n",
       "      <th>877164</th>\n",
       "      <td>8450</td>\n",
       "      <td>8450</td>\n",
       "      <td>8450.000000</td>\n",
       "      <td>36 months</td>\n",
       "      <td>21.99%</td>\n",
       "      <td>322.67</td>\n",
       "      <td>E</td>\n",
       "      <td>119</td>\n",
       "      <td>119xx</td>\n",
       "      <td>debt_consolidation</td>\n",
       "      <td>NY</td>\n",
       "    </tr>\n",
       "    <tr>\n",
       "      <th>879078</th>\n",
       "      <td>8000</td>\n",
       "      <td>8000</td>\n",
       "      <td>8000.000000</td>\n",
       "      <td>36 months</td>\n",
       "      <td>8.19%</td>\n",
       "      <td>251.40</td>\n",
       "      <td>A</td>\n",
       "      <td>119</td>\n",
       "      <td>119xx</td>\n",
       "      <td>debt_consolidation</td>\n",
       "      <td>NY</td>\n",
       "    </tr>\n",
       "    <tr>\n",
       "      <th>879478</th>\n",
       "      <td>19200</td>\n",
       "      <td>19200</td>\n",
       "      <td>19200.000000</td>\n",
       "      <td>60 months</td>\n",
       "      <td>11.44%</td>\n",
       "      <td>421.68</td>\n",
       "      <td>B</td>\n",
       "      <td>119</td>\n",
       "      <td>119xx</td>\n",
       "      <td>debt_consolidation</td>\n",
       "      <td>NY</td>\n",
       "    </tr>\n",
       "    <tr>\n",
       "      <th>879538</th>\n",
       "      <td>15325</td>\n",
       "      <td>15325</td>\n",
       "      <td>15325.000000</td>\n",
       "      <td>36 months</td>\n",
       "      <td>18.54%</td>\n",
       "      <td>558.20</td>\n",
       "      <td>E</td>\n",
       "      <td>119</td>\n",
       "      <td>119xx</td>\n",
       "      <td>credit_card</td>\n",
       "      <td>NY</td>\n",
       "    </tr>\n",
       "    <tr>\n",
       "      <th>880367</th>\n",
       "      <td>10400</td>\n",
       "      <td>10400</td>\n",
       "      <td>10400.000000</td>\n",
       "      <td>60 months</td>\n",
       "      <td>17.86%</td>\n",
       "      <td>263.31</td>\n",
       "      <td>D</td>\n",
       "      <td>119</td>\n",
       "      <td>119xx</td>\n",
       "      <td>debt_consolidation</td>\n",
       "      <td>NY</td>\n",
       "    </tr>\n",
       "    <tr>\n",
       "      <th>881189</th>\n",
       "      <td>5000</td>\n",
       "      <td>5000</td>\n",
       "      <td>5000.000000</td>\n",
       "      <td>36 months</td>\n",
       "      <td>14.99%</td>\n",
       "      <td>173.31</td>\n",
       "      <td>C</td>\n",
       "      <td>119</td>\n",
       "      <td>119xx</td>\n",
       "      <td>credit_card</td>\n",
       "      <td>NY</td>\n",
       "    </tr>\n",
       "    <tr>\n",
       "      <th>881222</th>\n",
       "      <td>11000</td>\n",
       "      <td>11000</td>\n",
       "      <td>11000.000000</td>\n",
       "      <td>60 months</td>\n",
       "      <td>11.44%</td>\n",
       "      <td>241.59</td>\n",
       "      <td>B</td>\n",
       "      <td>119</td>\n",
       "      <td>119xx</td>\n",
       "      <td>credit_card</td>\n",
       "      <td>NY</td>\n",
       "    </tr>\n",
       "    <tr>\n",
       "      <th>881446</th>\n",
       "      <td>6000</td>\n",
       "      <td>6000</td>\n",
       "      <td>6000.000000</td>\n",
       "      <td>36 months</td>\n",
       "      <td>14.99%</td>\n",
       "      <td>207.97</td>\n",
       "      <td>C</td>\n",
       "      <td>119</td>\n",
       "      <td>119xx</td>\n",
       "      <td>debt_consolidation</td>\n",
       "      <td>NY</td>\n",
       "    </tr>\n",
       "    <tr>\n",
       "      <th>881998</th>\n",
       "      <td>10000</td>\n",
       "      <td>10000</td>\n",
       "      <td>10000.000000</td>\n",
       "      <td>36 months</td>\n",
       "      <td>11.99%</td>\n",
       "      <td>332.10</td>\n",
       "      <td>B</td>\n",
       "      <td>119</td>\n",
       "      <td>119xx</td>\n",
       "      <td>debt_consolidation</td>\n",
       "      <td>NY</td>\n",
       "    </tr>\n",
       "    <tr>\n",
       "      <th>882641</th>\n",
       "      <td>2000</td>\n",
       "      <td>2000</td>\n",
       "      <td>2000.000000</td>\n",
       "      <td>36 months</td>\n",
       "      <td>16.49%</td>\n",
       "      <td>70.80</td>\n",
       "      <td>D</td>\n",
       "      <td>119</td>\n",
       "      <td>119xx</td>\n",
       "      <td>home_improvement</td>\n",
       "      <td>NY</td>\n",
       "    </tr>\n",
       "    <tr>\n",
       "      <th>883605</th>\n",
       "      <td>13050</td>\n",
       "      <td>13050</td>\n",
       "      <td>13050.000000</td>\n",
       "      <td>36 months</td>\n",
       "      <td>16.49%</td>\n",
       "      <td>461.97</td>\n",
       "      <td>D</td>\n",
       "      <td>119</td>\n",
       "      <td>119xx</td>\n",
       "      <td>debt_consolidation</td>\n",
       "      <td>NY</td>\n",
       "    </tr>\n",
       "    <tr>\n",
       "      <th>884764</th>\n",
       "      <td>10000</td>\n",
       "      <td>10000</td>\n",
       "      <td>10000.000000</td>\n",
       "      <td>36 months</td>\n",
       "      <td>15.59%</td>\n",
       "      <td>349.55</td>\n",
       "      <td>D</td>\n",
       "      <td>119</td>\n",
       "      <td>119xx</td>\n",
       "      <td>other</td>\n",
       "      <td>NY</td>\n",
       "    </tr>\n",
       "    <tr>\n",
       "      <th>885850</th>\n",
       "      <td>10000</td>\n",
       "      <td>10000</td>\n",
       "      <td>10000.000000</td>\n",
       "      <td>36 months</td>\n",
       "      <td>12.99%</td>\n",
       "      <td>336.90</td>\n",
       "      <td>C</td>\n",
       "      <td>119</td>\n",
       "      <td>119xx</td>\n",
       "      <td>credit_card</td>\n",
       "      <td>NY</td>\n",
       "    </tr>\n",
       "    <tr>\n",
       "      <th>886474</th>\n",
       "      <td>6000</td>\n",
       "      <td>6000</td>\n",
       "      <td>6000.000000</td>\n",
       "      <td>36 months</td>\n",
       "      <td>11.99%</td>\n",
       "      <td>199.26</td>\n",
       "      <td>B</td>\n",
       "      <td>119</td>\n",
       "      <td>119xx</td>\n",
       "      <td>major_purchase</td>\n",
       "      <td>NY</td>\n",
       "    </tr>\n",
       "    <tr>\n",
       "      <th>887064</th>\n",
       "      <td>28000</td>\n",
       "      <td>28000</td>\n",
       "      <td>28000.000000</td>\n",
       "      <td>36 months</td>\n",
       "      <td>15.59%</td>\n",
       "      <td>978.74</td>\n",
       "      <td>D</td>\n",
       "      <td>119</td>\n",
       "      <td>119xx</td>\n",
       "      <td>debt_consolidation</td>\n",
       "      <td>NY</td>\n",
       "    </tr>\n",
       "    <tr>\n",
       "      <th>887265</th>\n",
       "      <td>11875</td>\n",
       "      <td>11875</td>\n",
       "      <td>11875.000000</td>\n",
       "      <td>60 months</td>\n",
       "      <td>17.14%</td>\n",
       "      <td>296.02</td>\n",
       "      <td>D</td>\n",
       "      <td>119</td>\n",
       "      <td>119xx</td>\n",
       "      <td>debt_consolidation</td>\n",
       "      <td>NY</td>\n",
       "    </tr>\n",
       "  </tbody>\n",
       "</table>\n",
       "<p>925 rows × 11 columns</p>\n",
       "</div>"
      ],
      "text/plain": [
       "        loan_amnt  funded_amnt  funded_amnt_inv        term int_rate  \\\n",
       "490         14400        14400     14400.000000   36 months   15.27%   \n",
       "568         12000         9600      9600.000000   60 months   14.65%   \n",
       "1118         5000         5000      5000.000000   36 months   11.71%   \n",
       "1368         6000         6000      6000.000000   36 months   12.42%   \n",
       "1516        20000        20000     19950.000000   60 months   16.77%   \n",
       "3330        10000        10000     10000.000000   36 months   12.42%   \n",
       "4404        11250        11250     11250.000000   36 months   14.27%   \n",
       "9796         5000         5000      5000.000000   36 months   11.49%   \n",
       "9864         3200         3200      3200.000000   36 months    5.99%   \n",
       "11104       12000        12000     12000.000000   36 months   15.62%   \n",
       "12415        7400         7400      7400.000000   36 months   13.99%   \n",
       "12744        5000         5000      5000.000000   36 months   13.99%   \n",
       "13046       25000        17300     17275.000000   60 months   15.23%   \n",
       "14644        4500         4500      4500.000000   60 months   15.23%   \n",
       "17164       18000        18000     18000.000000   36 months    7.66%   \n",
       "20656        5000         5000      5000.000000   36 months    6.92%   \n",
       "20957       12000        12000     12000.000000   60 months   17.51%   \n",
       "21102       22650        22650     22625.000000   36 months    6.91%   \n",
       "21222        6000         6000      6000.000000   36 months    6.91%   \n",
       "26660       24000        14525     14448.260000   60 months   16.32%   \n",
       "26759       16500        16500     16500.000000   36 months   13.61%   \n",
       "27164       23000        23000     22975.000000   60 months   21.27%   \n",
       "28063       20000        20000     20000.000000   60 months   18.30%   \n",
       "29946       25000        17450      8418.734352   60 months   17.19%   \n",
       "31722       12000        12000     12000.000000   36 months   10.99%   \n",
       "31733       14000        14000     14000.000000   36 months   16.45%   \n",
       "32303       12000        12000     11875.000000   36 months    7.51%   \n",
       "32652       11200        11200     10875.687375   36 months   11.14%   \n",
       "34371        2100         2100      2100.000000   36 months   11.14%   \n",
       "34521       12000        12000     11988.000319   36 months   11.48%   \n",
       "...           ...          ...              ...         ...      ...   \n",
       "857785      24250        24250     24250.000000   60 months   17.86%   \n",
       "858182      26875        26875     26875.000000   36 months   19.99%   \n",
       "858378      16000        16000     16000.000000   36 months   14.31%   \n",
       "859086       8000         8000      8000.000000   36 months   10.49%   \n",
       "859965      30000        30000     30000.000000   60 months   10.49%   \n",
       "861635      13100        13100     13100.000000   36 months   13.66%   \n",
       "864835      25875        25875     25875.000000   60 months   11.44%   \n",
       "870339      15000        15000     15000.000000   36 months   10.49%   \n",
       "871670       6775         6775      6775.000000   36 months   13.66%   \n",
       "871685      28000        28000     28000.000000   60 months   11.44%   \n",
       "872056      35000        35000     35000.000000   60 months   12.39%   \n",
       "874359       1500         1500      1500.000000   36 months   18.54%   \n",
       "876416       8400         8400      8400.000000   36 months    9.49%   \n",
       "877057      21000        21000     21000.000000   36 months    8.19%   \n",
       "877164       8450         8450      8450.000000   36 months   21.99%   \n",
       "879078       8000         8000      8000.000000   36 months    8.19%   \n",
       "879478      19200        19200     19200.000000   60 months   11.44%   \n",
       "879538      15325        15325     15325.000000   36 months   18.54%   \n",
       "880367      10400        10400     10400.000000   60 months   17.86%   \n",
       "881189       5000         5000      5000.000000   36 months   14.99%   \n",
       "881222      11000        11000     11000.000000   60 months   11.44%   \n",
       "881446       6000         6000      6000.000000   36 months   14.99%   \n",
       "881998      10000        10000     10000.000000   36 months   11.99%   \n",
       "882641       2000         2000      2000.000000   36 months   16.49%   \n",
       "883605      13050        13050     13050.000000   36 months   16.49%   \n",
       "884764      10000        10000     10000.000000   36 months   15.59%   \n",
       "885850      10000        10000     10000.000000   36 months   12.99%   \n",
       "886474       6000         6000      6000.000000   36 months   11.99%   \n",
       "887064      28000        28000     28000.000000   36 months   15.59%   \n",
       "887265      11875        11875     11875.000000   60 months   17.14%   \n",
       "\n",
       "        installment grade  lc_zip3 zip_code             purpose addr_state  \n",
       "490          501.09     C      119    119xx  debt_consolidation         NY  \n",
       "568          226.63     C      119    119xx  debt_consolidation         NY  \n",
       "1118         165.38     B      119    119xx         credit_card         NY  \n",
       "1368         200.50     B      119    119xx         credit_card         NY  \n",
       "1516         494.59     D      119    119xx  debt_consolidation         NY  \n",
       "3330         334.16     B      119    119xx  debt_consolidation         NY  \n",
       "4404         385.98     C      119    119xx  debt_consolidation         NY  \n",
       "9796         164.86     B      119    119xx  debt_consolidation         NY  \n",
       "9864          97.34     A      119    119xx  debt_consolidation         NY  \n",
       "11104        419.64     D      119    119xx               other         NY  \n",
       "12415        252.88     C      119    119xx               other         NY  \n",
       "12744        170.87     C      119    119xx               other         NY  \n",
       "13046        413.66     C      119    119xx    home_improvement         NY  \n",
       "14644        107.60     C      119    119xx  debt_consolidation         NY  \n",
       "17164        561.24     A      119    119xx  debt_consolidation         NY  \n",
       "20656        154.21     A      119    119xx               other         NY  \n",
       "20957        301.54     E      119    119xx               other         NY  \n",
       "21102        698.44     A      119    119xx  debt_consolidation         NY  \n",
       "21222        185.02     A      119    119xx         credit_card         NY  \n",
       "26660        355.70     D      119    119xx  debt_consolidation         NY  \n",
       "26759        560.82     C      119    119xx  debt_consolidation         NY  \n",
       "27164        625.73     G      119    119xx         credit_card         NY  \n",
       "28063        511.14     F      119    119xx  debt_consolidation         NY  \n",
       "29946        435.47     E      119    119xx      small_business         NY  \n",
       "31722        392.83     B      119    119xx  debt_consolidation         NY  \n",
       "31733        495.29     E      119    119xx  debt_consolidation         NY  \n",
       "32303        373.32     A      119    119xx  debt_consolidation         NY  \n",
       "32652        367.40     B      119    119xx         credit_card         NY  \n",
       "34371         68.89     B      119    119xx         credit_card         NY  \n",
       "34521        395.63     B      119    119xx               other         NY  \n",
       "...             ...   ...      ...      ...                 ...        ...  \n",
       "857785       613.95     D      119    119xx    home_improvement         NY  \n",
       "858182       998.64     E      119    119xx    home_improvement         NY  \n",
       "858378       549.26     C      119    119xx  debt_consolidation         NY  \n",
       "859086       259.99     B      119    119xx  debt_consolidation         NY  \n",
       "859965       644.67     B      119    119xx               other         NY  \n",
       "861635       445.57     C      119    119xx         credit_card         NY  \n",
       "864835       568.28     B      119    119xx  debt_consolidation         NY  \n",
       "870339       487.47     B      119    119xx  debt_consolidation         NY  \n",
       "871670       230.44     C      119    119xx  debt_consolidation         NY  \n",
       "871685       614.95     B      119    119xx  debt_consolidation         NY  \n",
       "872056       785.48     C      119    119xx  debt_consolidation         NY  \n",
       "874359        54.64     E      119    119xx            vacation         NY  \n",
       "876416       269.04     B      119    119xx         credit_card         NY  \n",
       "877057       659.91     A      119    119xx  debt_consolidation         NY  \n",
       "877164       322.67     E      119    119xx  debt_consolidation         NY  \n",
       "879078       251.40     A      119    119xx  debt_consolidation         NY  \n",
       "879478       421.68     B      119    119xx  debt_consolidation         NY  \n",
       "879538       558.20     E      119    119xx         credit_card         NY  \n",
       "880367       263.31     D      119    119xx  debt_consolidation         NY  \n",
       "881189       173.31     C      119    119xx         credit_card         NY  \n",
       "881222       241.59     B      119    119xx         credit_card         NY  \n",
       "881446       207.97     C      119    119xx  debt_consolidation         NY  \n",
       "881998       332.10     B      119    119xx  debt_consolidation         NY  \n",
       "882641        70.80     D      119    119xx    home_improvement         NY  \n",
       "883605       461.97     D      119    119xx  debt_consolidation         NY  \n",
       "884764       349.55     D      119    119xx               other         NY  \n",
       "885850       336.90     C      119    119xx         credit_card         NY  \n",
       "886474       199.26     B      119    119xx      major_purchase         NY  \n",
       "887064       978.74     D      119    119xx  debt_consolidation         NY  \n",
       "887265       296.02     D      119    119xx  debt_consolidation         NY  \n",
       "\n",
       "[925 rows x 11 columns]"
      ]
     },
     "execution_count": 174,
     "metadata": {},
     "output_type": "execute_result"
    }
   ],
   "source": [
    "df[list(df.columns[2:9])+['lc_zip3','zip_code','purpose', 'addr_state']][df.lc_zip3 == 119]\n"
   ]
  },
  {
   "cell_type": "code",
   "execution_count": null,
   "metadata": {
    "collapsed": true
   },
   "outputs": [],
   "source": []
  }
 ],
 "metadata": {
  "kernelspec": {
   "display_name": "Python 2",
   "language": "python",
   "name": "python2"
  },
  "language_info": {
   "codemirror_mode": {
    "name": "ipython",
    "version": 2
   },
   "file_extension": ".py",
   "mimetype": "text/x-python",
   "name": "python",
   "nbconvert_exporter": "python",
   "pygments_lexer": "ipython2",
   "version": "2.7.11"
  }
 },
 "nbformat": 4,
 "nbformat_minor": 0
}
