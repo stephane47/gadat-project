{
 "cells": [
  {
   "cell_type": "code",
   "execution_count": 2,
   "metadata": {
    "collapsed": true
   },
   "outputs": [],
   "source": [
    "import numpy as np\n",
    "import pandas as pd\n",
    "import sys\n",
    "import time"
   ]
  },
  {
   "cell_type": "markdown",
   "metadata": {},
   "source": [
    "## The raw data files have been concatenated into a single csv file\n",
    "### Load it:"
   ]
  },
  {
   "cell_type": "code",
   "execution_count": 3,
   "metadata": {
    "collapsed": false
   },
   "outputs": [
    {
     "name": "stderr",
     "output_type": "stream",
     "text": [
      "/Users/stephane/anaconda/lib/python2.7/site-packages/IPython/core/interactiveshell.py:2723: DtypeWarning: Columns (19,55) have mixed types. Specify dtype option on import or set low_memory=False.\n",
      "  interactivity=interactivity, compiler=compiler, result=result)\n"
     ]
    },
    {
     "name": "stdout",
     "output_type": "stream",
     "text": [
      "1839704399 bytes loaded in 20.421 secs\n",
      "(887382, 114)\n"
     ]
    }
   ],
   "source": [
    "path = 'data/processed/LoanStats-combined-z.csv'\n",
    "t1 = time.time()\n",
    "df = pd.read_csv(path)\n",
    "t2 = time.time()\n",
    "print \"{} bytes loaded in {:0.3f} secs\".format(sys.getsizeof(df),t2-t1)\n",
    "print df.shape\n"
   ]
  },
  {
   "cell_type": "code",
   "execution_count": 4,
   "metadata": {
    "collapsed": false
   },
   "outputs": [
    {
     "name": "stdout",
     "output_type": "stream",
     "text": [
      "['lc_id', 'member_id', 'loan_amnt', 'funded_amnt', 'funded_amnt_inv', 'term', 'int_rate', 'installment', 'grade', 'sub_grade', 'emp_title', 'emp_length', 'home_ownership', 'annual_inc', 'verification_status', 'issue_d', 'loan_status', 'pymnt_plan', 'url', 'desc', 'purpose', 'title', 'zip_code', 'addr_state', 'dti', 'delinq_2yrs', 'earliest_cr_line', 'inq_last_6mths', 'mths_since_last_delinq', 'mths_since_last_record', 'open_acc', 'pub_rec', 'revol_bal', 'revol_util', 'total_acc', 'initial_list_status', 'out_prncp', 'out_prncp_inv', 'total_pymnt', 'total_pymnt_inv', 'total_rec_prncp', 'total_rec_int', 'total_rec_late_fee', 'recoveries', 'collection_recovery_fee', 'last_pymnt_d', 'last_pymnt_amnt', 'next_pymnt_d', 'last_credit_pull_d', 'collections_12_mths_ex_med', 'mths_since_last_major_derog', 'policy_code', 'application_type', 'annual_inc_joint', 'dti_joint', 'verification_status_joint', 'acc_now_delinq', 'tot_coll_amt', 'tot_cur_bal', 'open_acc_6m', 'open_il_6m', 'open_il_12m', 'open_il_24m', 'mths_since_rcnt_il', 'total_bal_il', 'il_util', 'open_rv_12m', 'open_rv_24m', 'max_bal_bc', 'all_util', 'total_rev_hi_lim', 'inq_fi', 'total_cu_tl', 'inq_last_12m', 'acc_open_past_24mths', 'avg_cur_bal', 'bc_open_to_buy', 'bc_util', 'chargeoff_within_12_mths', 'delinq_amnt', 'mo_sin_old_il_acct', 'mo_sin_old_rev_tl_op', 'mo_sin_rcnt_rev_tl_op', 'mo_sin_rcnt_tl', 'mort_acc', 'mths_since_recent_bc', 'mths_since_recent_bc_dlq', 'mths_since_recent_inq', 'mths_since_recent_revol_delinq', 'num_accts_ever_120_pd', 'num_actv_bc_tl', 'num_actv_rev_tl', 'num_bc_sats', 'num_bc_tl', 'num_il_tl', 'num_op_rev_tl', 'num_rev_accts', 'num_rev_tl_bal_gt_0', 'num_sats', 'num_tl_120dpd_2m', 'num_tl_30dpd', 'num_tl_90g_dpd_24m', 'num_tl_op_past_12m', 'pct_tl_nvr_dlq', 'percent_bc_gt_75', 'pub_rec_bankruptcies', 'tax_liens', 'tot_hi_cred_lim', 'total_bal_ex_mort', 'total_bc_limit', 'total_il_high_credit_limit', 'lc_zip3', 'zil_coef', 'zil_interc']\n"
     ]
    }
   ],
   "source": [
    "print list(df.columns)"
   ]
  },
  {
   "cell_type": "code",
   "execution_count": 5,
   "metadata": {
    "collapsed": false
   },
   "outputs": [
    {
     "data": {
      "text/html": [
       "<div>\n",
       "<table border=\"1\" class=\"dataframe\">\n",
       "  <thead>\n",
       "    <tr style=\"text-align: right;\">\n",
       "      <th></th>\n",
       "      <th>lc_id</th>\n",
       "      <th>member_id</th>\n",
       "      <th>loan_amnt</th>\n",
       "      <th>funded_amnt</th>\n",
       "      <th>funded_amnt_inv</th>\n",
       "      <th>term</th>\n",
       "      <th>int_rate</th>\n",
       "      <th>installment</th>\n",
       "      <th>grade</th>\n",
       "      <th>sub_grade</th>\n",
       "      <th>...</th>\n",
       "      <th>percent_bc_gt_75</th>\n",
       "      <th>pub_rec_bankruptcies</th>\n",
       "      <th>tax_liens</th>\n",
       "      <th>tot_hi_cred_lim</th>\n",
       "      <th>total_bal_ex_mort</th>\n",
       "      <th>total_bc_limit</th>\n",
       "      <th>total_il_high_credit_limit</th>\n",
       "      <th>lc_zip3</th>\n",
       "      <th>zil_coef</th>\n",
       "      <th>zil_interc</th>\n",
       "    </tr>\n",
       "  </thead>\n",
       "  <tbody>\n",
       "    <tr>\n",
       "      <th>0</th>\n",
       "      <td>1077501</td>\n",
       "      <td>1296599</td>\n",
       "      <td>5000</td>\n",
       "      <td>5000</td>\n",
       "      <td>4975.0</td>\n",
       "      <td>36 months</td>\n",
       "      <td>10.65%</td>\n",
       "      <td>162.87</td>\n",
       "      <td>B</td>\n",
       "      <td>B2</td>\n",
       "      <td>...</td>\n",
       "      <td>NaN</td>\n",
       "      <td>0.0</td>\n",
       "      <td>0.0</td>\n",
       "      <td>NaN</td>\n",
       "      <td>NaN</td>\n",
       "      <td>NaN</td>\n",
       "      <td>NaN</td>\n",
       "      <td>860</td>\n",
       "      <td>NaN</td>\n",
       "      <td>NaN</td>\n",
       "    </tr>\n",
       "  </tbody>\n",
       "</table>\n",
       "<p>1 rows × 114 columns</p>\n",
       "</div>"
      ],
      "text/plain": [
       "     lc_id  member_id  loan_amnt  funded_amnt  funded_amnt_inv        term  \\\n",
       "0  1077501    1296599       5000         5000           4975.0   36 months   \n",
       "\n",
       "  int_rate  installment grade sub_grade    ...     percent_bc_gt_75  \\\n",
       "0   10.65%       162.87     B        B2    ...                  NaN   \n",
       "\n",
       "  pub_rec_bankruptcies tax_liens  tot_hi_cred_lim total_bal_ex_mort  \\\n",
       "0                  0.0       0.0              NaN               NaN   \n",
       "\n",
       "  total_bc_limit total_il_high_credit_limit lc_zip3 zil_coef zil_interc  \n",
       "0            NaN                        NaN     860      NaN        NaN  \n",
       "\n",
       "[1 rows x 114 columns]"
      ]
     },
     "execution_count": 5,
     "metadata": {},
     "output_type": "execute_result"
    }
   ],
   "source": [
    "df.head(1)"
   ]
  },
  {
   "cell_type": "markdown",
   "metadata": {},
   "source": [
    "## Try to find categorical features, & verify data types\n",
    "\n",
    "Categorical features are most likely string types with a handful of unique values. Try to identify those here:"
   ]
  },
  {
   "cell_type": "code",
   "execution_count": 6,
   "metadata": {
    "collapsed": false
   },
   "outputs": [
    {
     "name": "stdout",
     "output_type": "stream",
     "text": [
      "numvalues, index, type, name\n",
      "(1, 51, <type 'numpy.int64'>, 'policy_code')\n",
      "(2, 5, <type 'str'>, 'term')\n",
      "(2, 17, <type 'str'>, 'pymnt_plan')\n",
      "(2, 35, <type 'str'>, 'initial_list_status')\n",
      "(2, 52, <type 'str'>, 'application_type')\n",
      "(3, 14, <type 'str'>, 'verification_status')\n",
      "(4, 55, <type 'float'>, 'verification_status_joint')\n",
      "(6, 12, <type 'str'>, 'home_ownership')\n",
      "(6, 99, <type 'numpy.float64'>, 'num_tl_120dpd_2m')\n",
      "(6, 100, <type 'numpy.float64'>, 'num_tl_30dpd')\n",
      "(7, 8, <type 'str'>, 'grade')\n",
      "(9, 16, <type 'str'>, 'loan_status')\n",
      "(9, 56, <type 'numpy.float64'>, 'acc_now_delinq')\n",
      "(11, 78, <type 'numpy.float64'>, 'chargeoff_within_12_mths')\n",
      "(12, 11, <type 'str'>, 'emp_length')\n",
      "(13, 49, <type 'numpy.float64'>, 'collections_12_mths_ex_med')\n",
      "(13, 61, <type 'numpy.float64'>, 'open_il_12m')\n",
      "(13, 105, <type 'numpy.float64'>, 'pub_rec_bankruptcies')\n",
      "(14, 20, <type 'str'>, 'purpose')\n",
      "(14, 59, <type 'numpy.float64'>, 'open_acc_6m')\n",
      "(18, 62, <type 'numpy.float64'>, 'open_il_24m')\n",
      "(19, 66, <type 'numpy.float64'>, 'open_rv_12m')\n",
      "(19, 71, <type 'numpy.float64'>, 'inq_fi')\n",
      "(27, 87, <type 'numpy.float64'>, 'mths_since_recent_inq')\n",
      "(27, 101, <type 'numpy.float64'>, 'num_tl_90g_dpd_24m')\n",
      "(29, 27, <type 'numpy.float64'>, 'inq_last_6mths')\n",
      "(29, 67, <type 'numpy.float64'>, 'open_rv_24m')\n",
      "(29, 73, <type 'numpy.float64'>, 'inq_last_12m')\n",
      "(29, 102, <type 'numpy.float64'>, 'num_tl_op_past_12m')\n",
      "(30, 25, <type 'numpy.float64'>, 'delinq_2yrs')\n",
      "(32, 106, <type 'numpy.float64'>, 'tax_liens')\n",
      "(33, 31, <type 'numpy.float64'>, 'pub_rec')\n",
      "(33, 90, <type 'numpy.float64'>, 'num_actv_bc_tl')\n",
      "(34, 72, <type 'numpy.float64'>, 'total_cu_tl')\n",
      "(35, 9, <type 'str'>, 'sub_grade')\n",
      "(36, 60, <type 'numpy.float64'>, 'open_il_6m')\n",
      "(37, 89, <type 'numpy.float64'>, 'num_accts_ever_120_pd')\n",
      "(40, 84, <type 'numpy.float64'>, 'mort_acc')\n",
      "(45, 97, <type 'numpy.float64'>, 'num_rev_tl_bal_gt_0')\n",
      "(47, 91, <type 'numpy.float64'>, 'num_actv_rev_tl')\n",
      "(49, 74, <type 'numpy.float64'>, 'acc_open_past_24mths')\n",
      "(49, 92, <type 'numpy.float64'>, 'num_bc_sats')\n",
      "(51, 23, <type 'str'>, 'addr_state')\n",
      "(64, 93, <type 'numpy.float64'>, 'num_bc_tl')\n",
      "(64, 95, <type 'numpy.float64'>, 'num_op_rev_tl')\n",
      "(77, 98, <type 'numpy.float64'>, 'num_sats')\n",
      "(78, 30, <type 'numpy.float64'>, 'open_acc')\n",
      "(99, 96, <type 'numpy.float64'>, 'num_rev_accts')\n",
      "(101, 45, <type 'str'>, 'last_pymnt_d')\n",
      "(103, 15, <type 'str'>, 'issue_d')\n",
      "(103, 47, <type 'float'>, 'next_pymnt_d')\n",
      "(106, 94, <type 'numpy.float64'>, 'num_il_tl')\n",
      "(107, 48, <type 'str'>, 'last_credit_pull_d')\n",
      "(124, 29, <type 'numpy.float64'>, 'mths_since_last_record')\n",
      "(136, 34, <type 'numpy.float64'>, 'total_acc')\n",
      "(156, 28, <type 'numpy.float64'>, 'mths_since_last_delinq')\n",
      "(159, 86, <type 'numpy.float64'>, 'mths_since_recent_bc_dlq')\n",
      "(159, 88, <type 'numpy.float64'>, 'mths_since_recent_revol_delinq')\n",
      "(169, 50, <type 'numpy.float64'>, 'mths_since_last_major_derog')\n",
      "(175, 83, <type 'numpy.float64'>, 'mo_sin_rcnt_tl')\n",
      "(202, 63, <type 'numpy.float64'>, 'mths_since_rcnt_il')\n",
      "(222, 104, <type 'numpy.float64'>, 'percent_bc_gt_75')\n",
      "(257, 82, <type 'numpy.float64'>, 'mo_sin_rcnt_rev_tl_op')\n",
      "(309, 53, <type 'numpy.float64'>, 'annual_inc_joint')\n",
      "(359, 112, <type 'numpy.float64'>, 'zil_coef')\n",
      "(359, 113, <type 'numpy.float64'>, 'zil_interc')\n",
      "(450, 54, <type 'numpy.float64'>, 'dti_joint')\n",
      "(457, 85, <type 'numpy.float64'>, 'mths_since_recent_bc')\n",
      "(499, 80, <type 'numpy.float64'>, 'mo_sin_old_il_acct')\n",
      "(542, 6, <type 'str'>, 'int_rate')\n",
      "(569, 103, <type 'numpy.float64'>, 'pct_tl_nvr_dlq')\n",
      "(698, 26, <type 'str'>, 'earliest_cr_line')\n",
      "(731, 81, <type 'numpy.float64'>, 'mo_sin_old_rev_tl_op')\n",
      "(935, 22, <type 'str'>, 'zip_code')\n",
      "(935, 111, <type 'numpy.int64'>, 'lc_zip3')\n",
      "(1129, 69, <type 'numpy.float64'>, 'all_util')\n",
      "(1273, 65, <type 'numpy.float64'>, 'il_util')\n",
      "(1333, 79, <type 'numpy.float64'>, 'delinq_amnt')\n",
      "(1357, 33, <type 'str'>, 'revol_util')\n",
      "(1372, 2, <type 'numpy.int64'>, 'loan_amnt')\n",
      "(1372, 3, <type 'numpy.int64'>, 'funded_amnt')\n",
      "(1396, 77, <type 'numpy.float64'>, 'bc_util')\n",
      "(4086, 24, <type 'numpy.float64'>, 'dti')\n",
      "(6662, 42, <type 'numpy.float64'>, 'total_rec_late_fee')\n",
      "(9843, 4, <type 'numpy.float64'>, 'funded_amnt_inv')\n",
      "(10326, 57, <type 'numpy.float64'>, 'tot_coll_amt')\n",
      "(10708, 68, <type 'numpy.float64'>, 'max_bal_bc')\n",
      "(14841, 109, <type 'numpy.float64'>, 'total_bc_limit')\n",
      "(17031, 64, <type 'numpy.float64'>, 'total_bal_il')\n",
      "(21252, 70, <type 'numpy.float64'>, 'total_rev_hi_lim')\n",
      "(27374, 44, <type 'numpy.float64'>, 'collection_recovery_fee')\n",
      "(29325, 43, <type 'numpy.float64'>, 'recoveries')\n",
      "(49385, 13, <type 'numpy.float64'>, 'annual_inc')\n",
      "(61853, 76, <type 'numpy.float64'>, 'bc_open_to_buy')\n",
      "(63146, 21, <type 'str'>, 'title')\n",
      "(67492, 75, <type 'numpy.float64'>, 'avg_cur_bal')\n",
      "(68713, 7, <type 'numpy.float64'>, 'installment')\n",
      "(73740, 32, <type 'numpy.int64'>, 'revol_bal')\n",
      "(124471, 19, <type 'str'>, 'desc')\n",
      "(139517, 110, <type 'numpy.float64'>, 'total_il_high_credit_limit')\n",
      "(153975, 108, <type 'numpy.float64'>, 'total_bal_ex_mort')\n",
      "(241675, 36, <type 'numpy.float64'>, 'out_prncp')\n",
      "(253269, 46, <type 'numpy.float64'>, 'last_pymnt_amnt')\n",
      "(258960, 37, <type 'numpy.float64'>, 'out_prncp_inv')\n",
      "(261687, 40, <type 'numpy.float64'>, 'total_rec_prncp')\n",
      "(299273, 10, <type 'float'>, 'emp_title')\n",
      "(327343, 58, <type 'numpy.float64'>, 'tot_cur_bal')\n",
      "(337522, 41, <type 'numpy.float64'>, 'total_rec_int')\n",
      "(344973, 107, <type 'numpy.float64'>, 'tot_hi_cred_lim')\n",
      "(528847, 39, <type 'numpy.float64'>, 'total_pymnt_inv')\n",
      "(543002, 38, <type 'numpy.float64'>, 'total_pymnt')\n",
      "(887382, 0, <type 'numpy.int64'>, 'lc_id')\n",
      "(887382, 1, <type 'numpy.int64'>, 'member_id')\n",
      "(887382, 18, <type 'str'>, 'url')\n"
     ]
    }
   ],
   "source": [
    "num_unique_items = [ df[x].unique().shape[0] for x in df]\n",
    "print 'numvalues, index, type, name'\n",
    "for x in sorted(zip(num_unique_items,range(len(df.columns)),[type(df[x][0]) for x in df.columns],df.columns)):\n",
    "    print x"
   ]
  },
  {
   "cell_type": "markdown",
   "metadata": {},
   "source": [
    "## Categoricals probably have fewer unique values, look for those (they will also have at least 2 different values, otherwise they're not a variable). Also list the actual values."
   ]
  },
  {
   "cell_type": "code",
   "execution_count": 7,
   "metadata": {
    "collapsed": false
   },
   "outputs": [
    {
     "name": "stdout",
     "output_type": "stream",
     "text": [
      "'term'\n",
      " 36 months    621127\n",
      " 60 months    266255\n",
      "Name: term, dtype: int64\n",
      "\n",
      "'grade'\n",
      "B    254535\n",
      "C    245860\n",
      "A    148203\n",
      "D    139543\n",
      "E     70705\n",
      "F     23047\n",
      "G      5489\n",
      "Name: grade, dtype: int64\n",
      "\n",
      "'emp_length'\n",
      "10+ years    291570\n",
      "2 years       78870\n",
      "< 1 year      70606\n",
      "3 years       70026\n",
      "1 year        57095\n",
      "5 years       55704\n",
      "4 years       52529\n",
      "n/a           44825\n",
      "7 years       44595\n",
      "8 years       43955\n",
      "6 years       42950\n",
      "9 years       34657\n",
      "Name: emp_length, dtype: int64\n",
      "\n",
      "'home_ownership'\n",
      "MORTGAGE    443558\n",
      "RENT        356118\n",
      "OWN          87471\n",
      "OTHER          182\n",
      "NONE            50\n",
      "ANY              3\n",
      "Name: home_ownership, dtype: int64\n",
      "\n",
      "'verification_status'\n",
      "Source Verified    329559\n",
      "Verified           291071\n",
      "Not Verified       266752\n",
      "Name: verification_status, dtype: int64\n",
      "\n",
      "'loan_status'\n",
      "Current                                                573404\n",
      "Fully Paid                                             238357\n",
      "Charged Off                                             53599\n",
      "Late (31-120 days)                                      11339\n",
      "In Grace Period                                          5346\n",
      "Late (16-30 days)                                        2297\n",
      "Does not meet the credit policy. Status:Fully Paid       1988\n",
      "Does not meet the credit policy. Status:Charged Off       761\n",
      "Default                                                   291\n",
      "Name: loan_status, dtype: int64\n",
      "\n",
      "'pymnt_plan'\n",
      "n    887376\n",
      "y         6\n",
      "Name: pymnt_plan, dtype: int64\n",
      "\n",
      "'purpose'\n",
      "debt_consolidation    524216\n",
      "credit_card           206183\n",
      "home_improvement       51830\n",
      "other                  42894\n",
      "major_purchase         17277\n",
      "small_business         10377\n",
      "car                     8863\n",
      "medical                 8540\n",
      "moving                  5414\n",
      "vacation                4736\n",
      "house                   3707\n",
      "wedding                 2347\n",
      "renewable_energy         575\n",
      "educational              423\n",
      "Name: purpose, dtype: int64\n",
      "\n",
      "'initial_list_status'\n",
      "f    456850\n",
      "w    430532\n",
      "Name: initial_list_status, dtype: int64\n",
      "\n",
      "'collections_12_mths_ex_med'\n",
      "0.0     875556\n",
      "1.0      10824\n",
      "2.0        732\n",
      "3.0         88\n",
      "4.0         23\n",
      "5.0          7\n",
      "6.0          2\n",
      "20.0         1\n",
      "16.0         1\n",
      "14.0         1\n",
      "10.0         1\n",
      "7.0          1\n",
      "Name: collections_12_mths_ex_med, dtype: int64\n",
      "\n",
      "'application_type'\n",
      "INDIVIDUAL    886871\n",
      "JOINT            511\n",
      "Name: application_type, dtype: int64\n",
      "\n",
      "'verification_status_joint'\n",
      "Not Verified       283\n",
      "Verified           167\n",
      "Source Verified     61\n",
      "Name: verification_status_joint, dtype: int64\n",
      "\n",
      "'acc_now_delinq'\n",
      "0.0     883239\n",
      "1.0       3866\n",
      "2.0        208\n",
      "3.0         28\n",
      "4.0          7\n",
      "5.0          3\n",
      "14.0         1\n",
      "6.0          1\n",
      "Name: acc_now_delinq, dtype: int64\n",
      "\n",
      "'open_acc_6m'\n",
      "0.0     8246\n",
      "1.0     6808\n",
      "2.0     3752\n",
      "3.0     1572\n",
      "4.0      593\n",
      "5.0      232\n",
      "6.0      104\n",
      "7.0       37\n",
      "8.0       13\n",
      "9.0        7\n",
      "10.0       4\n",
      "14.0       2\n",
      "12.0       2\n",
      "Name: open_acc_6m, dtype: int64\n",
      "\n",
      "'open_il_12m'\n",
      "0.0     10806\n",
      "1.0      6655\n",
      "2.0      2785\n",
      "3.0       727\n",
      "4.0       235\n",
      "5.0        96\n",
      "6.0        46\n",
      "7.0        11\n",
      "8.0         5\n",
      "9.0         3\n",
      "10.0        2\n",
      "12.0        1\n",
      "Name: open_il_12m, dtype: int64\n",
      "\n",
      "'open_il_24m'\n",
      "1.0     6436\n",
      "0.0     5481\n",
      "2.0     4448\n",
      "3.0     2468\n",
      "4.0     1249\n",
      "5.0      606\n",
      "6.0      309\n",
      "7.0      163\n",
      "8.0       81\n",
      "9.0       47\n",
      "10.0      28\n",
      "11.0      23\n",
      "12.0      17\n",
      "13.0       7\n",
      "14.0       6\n",
      "15.0       2\n",
      "19.0       1\n",
      "Name: open_il_24m, dtype: int64\n",
      "\n",
      "'open_rv_12m'\n",
      "0.0     7073\n",
      "1.0     6415\n",
      "2.0     3955\n",
      "3.0     2125\n",
      "4.0      962\n",
      "5.0      420\n",
      "6.0      204\n",
      "7.0      103\n",
      "8.0       50\n",
      "10.0      24\n",
      "9.0       21\n",
      "12.0       7\n",
      "11.0       6\n",
      "14.0       2\n",
      "15.0       2\n",
      "19.0       1\n",
      "16.0       1\n",
      "22.0       1\n",
      "Name: open_rv_12m, dtype: int64\n",
      "\n",
      "'inq_fi'\n",
      "0.0     11411\n",
      "1.0      5009\n",
      "2.0      2530\n",
      "3.0      1119\n",
      "4.0       589\n",
      "5.0       354\n",
      "6.0       165\n",
      "7.0        91\n",
      "8.0        42\n",
      "9.0        23\n",
      "10.0       13\n",
      "11.0       11\n",
      "12.0        5\n",
      "13.0        5\n",
      "14.0        2\n",
      "16.0        1\n",
      "15.0        1\n",
      "17.0        1\n",
      "Name: inq_fi, dtype: int64\n",
      "\n",
      "'chargeoff_within_12_mths'\n",
      "0.0     880188\n",
      "1.0       6389\n",
      "2.0        544\n",
      "3.0         76\n",
      "4.0         21\n",
      "5.0          9\n",
      "6.0          5\n",
      "7.0          3\n",
      "10.0         1\n",
      "9.0          1\n",
      "Name: chargeoff_within_12_mths, dtype: int64\n",
      "\n",
      "'num_tl_120dpd_2m'\n",
      "0.0    789187\n",
      "1.0       550\n",
      "2.0        20\n",
      "3.0         2\n",
      "6.0         1\n",
      "Name: num_tl_120dpd_2m, dtype: int64\n",
      "\n",
      "'num_tl_30dpd'\n",
      "0.0    814390\n",
      "1.0      2561\n",
      "2.0       130\n",
      "3.0        19\n",
      "4.0         6\n",
      "Name: num_tl_30dpd, dtype: int64\n",
      "\n",
      "'pub_rec_bankruptcies'\n",
      "0.0     788127\n",
      "1.0      91990\n",
      "2.0       4596\n",
      "3.0        948\n",
      "4.0        226\n",
      "5.0         82\n",
      "6.0         24\n",
      "7.0         14\n",
      "8.0          6\n",
      "9.0          2\n",
      "12.0         1\n",
      "11.0         1\n",
      "Name: pub_rec_bankruptcies, dtype: int64\n",
      "\n"
     ]
    }
   ],
   "source": [
    "nuis = [ df.columns[i] for i, x in enumerate(num_unique_items) if (x < 20) & (x > 1)]\n",
    "for x in nuis:\n",
    "    print \"'{}'\".format(x)\n",
    "    print df[x].value_counts()\n",
    "    print"
   ]
  },
  {
   "cell_type": "markdown",
   "metadata": {},
   "source": [
    "## There are several obvious categoricals based on the above list\n",
    "\n",
    "### These first two I will treat as ordered, since it seems there is a logical ordering of their values:\n",
    "- `'term'` - the length of the loan, treating it as an ordinal\n",
    "- `'emp_length'` - can also be treated as an ordinal, I think\n",
    "\n",
    "### Lending Club loan grade:\n",
    "- `'grade'` - this I'll eventually treat as a response, based on previous analysis. It's already a ranking of the probability that the loan will be paid back.\n",
    "\n",
    "### And the categoricals:\n",
    "- ```\n",
    "'home_ownership', 'verification_status', 'pymnt_plan','purpose','initial_list_status','application_type','verification_status_joint'\n",
    "                    ```\n",
    "                    \n",
    "### The remaining variables in the short list all have numeric values, so I'm going to leave them that way."
   ]
  },
  {
   "cell_type": "markdown",
   "metadata": {},
   "source": [
    "## Process the unordered categoricals:"
   ]
  },
  {
   "cell_type": "code",
   "execution_count": 8,
   "metadata": {
    "collapsed": false
   },
   "outputs": [
    {
     "name": "stdout",
     "output_type": "stream",
     "text": [
      "(887382, 146)\n"
     ]
    }
   ],
   "source": [
    "cat_feature_names = ['home_ownership', 'verification_status', \n",
    "                     'pymnt_plan','purpose','initial_list_status',\n",
    "                    'application_type','verification_status_joint']\n",
    "\n",
    "df_catf = pd.get_dummies(df[cat_feature_names])\n",
    "df=pd.concat([df,df_catf],axis = 1)\n",
    "print df.shape"
   ]
  },
  {
   "cell_type": "markdown",
   "metadata": {},
   "source": [
    "## Process the ordered categoricals:"
   ]
  },
  {
   "cell_type": "code",
   "execution_count": 9,
   "metadata": {
    "collapsed": true
   },
   "outputs": [],
   "source": [
    "ord_feature_names = ['term', 'emp_length']\n",
    "ord_feature_numnames = [x + '_num' for x in ord_feature_names]\n",
    "ord_feature_map = [\n",
    "    ['term', {' 36 months' :0, ' 60 months' : 1}], \n",
    "    ['emp_length', {'< 1 year': .5, '1 year' : 1, '2 years' : 2, '3 years' : 3, '4 years':4, '5 years':5, \n",
    "                   '6 years':6, '7 years':7, '8 years':8, '9 years':9, '10+ years':10,\n",
    "                   'n/a': 0 }]\n",
    "]"
   ]
  },
  {
   "cell_type": "code",
   "execution_count": 10,
   "metadata": {
    "collapsed": false
   },
   "outputs": [
    {
     "name": "stdout",
     "output_type": "stream",
     "text": [
      "         term emp_length\n",
      "0   36 months  10+ years\n",
      "1   60 months   < 1 year\n",
      "2   36 months  10+ years\n",
      "3   36 months  10+ years\n",
      "4   60 months     1 year\n",
      "   term_num  emp_length_num\n",
      "0         0            10.0\n",
      "1         1             0.5\n",
      "2         0            10.0\n",
      "3         0            10.0\n",
      "4         1             1.0\n"
     ]
    }
   ],
   "source": [
    "#minidf = df.head(30) # for testing dummies & categorical conversions\n",
    "for x in ord_feature_map:\n",
    "    df[x[0]+'_num']=df[x[0]].map(x[1])\n",
    "#print df.head()\n",
    "print df[ord_feature_names].head()\n",
    "print df[ord_feature_numnames].head()"
   ]
  },
  {
   "cell_type": "code",
   "execution_count": 11,
   "metadata": {
    "collapsed": false
   },
   "outputs": [
    {
     "name": "stdout",
     "output_type": "stream",
     "text": [
      "(887382, 148)\n"
     ]
    }
   ],
   "source": [
    "print df.shape"
   ]
  },
  {
   "cell_type": "markdown",
   "metadata": {},
   "source": [
    "## Convert the response variable to a binary representation\n",
    "\n",
    "`'loan_status'` Is what I eventually want to predict. It has many possible values, but the majority of them can be simplified to either a 'successful' loan or a 'default' loan"
   ]
  },
  {
   "cell_type": "code",
   "execution_count": 12,
   "metadata": {
    "collapsed": false
   },
   "outputs": [
    {
     "data": {
      "text/plain": [
       "Current                                                573404\n",
       "Fully Paid                                             238357\n",
       "Charged Off                                             53599\n",
       "Late (31-120 days)                                      11339\n",
       "In Grace Period                                          5346\n",
       "Late (16-30 days)                                        2297\n",
       "Does not meet the credit policy. Status:Fully Paid       1988\n",
       "Does not meet the credit policy. Status:Charged Off       761\n",
       "Default                                                   291\n",
       "Name: loan_status, dtype: int64"
      ]
     },
     "execution_count": 12,
     "metadata": {},
     "output_type": "execute_result"
    }
   ],
   "source": [
    "df.loan_status.value_counts()"
   ]
  },
  {
   "cell_type": "code",
   "execution_count": 13,
   "metadata": {
    "collapsed": false
   },
   "outputs": [
    {
     "name": "stdout",
     "output_type": "stream",
     "text": [
      "overall success rate for loans(811761/865651):  0.937746274191% \n"
     ]
    }
   ],
   "source": [
    "df['loan_status_num'] = df.loan_status.map(\n",
    "    {'Charged Off':0, 'Default':0, 'Fully Paid':1, 'Current':1})\n",
    "tot_good_loans = df.loan_status_num[df.loan_status_num == 1].count()\n",
    "total_success_rate = float(tot_good_loans)/df.loan_status_num.count()\n",
    "print \"overall success rate for loans({}/{}):  {}% \".format(\n",
    "    tot_good_loans, df.loan_status_num.count(), total_success_rate)"
   ]
  },
  {
   "cell_type": "markdown",
   "metadata": {},
   "source": [
    "## Modify 'grade'\n",
    "\n",
    "I can use this for comparison and/or verification during parts of the analysis"
   ]
  },
  {
   "cell_type": "code",
   "execution_count": 14,
   "metadata": {
    "collapsed": false
   },
   "outputs": [
    {
     "data": {
      "text/plain": [
       "A    148203\n",
       "B    254535\n",
       "C    245860\n",
       "D    139543\n",
       "E     70705\n",
       "F     23047\n",
       "G      5489\n",
       "Name: grade, dtype: int64"
      ]
     },
     "execution_count": 14,
     "metadata": {},
     "output_type": "execute_result"
    }
   ],
   "source": [
    "df.grade.value_counts().sort_index()"
   ]
  },
  {
   "cell_type": "code",
   "execution_count": 15,
   "metadata": {
    "collapsed": true
   },
   "outputs": [],
   "source": [
    "df['grade_num'] = df.grade.map({'A':0, 'B':1, 'C':2, 'D':3, 'E':4, 'F':5, 'G':6})\n",
    "gradenames=sorted(df.grade.unique())\n",
    "gradenums = np.arange(0,7)\n"
   ]
  },
  {
   "cell_type": "markdown",
   "metadata": {},
   "source": [
    "### Save this version of the file"
   ]
  },
  {
   "cell_type": "code",
   "execution_count": 16,
   "metadata": {
    "collapsed": false
   },
   "outputs": [
    {
     "data": {
      "text/plain": [
       "u'/Users/stephane/classes/ds2/repos/gadat-project'"
      ]
     },
     "execution_count": 16,
     "metadata": {},
     "output_type": "execute_result"
    }
   ],
   "source": [
    "pwd"
   ]
  },
  {
   "cell_type": "code",
   "execution_count": 18,
   "metadata": {
    "collapsed": false
   },
   "outputs": [
    {
     "name": "stdout",
     "output_type": "stream",
     "text": [
      "['lc_id', 'member_id', 'loan_amnt', 'funded_amnt', 'funded_amnt_inv', 'term', 'int_rate', 'installment', 'grade', 'sub_grade', 'emp_title', 'emp_length', 'home_ownership', 'annual_inc', 'verification_status', 'issue_d', 'loan_status', 'pymnt_plan', 'url', 'desc', 'purpose', 'title', 'zip_code', 'addr_state', 'dti', 'delinq_2yrs', 'earliest_cr_line', 'inq_last_6mths', 'mths_since_last_delinq', 'mths_since_last_record', 'open_acc', 'pub_rec', 'revol_bal', 'revol_util', 'total_acc', 'initial_list_status', 'out_prncp', 'out_prncp_inv', 'total_pymnt', 'total_pymnt_inv', 'total_rec_prncp', 'total_rec_int', 'total_rec_late_fee', 'recoveries', 'collection_recovery_fee', 'last_pymnt_d', 'last_pymnt_amnt', 'next_pymnt_d', 'last_credit_pull_d', 'collections_12_mths_ex_med', 'mths_since_last_major_derog', 'policy_code', 'application_type', 'annual_inc_joint', 'dti_joint', 'verification_status_joint', 'acc_now_delinq', 'tot_coll_amt', 'tot_cur_bal', 'open_acc_6m', 'open_il_6m', 'open_il_12m', 'open_il_24m', 'mths_since_rcnt_il', 'total_bal_il', 'il_util', 'open_rv_12m', 'open_rv_24m', 'max_bal_bc', 'all_util', 'total_rev_hi_lim', 'inq_fi', 'total_cu_tl', 'inq_last_12m', 'acc_open_past_24mths', 'avg_cur_bal', 'bc_open_to_buy', 'bc_util', 'chargeoff_within_12_mths', 'delinq_amnt', 'mo_sin_old_il_acct', 'mo_sin_old_rev_tl_op', 'mo_sin_rcnt_rev_tl_op', 'mo_sin_rcnt_tl', 'mort_acc', 'mths_since_recent_bc', 'mths_since_recent_bc_dlq', 'mths_since_recent_inq', 'mths_since_recent_revol_delinq', 'num_accts_ever_120_pd', 'num_actv_bc_tl', 'num_actv_rev_tl', 'num_bc_sats', 'num_bc_tl', 'num_il_tl', 'num_op_rev_tl', 'num_rev_accts', 'num_rev_tl_bal_gt_0', 'num_sats', 'num_tl_120dpd_2m', 'num_tl_30dpd', 'num_tl_90g_dpd_24m', 'num_tl_op_past_12m', 'pct_tl_nvr_dlq', 'percent_bc_gt_75', 'pub_rec_bankruptcies', 'tax_liens', 'tot_hi_cred_lim', 'total_bal_ex_mort', 'total_bc_limit', 'total_il_high_credit_limit', 'lc_zip3', 'zil_coef', 'zil_interc', 'home_ownership_ANY', 'home_ownership_MORTGAGE', 'home_ownership_NONE', 'home_ownership_OTHER', 'home_ownership_OWN', 'home_ownership_RENT', 'verification_status_Not Verified', 'verification_status_Source Verified', 'verification_status_Verified', 'pymnt_plan_n', 'pymnt_plan_y', 'purpose_car', 'purpose_credit_card', 'purpose_debt_consolidation', 'purpose_educational', 'purpose_home_improvement', 'purpose_house', 'purpose_major_purchase', 'purpose_medical', 'purpose_moving', 'purpose_other', 'purpose_renewable_energy', 'purpose_small_business', 'purpose_vacation', 'purpose_wedding', 'initial_list_status_f', 'initial_list_status_w', 'application_type_INDIVIDUAL', 'application_type_JOINT', 'verification_status_joint_Not Verified', 'verification_status_joint_Source Verified', 'verification_status_joint_Verified', 'term_num', 'emp_length_num', 'loan_status_num', 'grade_num']\n"
     ]
    }
   ],
   "source": [
    "print list(df.columns)"
   ]
  },
  {
   "cell_type": "code",
   "execution_count": 19,
   "metadata": {
    "collapsed": false
   },
   "outputs": [
    {
     "name": "stdout",
     "output_type": "stream",
     "text": [
      "(887382, 150)\n",
      "155.400627136\n"
     ]
    }
   ],
   "source": [
    "path = 'data/processed/LoanStats-combined-z-2.csv'\n",
    "t1 = time.time()\n",
    "df.to_csv(path,index = False)\n",
    "print df.shape\n",
    "t2 = time.time()\n",
    "print t2-t1"
   ]
  },
  {
   "cell_type": "code",
   "execution_count": null,
   "metadata": {
    "collapsed": true
   },
   "outputs": [],
   "source": []
  }
 ],
 "metadata": {
  "kernelspec": {
   "display_name": "Python 2",
   "language": "python",
   "name": "python2"
  },
  "language_info": {
   "codemirror_mode": {
    "name": "ipython",
    "version": 2
   },
   "file_extension": ".py",
   "mimetype": "text/x-python",
   "name": "python",
   "nbconvert_exporter": "python",
   "pygments_lexer": "ipython2",
   "version": "2.7.11"
  }
 },
 "nbformat": 4,
 "nbformat_minor": 0
}
