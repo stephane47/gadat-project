{
 "cells": [
  {
   "cell_type": "markdown",
   "metadata": {},
   "source": [
    "Predicting the default rate of peer-to-peer loans \n",
    "====\n",
    "\n",
    "### What is the question you hope to answer?\n",
    "\n",
    "The goal of this project is to combine data on ratings & default rates of peer-to-peer loans arranged through Lending Club with publically available data on unemployment & housing costs to improve the prediction of default rates on these loans. \n",
    "\n",
    "Lending Club operates an online lending platform that enables borrowers to obtain a loan, and investors to purchase notes backed by payments made on loans. Lending Club is the world's largest peer-to-peer lending platform. \n",
    "\n",
    "\n",
    "Specifically, if I can identify positive or negative trends in unemployment and cost of living (rent), I hope that these will improve my ability to predict rate of return and/or the default rate compared to only using Lending Club's data.\n",
    "\n",
    "\n",
    "### Available data\n",
    "\n",
    "Lending Club publishes \"complete loan data for all loans issued \", available for download as csv files. This includes information supplied about the borrower, amount of loan, loan grade, and loan purpose.\n",
    "\n",
    "In addition, the data include information on the borrower's employment, living arrangement (rent/mortgage), & geographic location as well. \n",
    "\n",
    "I plan to take advantage of these items by combining them with data from 2 additional sources:\n",
    "\n",
    "- The Bureau of Labor Statistics has published data on employment in multiple formats broken down by zip code & sector, [available as csv files](http://download.bls.gov/pub/time.series/overview.txt)\n",
    "\n",
    "- Zillow publishes their data on both home values (ZHVI) and median rents (ZRI) by geographic area.\n",
    "These data are available for download as csv files.\n",
    "\n"
   ]
  },
  {
   "cell_type": "markdown",
   "metadata": {},
   "source": [
    "## Importing Lending Club data, 1st pass\n"
   ]
  },
  {
   "cell_type": "code",
   "execution_count": 81,
   "metadata": {
    "collapsed": true
   },
   "outputs": [],
   "source": [
    "import numpy as np\n",
    "import pandas as pd"
   ]
  },
  {
   "cell_type": "code",
   "execution_count": 82,
   "metadata": {
    "collapsed": false
   },
   "outputs": [
    {
     "data": {
      "text/plain": [
       "u'/Users/stephane/classes/ds2/repos/gadat-project'"
      ]
     },
     "execution_count": 82,
     "metadata": {},
     "output_type": "execute_result"
    }
   ],
   "source": [
    "pwd"
   ]
  },
  {
   "cell_type": "code",
   "execution_count": 83,
   "metadata": {
    "collapsed": false,
    "scrolled": true
   },
   "outputs": [
    {
     "name": "stdout",
     "output_type": "stream",
     "text": [
      "['id', 'member_id', 'loan_amnt', 'funded_amnt', 'funded_amnt_inv', 'term', 'int_rate', 'installment', 'grade', 'sub_grade', 'emp_title', 'emp_length', 'home_ownership', 'annual_inc', 'verification_status', 'issue_d', 'loan_status', 'pymnt_plan', 'url', 'desc', 'purpose', 'title', 'zip_code', 'addr_state', 'dti', 'delinq_2yrs', 'earliest_cr_line', 'inq_last_6mths', 'mths_since_last_delinq', 'mths_since_last_record', 'open_acc', 'pub_rec', 'revol_bal', 'revol_util', 'total_acc', 'initial_list_status', 'out_prncp', 'out_prncp_inv', 'total_pymnt', 'total_pymnt_inv', 'total_rec_prncp', 'total_rec_int', 'total_rec_late_fee', 'recoveries', 'collection_recovery_fee', 'last_pymnt_d', 'last_pymnt_amnt', 'next_pymnt_d', 'last_credit_pull_d', 'collections_12_mths_ex_med', 'mths_since_last_major_derog', 'policy_code', 'application_type', 'annual_inc_joint', 'dti_joint', 'verification_status_joint', 'acc_now_delinq', 'tot_coll_amt', 'tot_cur_bal', 'open_acc_6m', 'open_il_6m', 'open_il_12m', 'open_il_24m', 'mths_since_rcnt_il', 'total_bal_il', 'il_util', 'open_rv_12m', 'open_rv_24m', 'max_bal_bc', 'all_util', 'total_rev_hi_lim', 'inq_fi', 'total_cu_tl', 'inq_last_12m', 'acc_open_past_24mths', 'avg_cur_bal', 'bc_open_to_buy', 'bc_util', 'chargeoff_within_12_mths', 'delinq_amnt', 'mo_sin_old_il_acct', 'mo_sin_old_rev_tl_op', 'mo_sin_rcnt_rev_tl_op', 'mo_sin_rcnt_tl', 'mort_acc', 'mths_since_recent_bc', 'mths_since_recent_bc_dlq', 'mths_since_recent_inq', 'mths_since_recent_revol_delinq', 'num_accts_ever_120_pd', 'num_actv_bc_tl', 'num_actv_rev_tl', 'num_bc_sats', 'num_bc_tl', 'num_il_tl', 'num_op_rev_tl', 'num_rev_accts', 'num_rev_tl_bal_gt_0', 'num_sats', 'num_tl_120dpd_2m', 'num_tl_30dpd', 'num_tl_90g_dpd_24m', 'num_tl_op_past_12m', 'pct_tl_nvr_dlq', 'percent_bc_gt_75', 'pub_rec_bankruptcies', 'tax_liens', 'tot_hi_cred_lim', 'total_bal_ex_mort', 'total_bc_limit', 'total_il_high_credit_limit']\n",
      "111\n",
      "(42535, 111)\n"
     ]
    }
   ],
   "source": [
    "#1st step - read in a sample of the data\n",
    "path = 'data/lc/'\n",
    "url = path + 'LoanStats3a.csv'\n",
    "df = pd.read_csv(url,skiprows=[0, 39788,39789,39790, 42540, 42541, 42542, 42543])\n",
    "dfc=df.columns\n",
    "\n",
    "print list(dfc)\n",
    "print len(dfc)\n",
    "df.head(1)\n",
    "print df.shape"
   ]
  },
  {
   "cell_type": "markdown",
   "metadata": {},
   "source": [
    "## Check a few items..."
   ]
  },
  {
   "cell_type": "code",
   "execution_count": 84,
   "metadata": {
    "collapsed": false
   },
   "outputs": [
    {
     "name": "stdout",
     "output_type": "stream",
     "text": [
      "unique ids: (42535,)\n",
      "unique member_ids: (42535,)\n"
     ]
    }
   ],
   "source": [
    "print \"unique ids: {}\".format(pd.value_counts(df.id).shape)\n",
    "print \"unique member_ids: {}\".format(pd.value_counts(df.member_id).shape)"
   ]
  },
  {
   "cell_type": "code",
   "execution_count": 85,
   "metadata": {
    "collapsed": false
   },
   "outputs": [
    {
     "name": "stdout",
     "output_type": "stream",
     "text": [
      "(519,)\n"
     ]
    },
    {
     "data": {
      "text/plain": [
       "0       40538\n",
       "5000       16\n",
       "7500       12\n",
       "8000       11\n",
       "3625       11\n",
       "dtype: int64"
      ]
     },
     "execution_count": 85,
     "metadata": {},
     "output_type": "execute_result"
    }
   ],
   "source": [
    "#loan_amnt doesn't always equal funded_amnt, but mostly does\n",
    "adiff=df.loan_amnt - df.funded_amnt\n",
    "print pd.value_counts(adiff).shape\n",
    "pd.value_counts(adiff).head()"
   ]
  },
  {
   "cell_type": "code",
   "execution_count": 86,
   "metadata": {
    "collapsed": true
   },
   "outputs": [],
   "source": [
    "colset1 = \\\n",
    "['id', 'member_id', 'loan_amnt', 'funded_amnt', 'funded_amnt_inv',\n",
    " 'term', 'int_rate', 'installment', 'grade', 'sub_grade',\n",
    "'loan_status', \n",
    " 'out_prncp', 'out_prncp_inv',\n",
    " 'total_pymnt', 'total_pymnt_inv', 'total_rec_prncp', 'total_rec_int', 'total_rec_late_fee',\n",
    " \n",
    "]"
   ]
  },
  {
   "cell_type": "code",
   "execution_count": 87,
   "metadata": {
    "collapsed": true
   },
   "outputs": [],
   "source": [
    "df=df[colset1]"
   ]
  },
  {
   "cell_type": "code",
   "execution_count": 88,
   "metadata": {
    "collapsed": false
   },
   "outputs": [
    {
     "data": {
      "text/plain": [
       "(42535, 18)"
      ]
     },
     "execution_count": 88,
     "metadata": {},
     "output_type": "execute_result"
    }
   ],
   "source": [
    "df.shape"
   ]
  },
  {
   "cell_type": "markdown",
   "metadata": {},
   "source": [
    "## Examine the loan_status column - this is what we want to predict"
   ]
  },
  {
   "cell_type": "code",
   "execution_count": 89,
   "metadata": {
    "collapsed": false
   },
   "outputs": [
    {
     "data": {
      "text/plain": [
       "Fully Paid                                             32577\n",
       "Charged Off                                             5605\n",
       "Does not meet the credit policy. Status:Fully Paid      1988\n",
       "Current                                                 1522\n",
       "Does not meet the credit policy. Status:Charged Off      761\n",
       "Late (31-120 days)                                        47\n",
       "In Grace Period                                           27\n",
       "Late (16-30 days)                                          7\n",
       "Default                                                    1\n",
       "Name: loan_status, dtype: int64"
      ]
     },
     "execution_count": 89,
     "metadata": {},
     "output_type": "execute_result"
    }
   ],
   "source": [
    "pd.value_counts(df.loan_status)"
   ]
  },
  {
   "cell_type": "markdown",
   "metadata": {},
   "source": [
    "## And the 'grade'"
   ]
  },
  {
   "cell_type": "code",
   "execution_count": 90,
   "metadata": {
    "collapsed": false
   },
   "outputs": [
    {
     "data": {
      "text/plain": [
       "B    12389\n",
       "A    10183\n",
       "C     8740\n",
       "D     6016\n",
       "E     3394\n",
       "F     1301\n",
       "G      512\n",
       "Name: grade, dtype: int64"
      ]
     },
     "execution_count": 90,
     "metadata": {},
     "output_type": "execute_result"
    }
   ],
   "source": [
    "pd.value_counts(df.grade)"
   ]
  },
  {
   "cell_type": "code",
   "execution_count": 91,
   "metadata": {
    "collapsed": true
   },
   "outputs": [],
   "source": [
    "#should look at df.grade, and see if that predicts df.loan_status\n",
    "#treat loan_status as binary: 0 Charged Off; 1 Fully Paid (ignore others)\n",
    "#convert grade to numeric\n",
    "#first look at plots\n",
    "%matplotlib inline\n",
    "import seaborn as sns\n",
    "import matplotlib.pyplot as plt"
   ]
  },
  {
   "cell_type": "code",
   "execution_count": 92,
   "metadata": {
    "collapsed": false
   },
   "outputs": [],
   "source": [
    "df2=df[(df.loan_status == 'Fully Paid') | (df.loan_status == 'Charged Off') | \n",
    "    (df.loan_status == 'Current')  ].copy()\n",
    "df2['loan_status_num'] = df2.loan_status.map(\n",
    "    {'Charged Off':0, 'Fully Paid':1, 'Current':1})\n",
    "df2['grade_num'] = df2.grade.map({'A':0, 'B':1, 'C':2, 'D':3, 'E':4, 'F':5, 'G':6})\n",
    "df2.sort_values(by='grade_num',inplace=True)\n",
    "gradenames=sorted(df.grade.unique())\n",
    "gradenums = np.arange(0,7)"
   ]
  },
  {
   "cell_type": "code",
   "execution_count": 93,
   "metadata": {
    "collapsed": true
   },
   "outputs": [],
   "source": [
    "# fit a logistic regression model and store the class predictions\n",
    "from sklearn.linear_model import LogisticRegression\n",
    "logreg = LogisticRegression()\n",
    "feature_cols = ['grade_num']\n",
    "X = df2[feature_cols]\n",
    "y = df2.loan_status_num\n",
    "logreg.fit(X, y)\n",
    "df2['loan_status_pred_num'] = logreg.predict(X)"
   ]
  },
  {
   "cell_type": "code",
   "execution_count": 100,
   "metadata": {
    "collapsed": false
   },
   "outputs": [
    {
     "data": {
      "text/plain": [
       "[<matplotlib.text.Text at 0x11bd97310>]"
      ]
     },
     "execution_count": 100,
     "metadata": {},
     "output_type": "execute_result"
    },
    {
     "data": {
      "image/png": "[encoded data removed]",
      "text/plain": [
       "<matplotlib.figure.Figure at 0x11c88b0d0>"
      ]
     },
     "metadata": {},
     "output_type": "display_data"
    }
   ],
   "source": [
    "plt.scatter(df2.grade_num,df2.loan_status_num,label='loan status')\n",
    "plt.plot(df2.grade_num,df2.loan_status_pred_num,color='red')\n",
    "plt.setp(plt.gca(), xticklabels=gradenames, xticks = gradenums)\n",
    "plt.setp(plt.gca(), yticklabels=np.arange(0,1.2,.2), yticks = np.arange(0,1.2,.2))\n",
    "plt.setp(plt.gca(),title = 'Predicted loan status ')"
   ]
  },
  {
   "cell_type": "code",
   "execution_count": 102,
   "metadata": {
    "collapsed": false
   },
   "outputs": [
    {
     "data": {
      "text/plain": [
       "<matplotlib.text.Text at 0x11a048350>"
      ]
     },
     "execution_count": 102,
     "metadata": {},
     "output_type": "execute_result"
    },
    {
     "data": {
      "image/png": "[encoded data removed]",
      "text/plain": [
       "<matplotlib.figure.Figure at 0x1259dc090>"
      ]
     },
     "metadata": {},
     "output_type": "display_data"
    }
   ],
   "source": [
    "fig,ax = plt.subplots()\n",
    "width=.4\n",
    "xlocs=np.arange(0,7)\n",
    "ax.bar(xlocs-width,grouped.loan_status_num.sum(),width,color='k')\n",
    "ax.set_xticks(xlocs)\n",
    "ax.set_xticklabels(sorted(df.grade.unique()))\n",
    "ax.bar(\n",
    "        xlocs,grouped.loan_status_num.apply(lambda item: (item == 0).sum()),width,\n",
    "        color='r')\n",
    "ax.set_title('Loan status by grade')"
   ]
  },
  {
   "cell_type": "code",
   "execution_count": 96,
   "metadata": {
    "collapsed": false
   },
   "outputs": [
    {
     "name": "stdout",
     "output_type": "stream",
     "text": [
      "grade\n",
      "A    0.940301\n",
      "B    0.881814\n",
      "C    0.834444\n",
      "D    0.790158\n",
      "E    0.749295\n",
      "F    0.698095\n",
      "G    0.679365\n",
      "Name: loan_status_num, dtype: float64\n"
     ]
    }
   ],
   "source": [
    "grouped=df2.groupby('grade')\n",
    "probs=grouped.loan_status_num.sum()/grouped.loan_status_num.count()\n",
    "print probs"
   ]
  },
  {
   "cell_type": "code",
   "execution_count": 97,
   "metadata": {
    "collapsed": false,
    "scrolled": true
   },
   "outputs": [
    {
     "data": {
      "text/plain": [
       "[<matplotlib.lines.Line2D at 0x11a152e90>]"
      ]
     },
     "execution_count": 97,
     "metadata": {},
     "output_type": "execute_result"
    },
    {
     "data": {
      "image/png": "[encoded data removed]",
      "text/plain": [
       "<matplotlib.figure.Figure at 0x11c184e90>"
      ]
     },
     "metadata": {},
     "output_type": "display_data"
    }
   ],
   "source": [
    "df2['loan_status_pred_prob']=logreg.predict_proba(X)[:,1]\n",
    "plt.scatter(df2.grade_num,df2.loan_status_num)\n",
    "plt.plot(df2.grade_num,df2.loan_status_pred_prob,color='red')\n",
    "plt.plot(probs,'go-')"
   ]
  },
  {
   "cell_type": "markdown",
   "metadata": {},
   "source": [
    "### I've predicted probabilities based on probabilites."
   ]
  },
  {
   "cell_type": "markdown",
   "metadata": {},
   "source": [
    "## Next Steps:\n",
    "- Pull out rental rate data from Zillow, identify trends\n",
    "- Merge with Lending Club data using zipcodes\n",
    "- Try to create a model that improves on existing Grades"
   ]
  },
  {
   "cell_type": "code",
   "execution_count": null,
   "metadata": {
    "collapsed": true
   },
   "outputs": [],
   "source": []
  }
 ],
 "metadata": {
  "kernelspec": {
   "display_name": "Python 2",
   "language": "python",
   "name": "python2"
  },
  "language_info": {
   "codemirror_mode": {
    "name": "ipython",
    "version": 2
   },
   "file_extension": ".py",
   "mimetype": "text/x-python",
   "name": "python",
   "nbconvert_exporter": "python",
   "pygments_lexer": "ipython2",
   "version": "2.7.11"
  }
 },
 "nbformat": 4,
 "nbformat_minor": 0
}
