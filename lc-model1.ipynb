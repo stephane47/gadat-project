{
 "cells": [
  {
   "cell_type": "markdown",
   "metadata": {},
   "source": [
    "## Load the processed version of the data file"
   ]
  },
  {
   "cell_type": "code",
   "execution_count": 1,
   "metadata": {
    "collapsed": false
   },
   "outputs": [],
   "source": [
    "import time\n",
    "import sys\n",
    "import numpy as np\n",
    "import pandas as pd"
   ]
  },
  {
   "cell_type": "code",
   "execution_count": 2,
   "metadata": {
    "collapsed": false
   },
   "outputs": [
    {
     "name": "stderr",
     "output_type": "stream",
     "text": [
      "/Users/stephane/anaconda/lib/python2.7/site-packages/IPython/core/interactiveshell.py:2723: DtypeWarning: Columns (19,47,55) have mixed types. Specify dtype option on import or set low_memory=False.\n",
      "  interactivity=interactivity, compiler=compiler, result=result)\n"
     ]
    },
    {
     "name": "stdout",
     "output_type": "stream",
     "text": [
      "2073973247 bytes loaded in 27.484 secs\n",
      "(887382, 147)\n"
     ]
    }
   ],
   "source": [
    "#takes about 40 secs to load\n",
    "path = 'data/processed/LoanStats-combined-2.csv'\n",
    "t1 = time.time()\n",
    "df = pd.read_csv(path)\n",
    "t2 = time.time()\n",
    "print \"{} bytes loaded in {:0.3f} secs\".format(sys.getsizeof(df),t2-t1)\n",
    "print df.shape\n"
   ]
  },
  {
   "cell_type": "markdown",
   "metadata": {},
   "source": [
    "## Finally, create a list of features for fitting a model\n",
    "\n",
    "As a first pass, I'm only pulling out numeric features. Text processing can be added later."
   ]
  },
  {
   "cell_type": "code",
   "execution_count": 3,
   "metadata": {
    "collapsed": false
   },
   "outputs": [
    {
     "name": "stdout",
     "output_type": "stream",
     "text": [
      "118\n"
     ]
    }
   ],
   "source": [
    "num_cols=list(df._get_numeric_data().columns) # I spent an unnecessary amount of time figuring out how to do this, and it turns out there's  a builtin for it...\n",
    "# remove cols we won't use for model fitting\n",
    "rem_cols = ['lc_id', 'member_id', 'loan_status_num', 'grade_num']\n",
    "for r in rem_cols:\n",
    "    num_cols.remove(r)\n",
    "#print num_cols\n",
    "print len(num_cols)"
   ]
  },
  {
   "cell_type": "markdown",
   "metadata": {},
   "source": [
    "## After all that, finally ready to try to fit something?"
   ]
  },
  {
   "cell_type": "code",
   "execution_count": 4,
   "metadata": {
    "collapsed": true
   },
   "outputs": [],
   "source": [
    "%matplotlib inline\n",
    "import seaborn as sns\n",
    "import matplotlib.pyplot as plt\n",
    "from sklearn.linear_model import LogisticRegression\n",
    "from sklearn.cross_validation import train_test_split\n",
    "from sklearn import metrics\n"
   ]
  },
  {
   "cell_type": "markdown",
   "metadata": {},
   "source": [
    "### Initially, downsample the DataFrame for quicker testing"
   ]
  },
  {
   "cell_type": "code",
   "execution_count": 5,
   "metadata": {
    "collapsed": false
   },
   "outputs": [
    {
     "name": "stdout",
     "output_type": "stream",
     "text": [
      "(887382, 147)\n",
      "(10000, 147)\n"
     ]
    }
   ],
   "source": [
    "print df.shape\n",
    "minidf=df.sample(n=10000,random_state=22)\n",
    "minidf.sort_values(by='grade_num',inplace=True)\n",
    "print minidf.shape"
   ]
  },
  {
   "cell_type": "markdown",
   "metadata": {},
   "source": [
    "### NaNs are a problem, so one more filtering step:"
   ]
  },
  {
   "cell_type": "code",
   "execution_count": 6,
   "metadata": {
    "collapsed": false
   },
   "outputs": [
    {
     "name": "stdout",
     "output_type": "stream",
     "text": [
      "<class 'pandas.core.frame.DataFrame'> (9775, 10)\n",
      "<class 'pandas.core.series.Series'> (9775,)\n",
      "done\n"
     ]
    }
   ],
   "source": [
    "validindexlist=(minidf.loan_status_num ==1) | (minidf.loan_status_num == 0)\n",
    "#X = df[num_cols][validindexlist].fillna(0)\n",
    "#X = pd.DataFrame(df['grade_num'][validindexlist].fillna(0)) # just grade num, like before\n",
    "#X = pd.DataFrame(\n",
    "#    df[(list(['grade_num'])+num_cols)[0:10]][validindexlist].fillna(0)) # new vals + grade_num\n",
    "X = pd.DataFrame(minidf[num_cols[0:10]][validindexlist].fillna(0)) # just a few new features\n",
    "\n",
    "y = minidf.loan_status_num[validindexlist].fillna(0)\n",
    "print type(X) ,X.shape\n",
    "print type(y), y.shape\n",
    "print 'done'"
   ]
  },
  {
   "cell_type": "markdown",
   "metadata": {},
   "source": [
    "### Now train, test, split"
   ]
  },
  {
   "cell_type": "code",
   "execution_count": 7,
   "metadata": {
    "collapsed": false
   },
   "outputs": [
    {
     "name": "stdout",
     "output_type": "stream",
     "text": [
      "percent of loans successful in y_test: 2295/2444 = 0.939034369885\n",
      "percent of loans predicted to be successful: 2444.0/2444 = 1.0\n",
      "0 []\n",
      "[ 0.  1.]\n",
      "[]\n",
      "[ 0.99930735  0.85470789  0.94877926]\n",
      "done\n"
     ]
    }
   ],
   "source": [
    "X_train, X_test, y_train, y_test = train_test_split(X, y,random_state=22)\n",
    "logreg2 = LogisticRegression()\n",
    "logreg2.fit(X_train,y_train)\n",
    "y_pred_class = logreg2.predict(X_test)\n",
    "y_pred_prob = logreg2.predict_proba(X_test)[:,1]\n",
    "print \"percent of loans successful in y_test: {}/{} = {}\".format(\n",
    "    y_test[y_test == 1].count(), y_test.count(),\n",
    "    float(y_test[y_test == 1].count())/ y_test.count() )\n",
    "print \"percent of loans predicted to be successful: {}/{} = {}\".format(\n",
    "    y_pred_class.sum() , len(y_pred_class),\n",
    "    float(y_pred_class.sum())/len(y_pred_class))\n",
    "                                                                 \n",
    "a = [i for i,x in enumerate(y_pred_class) if x != 1]\n",
    "print len(a), a\n",
    "print logreg2.classes_\n",
    "print y_pred_prob[a]\n",
    "print y_pred_prob[0:3]\n",
    "\n",
    "print 'done'"
   ]
  },
  {
   "cell_type": "markdown",
   "metadata": {},
   "source": [
    "### (this will be a good spot for a confusion matrix)"
   ]
  },
  {
   "cell_type": "code",
   "execution_count": 8,
   "metadata": {
    "collapsed": false
   },
   "outputs": [
    {
     "name": "stdout",
     "output_type": "stream",
     "text": [
      "[[   0  149]\n",
      " [   0 2295]]\n",
      "True Positives: 2295\n",
      "True Negatives: 0\n",
      "False Positives: 149\n",
      "False Negatives: 0\n",
      "1.0\n",
      "0.0\n"
     ]
    }
   ],
   "source": [
    "# save confusion matrix and slice into four pieces\n",
    "confusion = metrics.confusion_matrix(y_test, y_pred_class)\n",
    "print confusion\n",
    "TP = confusion[1][1]\n",
    "TN = confusion[0][0]\n",
    "FP = confusion[0][1]\n",
    "FN = confusion[1][0]\n",
    "print 'True Positives:', TP\n",
    "print 'True Negatives:', TN\n",
    "print 'False Positives:', FP\n",
    "print 'False Negatives:', FN\n",
    "# calculate the sensitivity\n",
    "print TP / float(TP + FN)\n",
    "# calculate the specificity\n",
    "print TN / float(TN + FP)"
   ]
  },
  {
   "cell_type": "code",
   "execution_count": 9,
   "metadata": {
    "collapsed": false
   },
   "outputs": [
    {
     "data": {
      "text/plain": [
       "<matplotlib.text.Text at 0x11db41b90>"
      ]
     },
     "execution_count": 9,
     "metadata": {},
     "output_type": "execute_result"
    },
    {
     "data": {
      "image/png": "[encoded data removed]",
      "text/plain": [
       "<matplotlib.figure.Figure at 0x1184d9f50>"
      ]
     },
     "metadata": {},
     "output_type": "display_data"
    }
   ],
   "source": [
    "plt.hist(y_pred_prob)\n",
    "plt.xlim(0, 1)\n",
    "plt.xlabel('Predicted probability')\n",
    "plt.ylabel('Frequency')"
   ]
  },
  {
   "cell_type": "code",
   "execution_count": 10,
   "metadata": {
    "collapsed": false
   },
   "outputs": [
    {
     "data": {
      "text/plain": [
       "array([<matplotlib.axes._subplots.AxesSubplot object at 0x122082d90>,\n",
       "       <matplotlib.axes._subplots.AxesSubplot object at 0x12232c450>], dtype=object)"
      ]
     },
     "execution_count": 10,
     "metadata": {},
     "output_type": "execute_result"
    },
    {
     "data": {
      "image/png": "[encoded data removed]",
      "text/plain": [
       "<matplotlib.figure.Figure at 0x1184f2e10>"
      ]
     },
     "metadata": {},
     "output_type": "display_data"
    }
   ],
   "source": [
    "tempdf = pd.DataFrame({'probability':y_pred_prob, 'actual':y_test})\n",
    "tempdf.hist(column='probability', by='actual', sharex=True, sharey=True)"
   ]
  },
  {
   "cell_type": "code",
   "execution_count": 11,
   "metadata": {
    "collapsed": false
   },
   "outputs": [
    {
     "data": {
      "text/plain": [
       "[<matplotlib.lines.Line2D at 0x122620690>]"
      ]
     },
     "execution_count": 11,
     "metadata": {},
     "output_type": "execute_result"
    },
    {
     "data": {
      "image/png": "[encoded data removed]",
      "text/plain": [
       "<matplotlib.figure.Figure at 0x1184f2750>"
      ]
     },
     "metadata": {},
     "output_type": "display_data"
    }
   ],
   "source": [
    "# ROC curve using y_pred_class - WRONG!\n",
    "fpr, tpr, thresholds = metrics.roc_curve(y_test, y_pred_prob)\n",
    "plt.plot(fpr, tpr)"
   ]
  },
  {
   "cell_type": "markdown",
   "metadata": {},
   "source": [
    "### To check results of the fit, plot the predicted probabilities\n",
    "\n",
    "This was a first attempt to view a correlation between the predicted probabilities and the outcomes of the loans. I hoped to see more 'defaults' (black points) toward the left, at the lower probabilities. However this graph didn't work very well."
   ]
  },
  {
   "cell_type": "code",
   "execution_count": 12,
   "metadata": {
    "collapsed": false
   },
   "outputs": [
    {
     "name": "stderr",
     "output_type": "stream",
     "text": [
      "/Users/stephane/anaconda/lib/python2.7/site-packages/ipykernel/__main__.py:4: VisibleDeprecationWarning: non integer (and non boolean) array-likes will not be accepted as indices in the future\n"
     ]
    },
    {
     "name": "stdout",
     "output_type": "stream",
     "text": [
      "<class 'pandas.core.series.Series'>\n",
      "2444 2444\n",
      "1.0 0.0\n",
      "(2444,) (2444,) 2444 (2444,)\n"
     ]
    },
    {
     "name": "stderr",
     "output_type": "stream",
     "text": [
      "/Users/stephane/anaconda/lib/python2.7/site-packages/matplotlib/collections.py:590: FutureWarning: elementwise comparison failed; returning scalar instead, but in the future will perform elementwise comparison\n",
      "  if self._edgecolors == str('face'):\n"
     ]
    },
    {
     "data": {
      "image/png": "[encoded data removed]",
      "text/plain": [
       "<matplotlib.figure.Figure at 0x122067ed0>"
      ]
     },
     "metadata": {},
     "output_type": "display_data"
    }
   ],
   "source": [
    "sis = y_pred_prob.argsort()\n",
    "colormap = np.array(['k', 'r'])\n",
    "plt.figure(figsize=(16, 3))\n",
    "plt.scatter(range(len(y_pred_prob)),y_pred_prob[sis],color=colormap[list(y_test.iloc[sis])])\n",
    "plt.xlim([0,len(y_test)])\n",
    "#plt.scatter(range(len(y_test)),y_test.iloc[sis],color=colormap[list(y_test.iloc[sis])])\n",
    "print type(y_test)\n",
    "\n",
    "print len(y_test),len(sis)\n",
    "print max(y_test),min(y_test)\n",
    "print y_test.shape,sis.shape,len(y_test[sis]),y_test[sis].shape"
   ]
  },
  {
   "cell_type": "markdown",
   "metadata": {},
   "source": [
    "### Second attempt to evaluate the model graphically\n",
    "\n",
    "This graph shows a boxplot of predicted probabilities broken down into 2 groups based on outcome. It is clear that 'successful' loans (loan_status_num ==1) have a higher distribution of predicted probabilites than 'unsuccessful' loans (loan_status_num == 0)."
   ]
  },
  {
   "cell_type": "code",
   "execution_count": 13,
   "metadata": {
    "collapsed": false
   },
   "outputs": [
    {
     "name": "stdout",
     "output_type": "stream",
     "text": [
      "1.0    2295\n",
      "0.0     149\n",
      "Name: loan_status_num, dtype: int64\n"
     ]
    },
    {
     "data": {
      "image/png": "[encoded data removed]",
      "text/plain": [
       "<matplotlib.figure.Figure at 0x12250cd50>"
      ]
     },
     "metadata": {},
     "output_type": "display_data"
    }
   ],
   "source": [
    "# merge these things into a single dataframe for plotting:\n",
    "testdf=pd.concat([X_test,y_test,pd.DataFrame(y_pred_prob,columns=['y_pred_prob'])],axis=1)\n",
    "testdf.boxplot(column='y_pred_prob',by='loan_status_num')\n",
    "print testdf.loan_status_num.value_counts()"
   ]
  },
  {
   "cell_type": "code",
   "execution_count": 14,
   "metadata": {
    "collapsed": false
   },
   "outputs": [
    {
     "data": {
      "text/plain": [
       "loan_status_num      \n",
       "0.0              0.25    0.921093\n",
       "                 0.50    0.951574\n",
       "                 0.75    0.954301\n",
       "                 1.00    0.961685\n",
       "1.0              0.25    0.867602\n",
       "                 0.50    0.892129\n",
       "                 0.75    0.933132\n",
       "                 1.00    0.974136\n",
       "dtype: float64"
      ]
     },
     "execution_count": 14,
     "metadata": {},
     "output_type": "execute_result"
    }
   ],
   "source": [
    "grouped = testdf.groupby('loan_status_num')\n",
    "grouped.y_pred_prob.quantile([.25, .5, .75, 1])\n"
   ]
  },
  {
   "cell_type": "code",
   "execution_count": null,
   "metadata": {
    "collapsed": false
   },
   "outputs": [],
   "source": [
    "#plt.scatter(df.grade_num,df.loan_status_num,label='loan status')\n",
    "#plt.plot(df2.grade_num,df2.loan_status_pred_num,color='red')\n",
    "#plt.plot(X_test['grade_num'].sort_values(),y_pred_class,color='red')\n",
    "#plt.setp(plt.gca(), xticklabels=gradenames, xticks = gradenums)\n",
    "#plt.setp(plt.gca(), yticklabels=np.arange(0,1.2,.2), yticks = np.arange(0,1.2,.2))\n",
    "#plt.setp(plt.gca(),title = 'Predicted loan status, test set')"
   ]
  },
  {
   "cell_type": "markdown",
   "metadata": {},
   "source": [
    "## next..."
   ]
  },
  {
   "cell_type": "code",
   "execution_count": null,
   "metadata": {
    "collapsed": false
   },
   "outputs": [],
   "source": [
    "print 'done'"
   ]
  },
  {
   "cell_type": "code",
   "execution_count": null,
   "metadata": {
    "collapsed": false
   },
   "outputs": [],
   "source": [
    "print total_success_rate\n",
    "print \"percent of loans successful in y_test: {}/{} = {}\".format(y_test[y_test == 1].count(), y_test.count(),\n",
    "                                                       float(y_test[y_test == 1].count())/ y_test.count() )\n",
    "print \"logreg class prediction accuracy:\" , metrics.accuracy_score(y_test, y_pred_class)\n",
    "print \"guess all successful accuracy: \", metrics.accuracy_score(y_test,[1]*len(y_test))"
   ]
  },
  {
   "cell_type": "code",
   "execution_count": null,
   "metadata": {
    "collapsed": false
   },
   "outputs": [],
   "source": [
    "grouped=minidf.groupby('grade')\n",
    "probs=grouped.loan_status_num.sum()/grouped.loan_status_num.count()\n",
    "print probs"
   ]
  },
  {
   "cell_type": "code",
   "execution_count": null,
   "metadata": {
    "collapsed": false
   },
   "outputs": [],
   "source": [
    "fig,ax = plt.subplots()\n",
    "width=.4\n",
    "xlocs=np.arange(0,7)\n",
    "ax.bar(xlocs-width,grouped.loan_status_num.sum(),width,color='k')\n",
    "ax.set_xticks(xlocs)\n",
    "ax.set_xticklabels(sorted(minidf.grade.unique()))\n",
    "ax.bar(\n",
    "        xlocs,grouped.loan_status_num.apply(lambda item: (item == 0).sum()),width,\n",
    "        color='r')\n",
    "ax.set_title('Loan status by grade')"
   ]
  },
  {
   "cell_type": "code",
   "execution_count": null,
   "metadata": {
    "collapsed": false
   },
   "outputs": [],
   "source": [
    "#df2['loan_status_pred_prob']=logreg.predict_proba(X)[:,1]\n",
    "plt.scatter(minidf.grade_num,minidf.loan_status_num)\n",
    "#plt.plot(df2.grade_num,df2.loan_status_pred_prob,color='red')\n",
    "X_test_s=X_test.sort_values(by='grade_num').grade_num.reshape(-1,1)\n",
    "plt.plot(X_test_s,logreg2.predict_proba(X_test_s)[:,1],color='red')\n",
    "\n",
    "plt.plot(probs,'go-')"
   ]
  },
  {
   "cell_type": "code",
   "execution_count": null,
   "metadata": {
    "collapsed": true
   },
   "outputs": [],
   "source": []
  }
 ],
 "metadata": {
  "kernelspec": {
   "display_name": "Python 2",
   "language": "python",
   "name": "python2"
  },
  "language_info": {
   "codemirror_mode": {
    "name": "ipython",
    "version": 2
   },
   "file_extension": ".py",
   "mimetype": "text/x-python",
   "name": "python",
   "nbconvert_exporter": "python",
   "pygments_lexer": "ipython2",
   "version": "2.7.11"
  }
 },
 "nbformat": 4,
 "nbformat_minor": 0
}
